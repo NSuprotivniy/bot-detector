{
 "cells": [
  {
   "cell_type": "code",
   "execution_count": 1,
   "metadata": {},
   "outputs": [],
   "source": [
    "DATA_DIR = '/home/nsuprotivniy/Documents/Работа/OKru/Antispam/data/'\n",
    "SAMPLE_SIZE = -1"
   ]
  },
  {
   "cell_type": "code",
   "execution_count": 2,
   "metadata": {},
   "outputs": [
    {
     "name": "stdout",
     "output_type": "stream",
     "text": [
      "Requirement already satisfied: pyarrow in /home/nsuprotivniy/anaconda3/lib/python3.6/site-packages\n",
      "Requirement already satisfied: numpy>=1.10 in /home/nsuprotivniy/anaconda3/lib/python3.6/site-packages (from pyarrow)\n",
      "Requirement already satisfied: six>=1.0.0 in /home/nsuprotivniy/anaconda3/lib/python3.6/site-packages (from pyarrow)\n",
      "\u001b[33mYou are using pip version 9.0.1, however version 9.0.3 is available.\n",
      "You should consider upgrading via the 'pip install --upgrade pip' command.\u001b[0m\n"
     ]
    }
   ],
   "source": [
    "!pip install pyarrow\n",
    "import numpy as np\n",
    "import pandas as pd\n",
    "import pyarrow.parquet as pq\n",
    "import pyarrow as pa\n",
    "import seaborn as sns\n",
    "import user_agents\n",
    "%matplotlib inline\n",
    "from matplotlib import pyplot as plt\n",
    "\n",
    "from sklearn.model_selection import train_test_split, StratifiedKFold\n",
    "from sklearn.model_selection import GridSearchCV, cross_val_score\n",
    "from sklearn.tree import DecisionTreeClassifier\n",
    "from sklearn.neighbors import KNeighborsClassifier\n",
    "from sklearn.feature_extraction.text import CountVectorizer\n",
    "from sklearn.preprocessing import LabelEncoder\n",
    "from sklearn.pipeline import Pipeline\n",
    "from sklearn.preprocessing import StandardScaler\n",
    "from sklearn.ensemble import RandomForestClassifier\n",
    "from sklearn.metrics import f1_score\n",
    "from sklearn.tree import export_graphviz\n",
    "\n",
    "from random import *"
   ]
  },
  {
   "cell_type": "code",
   "execution_count": 3,
   "metadata": {},
   "outputs": [],
   "source": [
    "columns=['USER_ID', 'TIMESTAMP', 'LOGIN_CREDENTIAL_TYPE']\n",
    "botsLogins = pq.read_table(DATA_DIR + 'botsLogins.parquet', columns=columns).to_pandas().head(SAMPLE_SIZE >> 1)\n",
    "usersLogins = pq.read_table(DATA_DIR + 'usersLogins.parquet', columns=columns).to_pandas().head(SAMPLE_SIZE >> 1)"
   ]
  },
  {
   "cell_type": "code",
   "execution_count": 4,
   "metadata": {},
   "outputs": [],
   "source": [
    "botsLogins['isBot'] = 1\n",
    "usersLogins['isBot'] = 0\n",
    "logins = botsLogins.append(usersLogins)"
   ]
  },
  {
   "cell_type": "code",
   "execution_count": 5,
   "metadata": {},
   "outputs": [],
   "source": [
    "#logins = logins[logins['LOGIN_CREDENTIAL_TYPE'].isin(['LOGIN')]"
   ]
  },
  {
   "cell_type": "code",
   "execution_count": 6,
   "metadata": {},
   "outputs": [],
   "source": [
    "# rid = randrange(0, botsLogins['USER_ID'].count())\n",
    "# ruid = botsLogins.iloc(0)[rid]['USER_ID']\n",
    "# rlogins = botsLogins[botsLogins['USER_ID'] == ruid]\n",
    "# plt.figure(figsize=(15, 10), dpi= 70, facecolor='w', edgecolor='k')\n",
    "# ts_types = ['EMAIL', 'PHONE', 'LOGIN', 'API_TOKEN', 'AUTH_CODE', 'SOCIAL_API_TOKEN', 'JSESSION_ID', 'USER_ID_NO_PASSWORD']\n",
    "# cmap = plt.get_cmap('viridis')\n",
    "# colors = cmap(np.linspace(0, 1, len(ts_types)))\n",
    "\n",
    "# for i in range(0, len(ts_types)):\n",
    "#     data = rlogins[rlogins['LOGIN_CREDENTIAL_TYPE'] == ts_types[i]]['TIMESTAMP']\n",
    "#     print(data.count(), ts_types[i])\n",
    "#     plt.scatter(data, [i] * data.count(), c=colors[i], label=ts_types[i])\n",
    "# plt.legend();"
   ]
  },
  {
   "cell_type": "code",
   "execution_count": 7,
   "metadata": {},
   "outputs": [
    {
     "data": {
      "text/plain": [
       "LOGIN_CREDENTIAL_TYPE\n",
       "API_SESSION            0.000751\n",
       "API_TOKEN              0.835125\n",
       "AUTH_CODE              0.138116\n",
       "EMAIL                  0.006535\n",
       "JSESSION_ID            0.153228\n",
       "LOGIN                  0.027239\n",
       "MESSENGER              0.006939\n",
       "PHONE                  0.005403\n",
       "SOCIAL_API_TOKEN       0.000003\n",
       "TWO_FACTOR             0.000073\n",
       "USER_ID                0.000016\n",
       "USER_ID_NO_PASSWORD    0.057862\n",
       "dtype: float64"
      ]
     },
     "execution_count": 7,
     "metadata": {},
     "output_type": "execute_result"
    }
   ],
   "source": [
    "cred_counts_all = logins.groupby(['USER_ID', 'LOGIN_CREDENTIAL_TYPE']).size().unstack(fill_value=0)\n",
    "cred_counts_all.mean()"
   ]
  },
  {
   "cell_type": "code",
   "execution_count": 8,
   "metadata": {},
   "outputs": [
    {
     "data": {
      "text/plain": [
       "LOGIN_CREDENTIAL_TYPE\n",
       "API_SESSION            0.024002\n",
       "API_TOKEN              0.383307\n",
       "AUTH_CODE              1.963696\n",
       "EMAIL                  0.909179\n",
       "JSESSION_ID            9.661320\n",
       "LOGIN                  6.887710\n",
       "MESSENGER              0.009046\n",
       "PHONE                  0.726330\n",
       "SOCIAL_API_TOKEN       0.000362\n",
       "TWO_FACTOR             0.000724\n",
       "USER_ID                0.000482\n",
       "USER_ID_NO_PASSWORD    0.651067\n",
       "dtype: float64"
      ]
     },
     "execution_count": 8,
     "metadata": {},
     "output_type": "execute_result"
    }
   ],
   "source": [
    "cred_counts_bots = botsLogins.groupby(['USER_ID', 'LOGIN_CREDENTIAL_TYPE']).size().unstack(fill_value=0)\n",
    "cred_counts_bots.mean()"
   ]
  },
  {
   "cell_type": "code",
   "execution_count": 9,
   "metadata": {},
   "outputs": [
    {
     "data": {
      "text/plain": [
       "LOGIN_CREDENTIAL_TYPE\n",
       "API_SESSION            0.000721\n",
       "API_TOKEN              0.835698\n",
       "AUTH_CODE              0.135800\n",
       "EMAIL                  0.005390\n",
       "JSESSION_ID            0.141165\n",
       "LOGIN                  0.018535\n",
       "MESSENGER              0.006937\n",
       "PHONE                  0.004488\n",
       "SOCIAL_API_TOKEN       0.000002\n",
       "TWO_FACTOR             0.000072\n",
       "USER_ID                0.000015\n",
       "USER_ID_NO_PASSWORD    0.057109\n",
       "dtype: float64"
      ]
     },
     "execution_count": 9,
     "metadata": {},
     "output_type": "execute_result"
    }
   ],
   "source": [
    "cred_counts_users = usersLogins.groupby(['USER_ID', 'LOGIN_CREDENTIAL_TYPE']).size().unstack(fill_value=0)\n",
    "cred_counts_users.mean()"
   ]
  },
  {
   "cell_type": "code",
   "execution_count": 10,
   "metadata": {},
   "outputs": [
    {
     "data": {
      "text/html": [
       "<div>\n",
       "<style scoped>\n",
       "    .dataframe tbody tr th:only-of-type {\n",
       "        vertical-align: middle;\n",
       "    }\n",
       "\n",
       "    .dataframe tbody tr th {\n",
       "        vertical-align: top;\n",
       "    }\n",
       "\n",
       "    .dataframe thead th {\n",
       "        text-align: right;\n",
       "    }\n",
       "</style>\n",
       "<table border=\"1\" class=\"dataframe\">\n",
       "  <thead>\n",
       "    <tr style=\"text-align: right;\">\n",
       "      <th></th>\n",
       "      <th>all</th>\n",
       "      <th>bots</th>\n",
       "      <th>users</th>\n",
       "    </tr>\n",
       "    <tr>\n",
       "      <th>LOGIN_CREDENTIAL_TYPE</th>\n",
       "      <th></th>\n",
       "      <th></th>\n",
       "      <th></th>\n",
       "    </tr>\n",
       "  </thead>\n",
       "  <tbody>\n",
       "    <tr>\n",
       "      <th>API_SESSION</th>\n",
       "      <td>0.000751</td>\n",
       "      <td>0.024002</td>\n",
       "      <td>0.000721</td>\n",
       "    </tr>\n",
       "    <tr>\n",
       "      <th>API_TOKEN</th>\n",
       "      <td>0.835125</td>\n",
       "      <td>0.383307</td>\n",
       "      <td>0.835698</td>\n",
       "    </tr>\n",
       "    <tr>\n",
       "      <th>AUTH_CODE</th>\n",
       "      <td>0.138116</td>\n",
       "      <td>1.963696</td>\n",
       "      <td>0.135800</td>\n",
       "    </tr>\n",
       "    <tr>\n",
       "      <th>EMAIL</th>\n",
       "      <td>0.006535</td>\n",
       "      <td>0.909179</td>\n",
       "      <td>0.005390</td>\n",
       "    </tr>\n",
       "    <tr>\n",
       "      <th>JSESSION_ID</th>\n",
       "      <td>0.153228</td>\n",
       "      <td>9.661320</td>\n",
       "      <td>0.141165</td>\n",
       "    </tr>\n",
       "    <tr>\n",
       "      <th>LOGIN</th>\n",
       "      <td>0.027239</td>\n",
       "      <td>6.887710</td>\n",
       "      <td>0.018535</td>\n",
       "    </tr>\n",
       "    <tr>\n",
       "      <th>MESSENGER</th>\n",
       "      <td>0.006939</td>\n",
       "      <td>0.009046</td>\n",
       "      <td>0.006937</td>\n",
       "    </tr>\n",
       "    <tr>\n",
       "      <th>PHONE</th>\n",
       "      <td>0.005403</td>\n",
       "      <td>0.726330</td>\n",
       "      <td>0.004488</td>\n",
       "    </tr>\n",
       "    <tr>\n",
       "      <th>SOCIAL_API_TOKEN</th>\n",
       "      <td>0.000003</td>\n",
       "      <td>0.000362</td>\n",
       "      <td>0.000002</td>\n",
       "    </tr>\n",
       "    <tr>\n",
       "      <th>TWO_FACTOR</th>\n",
       "      <td>0.000073</td>\n",
       "      <td>0.000724</td>\n",
       "      <td>0.000072</td>\n",
       "    </tr>\n",
       "    <tr>\n",
       "      <th>USER_ID</th>\n",
       "      <td>0.000016</td>\n",
       "      <td>0.000482</td>\n",
       "      <td>0.000015</td>\n",
       "    </tr>\n",
       "    <tr>\n",
       "      <th>USER_ID_NO_PASSWORD</th>\n",
       "      <td>0.057862</td>\n",
       "      <td>0.651067</td>\n",
       "      <td>0.057109</td>\n",
       "    </tr>\n",
       "  </tbody>\n",
       "</table>\n",
       "</div>"
      ],
      "text/plain": [
       "                            all      bots     users\n",
       "LOGIN_CREDENTIAL_TYPE                              \n",
       "API_SESSION            0.000751  0.024002  0.000721\n",
       "API_TOKEN              0.835125  0.383307  0.835698\n",
       "AUTH_CODE              0.138116  1.963696  0.135800\n",
       "EMAIL                  0.006535  0.909179  0.005390\n",
       "JSESSION_ID            0.153228  9.661320  0.141165\n",
       "LOGIN                  0.027239  6.887710  0.018535\n",
       "MESSENGER              0.006939  0.009046  0.006937\n",
       "PHONE                  0.005403  0.726330  0.004488\n",
       "SOCIAL_API_TOKEN       0.000003  0.000362  0.000002\n",
       "TWO_FACTOR             0.000073  0.000724  0.000072\n",
       "USER_ID                0.000016  0.000482  0.000015\n",
       "USER_ID_NO_PASSWORD    0.057862  0.651067  0.057109"
      ]
     },
     "execution_count": 10,
     "metadata": {},
     "output_type": "execute_result"
    }
   ],
   "source": [
    "pd.DataFrame({'users': cred_counts_users.mean(), 'bots': cred_counts_bots.mean(), 'all': cred_counts_all.mean()})"
   ]
  },
  {
   "cell_type": "code",
   "execution_count": 11,
   "metadata": {},
   "outputs": [
    {
     "name": "stdout",
     "output_type": "stream",
     "text": [
      "CPU times: user 4.74 s, sys: 380 ms, total: 5.12 s\n",
      "Wall time: 5.12 s\n"
     ]
    }
   ],
   "source": [
    "%%time\n",
    "ts_min = logins['TIMESTAMP'].min()\n",
    "logins['TS_PART'] = logins['TIMESTAMP'].apply(lambda x: int((x - ts_min) / 60000))"
   ]
  },
  {
   "cell_type": "code",
   "execution_count": 12,
   "metadata": {},
   "outputs": [
    {
     "name": "stdout",
     "output_type": "stream",
     "text": [
      "CPU times: user 1min 24s, sys: 6.51 s, total: 1min 30s\n",
      "Wall time: 1min 52s\n"
     ]
    }
   ],
   "source": [
    "%%time\n",
    "ts_part_cred_count = logins.groupby(['TS_PART','USER_ID', 'isBot', 'LOGIN_CREDENTIAL_TYPE']).size().unstack(fill_value=0)\n",
    "ts_part_cred_count.rename(index=str, columns={\"USER_ID\": \"USER_ID_TYPE\"}, inplace=True)\n",
    "ts_part_cred_count.reset_index(inplace=True)"
   ]
  },
  {
   "cell_type": "code",
   "execution_count": 13,
   "metadata": {},
   "outputs": [
    {
     "data": {
      "text/html": [
       "<div>\n",
       "<style scoped>\n",
       "    .dataframe tbody tr th:only-of-type {\n",
       "        vertical-align: middle;\n",
       "    }\n",
       "\n",
       "    .dataframe tbody tr th {\n",
       "        vertical-align: top;\n",
       "    }\n",
       "\n",
       "    .dataframe thead th {\n",
       "        text-align: right;\n",
       "    }\n",
       "</style>\n",
       "<table border=\"1\" class=\"dataframe\">\n",
       "  <thead>\n",
       "    <tr style=\"text-align: right;\">\n",
       "      <th>LOGIN_CREDENTIAL_TYPE</th>\n",
       "      <th>TS_PART</th>\n",
       "      <th>USER_ID</th>\n",
       "      <th>isBot</th>\n",
       "      <th>API_SESSION</th>\n",
       "      <th>API_TOKEN</th>\n",
       "      <th>AUTH_CODE</th>\n",
       "      <th>EMAIL</th>\n",
       "      <th>JSESSION_ID</th>\n",
       "      <th>LOGIN</th>\n",
       "      <th>MESSENGER</th>\n",
       "      <th>PHONE</th>\n",
       "      <th>SOCIAL_API_TOKEN</th>\n",
       "      <th>TWO_FACTOR</th>\n",
       "      <th>USER_ID_TYPE</th>\n",
       "      <th>USER_ID_NO_PASSWORD</th>\n",
       "    </tr>\n",
       "  </thead>\n",
       "  <tbody>\n",
       "    <tr>\n",
       "      <th>0</th>\n",
       "      <td>0</td>\n",
       "      <td>+i+1RrUvgJSBjn81rbahVQ==</td>\n",
       "      <td>0</td>\n",
       "      <td>0</td>\n",
       "      <td>1</td>\n",
       "      <td>0</td>\n",
       "      <td>0</td>\n",
       "      <td>0</td>\n",
       "      <td>0</td>\n",
       "      <td>0</td>\n",
       "      <td>0</td>\n",
       "      <td>0</td>\n",
       "      <td>0</td>\n",
       "      <td>0</td>\n",
       "      <td>0</td>\n",
       "    </tr>\n",
       "    <tr>\n",
       "      <th>1</th>\n",
       "      <td>0</td>\n",
       "      <td>0KDCv6C5Z/kgj8/85vbGLg==</td>\n",
       "      <td>0</td>\n",
       "      <td>0</td>\n",
       "      <td>0</td>\n",
       "      <td>0</td>\n",
       "      <td>1</td>\n",
       "      <td>0</td>\n",
       "      <td>0</td>\n",
       "      <td>0</td>\n",
       "      <td>0</td>\n",
       "      <td>0</td>\n",
       "      <td>0</td>\n",
       "      <td>0</td>\n",
       "      <td>0</td>\n",
       "    </tr>\n",
       "    <tr>\n",
       "      <th>2</th>\n",
       "      <td>0</td>\n",
       "      <td>0QbpukZlig9o975h7t41CQ==</td>\n",
       "      <td>0</td>\n",
       "      <td>0</td>\n",
       "      <td>1</td>\n",
       "      <td>0</td>\n",
       "      <td>0</td>\n",
       "      <td>0</td>\n",
       "      <td>0</td>\n",
       "      <td>0</td>\n",
       "      <td>0</td>\n",
       "      <td>0</td>\n",
       "      <td>0</td>\n",
       "      <td>0</td>\n",
       "      <td>0</td>\n",
       "    </tr>\n",
       "    <tr>\n",
       "      <th>3</th>\n",
       "      <td>0</td>\n",
       "      <td>17glEQaGl3XOREG0dGknzg==</td>\n",
       "      <td>0</td>\n",
       "      <td>0</td>\n",
       "      <td>1</td>\n",
       "      <td>0</td>\n",
       "      <td>0</td>\n",
       "      <td>0</td>\n",
       "      <td>0</td>\n",
       "      <td>0</td>\n",
       "      <td>0</td>\n",
       "      <td>0</td>\n",
       "      <td>0</td>\n",
       "      <td>0</td>\n",
       "      <td>0</td>\n",
       "    </tr>\n",
       "    <tr>\n",
       "      <th>4</th>\n",
       "      <td>0</td>\n",
       "      <td>1Ba+CG+zW6QLgPD+XHfTZQ==</td>\n",
       "      <td>1</td>\n",
       "      <td>0</td>\n",
       "      <td>0</td>\n",
       "      <td>1</td>\n",
       "      <td>0</td>\n",
       "      <td>0</td>\n",
       "      <td>0</td>\n",
       "      <td>0</td>\n",
       "      <td>0</td>\n",
       "      <td>0</td>\n",
       "      <td>0</td>\n",
       "      <td>0</td>\n",
       "      <td>0</td>\n",
       "    </tr>\n",
       "  </tbody>\n",
       "</table>\n",
       "</div>"
      ],
      "text/plain": [
       "LOGIN_CREDENTIAL_TYPE TS_PART                   USER_ID isBot  API_SESSION  \\\n",
       "0                           0  +i+1RrUvgJSBjn81rbahVQ==     0            0   \n",
       "1                           0  0KDCv6C5Z/kgj8/85vbGLg==     0            0   \n",
       "2                           0  0QbpukZlig9o975h7t41CQ==     0            0   \n",
       "3                           0  17glEQaGl3XOREG0dGknzg==     0            0   \n",
       "4                           0  1Ba+CG+zW6QLgPD+XHfTZQ==     1            0   \n",
       "\n",
       "LOGIN_CREDENTIAL_TYPE  API_TOKEN  AUTH_CODE  EMAIL  JSESSION_ID  LOGIN  \\\n",
       "0                              1          0      0            0      0   \n",
       "1                              0          0      1            0      0   \n",
       "2                              1          0      0            0      0   \n",
       "3                              1          0      0            0      0   \n",
       "4                              0          1      0            0      0   \n",
       "\n",
       "LOGIN_CREDENTIAL_TYPE  MESSENGER  PHONE  SOCIAL_API_TOKEN  TWO_FACTOR  \\\n",
       "0                              0      0                 0           0   \n",
       "1                              0      0                 0           0   \n",
       "2                              0      0                 0           0   \n",
       "3                              0      0                 0           0   \n",
       "4                              0      0                 0           0   \n",
       "\n",
       "LOGIN_CREDENTIAL_TYPE  USER_ID_TYPE  USER_ID_NO_PASSWORD  \n",
       "0                                 0                    0  \n",
       "1                                 0                    0  \n",
       "2                                 0                    0  \n",
       "3                                 0                    0  \n",
       "4                                 0                    0  "
      ]
     },
     "execution_count": 13,
     "metadata": {},
     "output_type": "execute_result"
    }
   ],
   "source": [
    "ts_part_cred_count.head()"
   ]
  },
  {
   "cell_type": "code",
   "execution_count": 14,
   "metadata": {},
   "outputs": [
    {
     "data": {
      "text/plain": [
       "LOGIN_CREDENTIAL_TYPE\n",
       "TS_PART                7994610\n",
       "USER_ID                7994610\n",
       "isBot                  7994610\n",
       "API_SESSION            7994610\n",
       "API_TOKEN              7994610\n",
       "AUTH_CODE              7994610\n",
       "EMAIL                  7994610\n",
       "JSESSION_ID            7994610\n",
       "LOGIN                  7994610\n",
       "MESSENGER              7994610\n",
       "PHONE                  7994610\n",
       "SOCIAL_API_TOKEN       7994610\n",
       "TWO_FACTOR             7994610\n",
       "USER_ID_TYPE           7994610\n",
       "USER_ID_NO_PASSWORD    7994610\n",
       "dtype: int64"
      ]
     },
     "execution_count": 14,
     "metadata": {},
     "output_type": "execute_result"
    }
   ],
   "source": [
    "ts_part_cred_count.count()"
   ]
  },
  {
   "cell_type": "code",
   "execution_count": 15,
   "metadata": {
    "scrolled": true
   },
   "outputs": [],
   "source": [
    "# %%time\n",
    "# ts_part_cred_count.mean()"
   ]
  },
  {
   "cell_type": "code",
   "execution_count": 16,
   "metadata": {},
   "outputs": [],
   "source": [
    "features = ['API_SESSION', 'API_TOKEN', 'AUTH_CODE',\n",
    "            'EMAIL', 'JSESSION_ID', 'LOGIN', 'MESSENGER', 'PHONE',\n",
    "            'SOCIAL_API_TOKEN', 'TWO_FACTOR', 'USER_ID_TYPE',\n",
    "            'USER_ID_NO_PASSWORD']\n",
    "X = ts_part_cred_count[features]\n",
    "y = ts_part_cred_count['isBot'].astype('int64')"
   ]
  },
  {
   "cell_type": "code",
   "execution_count": 17,
   "metadata": {},
   "outputs": [
    {
     "data": {
      "text/plain": [
       "0.14514540127681894"
      ]
     },
     "execution_count": 17,
     "metadata": {},
     "output_type": "execute_result"
    }
   ],
   "source": [
    "forest = RandomForestClassifier()\n",
    "forest.fit(X, y)\n",
    "predicted = forest.predict(X)\n",
    "f1_score(y, predicted)"
   ]
  },
  {
   "cell_type": "code",
   "execution_count": 18,
   "metadata": {
    "scrolled": false
   },
   "outputs": [],
   "source": [
    "# DEPTH_RANGE = range(1, 10, 5)\n",
    "# MAX_FEATURES_RANGE = range(1, len(features), 5)\n",
    "# forest = RandomForestClassifier(n_estimators=100,\n",
    "#                                 n_jobs=-1, \n",
    "#                                 random_state=17)\n",
    "# forest_params = {'max_depth': DEPTH_RANGE,'max_features': MAX_FEATURES_RANGE}\n",
    "# forest_grid = GridSearchCV(forest, forest_params, cv=2, n_jobs=-1, verbose=True, scoring='f1')\n",
    "# forest_grid.fit(X, y)\n",
    "# forest_grid.best_params_, forest_grid.best_score_ "
   ]
  },
  {
   "cell_type": "code",
   "execution_count": null,
   "metadata": {},
   "outputs": [],
   "source": []
  }
 ],
 "metadata": {
  "kernelspec": {
   "display_name": "Python 3",
   "language": "python",
   "name": "python3"
  },
  "language_info": {
   "codemirror_mode": {
    "name": "ipython",
    "version": 3
   },
   "file_extension": ".py",
   "mimetype": "text/x-python",
   "name": "python",
   "nbconvert_exporter": "python",
   "pygments_lexer": "ipython3",
   "version": "3.6.4"
  }
 },
 "nbformat": 4,
 "nbformat_minor": 2
}
