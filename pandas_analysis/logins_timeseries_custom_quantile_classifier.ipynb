{
 "cells": [
  {
   "cell_type": "code",
   "execution_count": 1,
   "metadata": {},
   "outputs": [],
   "source": [
    "DATA_DIR = '/home/nsuprotivniy/Documents/Работа/OKru/Antispam/data/'"
   ]
  },
  {
   "cell_type": "code",
   "execution_count": 2,
   "metadata": {},
   "outputs": [],
   "source": [
    "import numpy as np\n",
    "import pandas as pd\n",
    "import pyarrow.parquet as pq\n",
    "import seaborn as sns\n",
    "%matplotlib inline\n",
    "from matplotlib import pyplot as plt\n",
    "pd.set_option(\"display.precision\", 2)\n",
    "from sklearn import preprocessing\n",
    "import datetime\n",
    "pd.options.mode.chained_assignment = None\n",
    "from sklearn.metrics import f1_score"
   ]
  },
  {
   "cell_type": "code",
   "execution_count": 3,
   "metadata": {},
   "outputs": [],
   "source": [
    "columns=['USER_ID', 'TIMESTAMP']\n",
    "botsLogins = pq.read_table(DATA_DIR + 'botsLogins.parquet', columns=columns).to_pandas()\n",
    "usersLogins = pq.read_table(DATA_DIR + 'usersLogins.parquet', columns=columns).to_pandas()"
   ]
  },
  {
   "cell_type": "code",
   "execution_count": 4,
   "metadata": {},
   "outputs": [],
   "source": [
    "botsLogins['isBot'] = 1\n",
    "usersLogins['isBot'] = 0\n",
    "logins = botsLogins.append(usersLogins)"
   ]
  },
  {
   "cell_type": "code",
   "execution_count": 5,
   "metadata": {},
   "outputs": [],
   "source": [
    "from sklearn.base import BaseEstimator, ClassifierMixin\n",
    "\n",
    "class TSClassifier(BaseEstimator, ClassifierMixin):  \n",
    "\n",
    "    def __init__(self, quantile=0.2, parts=4, short_parts=168):\n",
    "        self.quantile = quantile\n",
    "        self.parts = parts\n",
    "        self.short_parts = short_parts\n",
    "\n",
    "\n",
    "    def fit(self, X, y=None):\n",
    "        self.max_ts = X['TIMESTAMP'].max()\n",
    "        self.min_ts = X['TIMESTAMP'].min()        \n",
    "        self.period = (self.max_ts - self.min_ts) / self.parts\n",
    "        self.short_period = self.period / self.short_parts\n",
    "        \n",
    "        X['TS_GROUP'] = X['TIMESTAMP'].apply(self._group_ts)\n",
    "    \n",
    "        bots_quantile = X[y == 1]\\\n",
    "                    .groupby(['TS_GROUP', 'USER_ID']).size()\\\n",
    "                    .groupby('TS_GROUP').value_counts()\\\n",
    "                    .groupby('TS_GROUP').quantile(self.quantile)\n",
    "            \n",
    "        users_quantile = X[y == 0]\\\n",
    "                    .groupby(['TS_GROUP', 'USER_ID']).size()\\\n",
    "                    .groupby('TS_GROUP').value_counts()\\\n",
    "                    .groupby('TS_GROUP').quantile(self.quantile)\n",
    "        \n",
    "        self.quantile_table = pd.DataFrame(bots_quantile, columns=['size'])\\\n",
    "            .join(pd.DataFrame(users_quantile, columns=['size']),\\\n",
    "                  how='outer', lsuffix='_bots', rsuffix='_users').fillna(0)\n",
    "        \n",
    "        return self\n",
    "\n",
    "    def _group_ts(self, ts):\n",
    "        p = int((ts - self.min_ts) / self.period)\n",
    "        sp = int(((ts - self.min_ts) % self.period) / self.short_period)\n",
    "        return p * self.short_parts + sp \n",
    "\n",
    "    def predict(self, X, y=None):\n",
    "        X['TS_GROUP'] = X['TIMESTAMP'].apply(self._group_ts)\n",
    "        \n",
    "        test_quantile_table = pd.DataFrame(X.groupby(['USER_ID','TS_GROUP']).size(), columns=['size'])\n",
    "        test_table = test_quantile_table.join(self.quantile_table, how='left').fillna(0)\n",
    "        test_table['TEST'] = np.sign(abs(test_table['size'] - test_table['size_users']) - abs(test_table['size'] - test_table['size_bots']))\n",
    "        div_sum = test_table['TEST'].groupby('USER_ID').sum().apply(lambda x: x > 0)\n",
    "        return div_sum\n",
    "\n",
    "    def score(self, X, y=None):\n",
    "        return f1_score(y.groupby('USER_ID').first(), self.predict(X))"
   ]
  },
  {
   "cell_type": "code",
   "execution_count": 6,
   "metadata": {},
   "outputs": [],
   "source": [
    "from sklearn.model_selection import train_test_split, StratifiedKFold\n",
    "from sklearn.model_selection import GridSearchCV, cross_val_score\n",
    "X = logins.set_index(['USER_ID', logins.index.values])[['TIMESTAMP', 'isBot']]\n",
    "y = X['isBot']\n",
    "X_train, X_holdout, y_train, y_holdout = train_test_split(X, y, test_size=0.3, random_state=17)"
   ]
  },
  {
   "cell_type": "code",
   "execution_count": null,
   "metadata": {},
   "outputs": [
    {
     "name": "stdout",
     "output_type": "stream",
     "text": [
      "Fitting 3 folds for each of 720 candidates, totalling 2160 fits\n"
     ]
    },
    {
     "name": "stderr",
     "output_type": "stream",
     "text": [
      "/home/nsuprotivniy/anaconda3/lib/python3.6/site-packages/sklearn/metrics/classification.py:1135: UndefinedMetricWarning: F-score is ill-defined and being set to 0.0 due to no predicted samples.\n",
      "  'precision', 'predicted', average, warn_for)\n",
      "/home/nsuprotivniy/anaconda3/lib/python3.6/site-packages/sklearn/metrics/classification.py:1135: UndefinedMetricWarning: F-score is ill-defined and being set to 0.0 due to no predicted samples.\n",
      "  'precision', 'predicted', average, warn_for)\n",
      "Process ForkPoolWorker-3:\n",
      "Process ForkPoolWorker-1:\n",
      "Traceback (most recent call last):\n",
      "  File \"/home/nsuprotivniy/anaconda3/lib/python3.6/multiprocessing/process.py\", line 258, in _bootstrap\n",
      "    self.run()\n",
      "  File \"/home/nsuprotivniy/anaconda3/lib/python3.6/multiprocessing/process.py\", line 93, in run\n",
      "    self._target(*self._args, **self._kwargs)\n",
      "  File \"/home/nsuprotivniy/anaconda3/lib/python3.6/multiprocessing/pool.py\", line 108, in worker\n",
      "    task = get()\n",
      "  File \"/home/nsuprotivniy/anaconda3/lib/python3.6/site-packages/sklearn/externals/joblib/pool.py\", line 360, in get\n",
      "    racquire()\n",
      "KeyboardInterrupt\n",
      "Traceback (most recent call last):\n",
      "  File \"/home/nsuprotivniy/anaconda3/lib/python3.6/multiprocessing/process.py\", line 258, in _bootstrap\n",
      "    self.run()\n",
      "  File \"/home/nsuprotivniy/anaconda3/lib/python3.6/multiprocessing/process.py\", line 93, in run\n",
      "    self._target(*self._args, **self._kwargs)\n",
      "  File \"/home/nsuprotivniy/anaconda3/lib/python3.6/multiprocessing/pool.py\", line 108, in worker\n",
      "    task = get()\n",
      "  File \"/home/nsuprotivniy/anaconda3/lib/python3.6/site-packages/sklearn/externals/joblib/pool.py\", line 360, in get\n",
      "    racquire()\n",
      "KeyboardInterrupt\n"
     ]
    }
   ],
   "source": [
    "pd.options.mode.chained_assignment = None\n",
    "params = {'parts': [1, 2, 3, 4, 5, 6, 7, 8], \n",
    "          'short_parts': [1, 10, 20, 30, 40, 50, 100, 150, 200],\n",
    "          'quantile': [0.001, 0.01, 0.02, 0.05, 0.1, 0.15, 0.2, 0.3, 0.4, 0.5]}\n",
    "grid = GridSearchCV(TSClassifier(), params, n_jobs=2, verbose=True)\n",
    "grid.fit(X_train, y_train)\n",
    "grid.best_params_, grid.best_score_"
   ]
  },
  {
   "cell_type": "code",
   "execution_count": 11,
   "metadata": {},
   "outputs": [
    {
     "data": {
      "text/plain": [
       "0.048071061569276326"
      ]
     },
     "execution_count": 11,
     "metadata": {},
     "output_type": "execute_result"
    }
   ],
   "source": [
    "# parts = grid.best_params_['parts']\n",
    "# short_parts = grid.best_params_['short_parts']\n",
    "# quantile = grid.best_params_['quantile']\n",
    "parts = 7\n",
    "short_parts = 1\n",
    "quantile = 0.2\n",
    "clf = TSClassifier(quantile, parts, short_parts)\n",
    "clf.fit(X_train, y_train)\n",
    "clf.score(X_holdout, y_holdout)"
   ]
  },
  {
   "cell_type": "code",
   "execution_count": null,
   "metadata": {},
   "outputs": [],
   "source": []
  }
 ],
 "metadata": {
  "kernelspec": {
   "display_name": "Python 3",
   "language": "python",
   "name": "python3"
  },
  "language_info": {
   "codemirror_mode": {
    "name": "ipython",
    "version": 3
   },
   "file_extension": ".py",
   "mimetype": "text/x-python",
   "name": "python",
   "nbconvert_exporter": "python",
   "pygments_lexer": "ipython3",
   "version": "3.6.4"
  }
 },
 "nbformat": 4,
 "nbformat_minor": 2
}
