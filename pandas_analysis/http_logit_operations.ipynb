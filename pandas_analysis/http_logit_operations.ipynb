{
 "cells": [
  {
   "cell_type": "code",
   "execution_count": 1,
   "metadata": {},
   "outputs": [],
   "source": [
    "# !pip install pyarrow\n",
    "import pandas as pd\n",
    "import pyarrow.parquet as pq\n",
    "from scipy.sparse import csr_matrix\n",
    "from sklearn.model_selection import train_test_split\n",
    "from sklearn.linear_model import LogisticRegression"
   ]
  },
  {
   "cell_type": "code",
   "execution_count": 2,
   "metadata": {},
   "outputs": [
    {
     "data": {
      "text/html": [
       "<div>\n",
       "<style scoped>\n",
       "    .dataframe tbody tr th:only-of-type {\n",
       "        vertical-align: middle;\n",
       "    }\n",
       "\n",
       "    .dataframe tbody tr th {\n",
       "        vertical-align: top;\n",
       "    }\n",
       "\n",
       "    .dataframe thead th {\n",
       "        text-align: right;\n",
       "    }\n",
       "</style>\n",
       "<table border=\"1\" class=\"dataframe\">\n",
       "  <thead>\n",
       "    <tr style=\"text-align: right;\">\n",
       "      <th></th>\n",
       "      <th>browserId</th>\n",
       "      <th>from</th>\n",
       "      <th>ip</th>\n",
       "      <th>method</th>\n",
       "      <th>operation</th>\n",
       "      <th>referrer</th>\n",
       "      <th>requestType</th>\n",
       "      <th>timestamp</th>\n",
       "      <th>to</th>\n",
       "      <th>url</th>\n",
       "      <th>userAgent</th>\n",
       "      <th>userId</th>\n",
       "      <th>hour</th>\n",
       "      <th>target</th>\n",
       "    </tr>\n",
       "  </thead>\n",
       "  <tbody>\n",
       "    <tr>\n",
       "      <th>0</th>\n",
       "      <td>8.293748e+18</td>\n",
       "      <td>None</td>\n",
       "      <td>3rRnET9ABG3feVMANINXpg==</td>\n",
       "      <td>GET</td>\n",
       "      <td>spring-mvc</td>\n",
       "      <td>https://www.ok.ru/</td>\n",
       "      <td>REQ</td>\n",
       "      <td>1518791752182</td>\n",
       "      <td>None</td>\n",
       "      <td>https://ok.ru/web-api/pts/postingFormJs</td>\n",
       "      <td>Mozilla/5.0 (Windows NT 6.3; Win64; x64) Apple...</td>\n",
       "      <td>0hs35/dB/t+uT7u/c71+Vw==</td>\n",
       "      <td>17</td>\n",
       "      <td>1</td>\n",
       "    </tr>\n",
       "    <tr>\n",
       "      <th>1</th>\n",
       "      <td>8.293748e+18</td>\n",
       "      <td>friendMain</td>\n",
       "      <td>3rRnET9ABG3feVMANINXpg==</td>\n",
       "      <td>POST</td>\n",
       "      <td>friendAltGroup</td>\n",
       "      <td>https://www.ok.ru/</td>\n",
       "      <td>NAV</td>\n",
       "      <td>1518793194690</td>\n",
       "      <td>friendAltGroup</td>\n",
       "      <td>https://www.ok.ru/profile/561514539517/groups</td>\n",
       "      <td>Mozilla/5.0 (Windows NT 6.3; Win64; x64) Apple...</td>\n",
       "      <td>HW3KxEEODcSX6gJg1YZQtQ==</td>\n",
       "      <td>17</td>\n",
       "      <td>1</td>\n",
       "    </tr>\n",
       "    <tr>\n",
       "      <th>2</th>\n",
       "      <td>7.895490e+17</td>\n",
       "      <td>None</td>\n",
       "      <td>Qsv9DECmtHgfUZ0GAVUoLQ==</td>\n",
       "      <td>POST</td>\n",
       "      <td>PinsEditAjaxRB</td>\n",
       "      <td>https://ok.ru/</td>\n",
       "      <td>REQ</td>\n",
       "      <td>1518791913138</td>\n",
       "      <td>None</td>\n",
       "      <td>https://ok.ru/profile/589603942951/statuses</td>\n",
       "      <td>Mozilla/5.0 (Windows NT 10.0) AppleWebKit/537....</td>\n",
       "      <td>e9iJCewg5Ww1ijKmYKdAyg==</td>\n",
       "      <td>17</td>\n",
       "      <td>1</td>\n",
       "    </tr>\n",
       "    <tr>\n",
       "      <th>3</th>\n",
       "      <td>8.293748e+18</td>\n",
       "      <td>None</td>\n",
       "      <td>3rRnET9ABG3feVMANINXpg==</td>\n",
       "      <td>GET</td>\n",
       "      <td>spring-mvc</td>\n",
       "      <td>https://www.ok.ru/</td>\n",
       "      <td>REQ</td>\n",
       "      <td>1518792629926</td>\n",
       "      <td>None</td>\n",
       "      <td>https://ok.ru/web-api/pts/webpush</td>\n",
       "      <td>Mozilla/5.0 (Windows NT 6.3; Win64; x64) Apple...</td>\n",
       "      <td>HW3KxEEODcSX6gJg1YZQtQ==</td>\n",
       "      <td>17</td>\n",
       "      <td>1</td>\n",
       "    </tr>\n",
       "    <tr>\n",
       "      <th>4</th>\n",
       "      <td>-8.322615e+18</td>\n",
       "      <td>None</td>\n",
       "      <td>XK5THOHUVJHpqGojQAKrMQ==</td>\n",
       "      <td>GET</td>\n",
       "      <td>userMain</td>\n",
       "      <td>None</td>\n",
       "      <td>NAV</td>\n",
       "      <td>1518795472623</td>\n",
       "      <td>userMain</td>\n",
       "      <td>https://ok.ru/</td>\n",
       "      <td>Mozilla/5.0 (Windows NT 5.1) AppleWebKit/537.3...</td>\n",
       "      <td>f3Z8Sr501bB3SvEgCo+9Rg==</td>\n",
       "      <td>18</td>\n",
       "      <td>1</td>\n",
       "    </tr>\n",
       "  </tbody>\n",
       "</table>\n",
       "</div>"
      ],
      "text/plain": [
       "      browserId        from                        ip method       operation  \\\n",
       "0  8.293748e+18        None  3rRnET9ABG3feVMANINXpg==    GET      spring-mvc   \n",
       "1  8.293748e+18  friendMain  3rRnET9ABG3feVMANINXpg==   POST  friendAltGroup   \n",
       "2  7.895490e+17        None  Qsv9DECmtHgfUZ0GAVUoLQ==   POST  PinsEditAjaxRB   \n",
       "3  8.293748e+18        None  3rRnET9ABG3feVMANINXpg==    GET      spring-mvc   \n",
       "4 -8.322615e+18        None  XK5THOHUVJHpqGojQAKrMQ==    GET        userMain   \n",
       "\n",
       "             referrer requestType      timestamp              to  \\\n",
       "0  https://www.ok.ru/         REQ  1518791752182            None   \n",
       "1  https://www.ok.ru/         NAV  1518793194690  friendAltGroup   \n",
       "2      https://ok.ru/         REQ  1518791913138            None   \n",
       "3  https://www.ok.ru/         REQ  1518792629926            None   \n",
       "4                None         NAV  1518795472623        userMain   \n",
       "\n",
       "                                             url  \\\n",
       "0        https://ok.ru/web-api/pts/postingFormJs   \n",
       "1  https://www.ok.ru/profile/561514539517/groups   \n",
       "2    https://ok.ru/profile/589603942951/statuses   \n",
       "3              https://ok.ru/web-api/pts/webpush   \n",
       "4                                 https://ok.ru/   \n",
       "\n",
       "                                           userAgent  \\\n",
       "0  Mozilla/5.0 (Windows NT 6.3; Win64; x64) Apple...   \n",
       "1  Mozilla/5.0 (Windows NT 6.3; Win64; x64) Apple...   \n",
       "2  Mozilla/5.0 (Windows NT 10.0) AppleWebKit/537....   \n",
       "3  Mozilla/5.0 (Windows NT 6.3; Win64; x64) Apple...   \n",
       "4  Mozilla/5.0 (Windows NT 5.1) AppleWebKit/537.3...   \n",
       "\n",
       "                     userId  hour  target  \n",
       "0  0hs35/dB/t+uT7u/c71+Vw==    17       1  \n",
       "1  HW3KxEEODcSX6gJg1YZQtQ==    17       1  \n",
       "2  e9iJCewg5Ww1ijKmYKdAyg==    17       1  \n",
       "3  HW3KxEEODcSX6gJg1YZQtQ==    17       1  \n",
       "4  f3Z8Sr501bB3SvEgCo+9Rg==    18       1  "
      ]
     },
     "execution_count": 2,
     "metadata": {},
     "output_type": "execute_result"
    }
   ],
   "source": [
    "DATA_DIR = '../data/'\n",
    "http_bots = pq.read_table(DATA_DIR + 'botsHTTPRequests-20180216_1416GMT.parquet').to_pandas()\n",
    "http_users = pq.read_table(DATA_DIR + 'usersHTTPRequests-20180216_1416GMT.parquet').to_pandas()\n",
    "#http_bots = http_bots.sample(frac = 0.03)\n",
    "#http_users = http_users.sample(frac=0.03)\n",
    "http_users['target'] = 0\n",
    "http_bots['target'] = 1\n",
    "\n",
    "http = pd.concat([http_bots, http_users])\n",
    "\n",
    "http.head()"
   ]
  },
  {
   "cell_type": "code",
   "execution_count": 3,
   "metadata": {},
   "outputs": [
    {
     "name": "stdout",
     "output_type": "stream",
     "text": [
      "Кол-во уникальных операций: 480\n"
     ]
    }
   ],
   "source": [
    "print('Кол-во уникальных операций: {}'.format(len(http['operation'].unique())))"
   ]
  },
  {
   "cell_type": "markdown",
   "metadata": {},
   "source": [
    "### Приведем категориальный столбей общей выборки к разряженному виду и разделим выборку на train и test"
   ]
  },
  {
   "cell_type": "markdown",
   "metadata": {},
   "source": [
    "Сначала закодируем названия операция чиселками"
   ]
  },
  {
   "cell_type": "code",
   "execution_count": 7,
   "metadata": {},
   "outputs": [],
   "source": [
    "operations = http['operation']\n",
    "\n",
    "dict_code_op = {}\n",
    "\n",
    "c = 0\n",
    "for op in operations.unique():\n",
    "    dict_code_op[op] = c\n",
    "    c += 1\n",
    "    \n",
    "operations = operations.apply(lambda x: dict_code_op[x])    \n",
    "#operations = pd.DataFrame()"
   ]
  },
  {
   "cell_type": "code",
   "execution_count": 8,
   "metadata": {},
   "outputs": [
    {
     "data": {
      "text/plain": [
       "array([[0, 0, 0, ..., 0, 0, 0],\n",
       "       [1, 0, 0, ..., 0, 0, 0],\n",
       "       [0, 1, 0, ..., 0, 0, 0],\n",
       "       ...,\n",
       "       [0, 0, 0, ..., 0, 0, 0],\n",
       "       [0, 0, 0, ..., 0, 0, 0],\n",
       "       [0, 0, 0, ..., 0, 0, 0]])"
      ]
     },
     "execution_count": 8,
     "metadata": {},
     "output_type": "execute_result"
    }
   ],
   "source": [
    "operations_sparse = csr_matrix(([1] * operations.shape[0],\n",
    "                                operations,\n",
    "                                range(0, operations.shape[0] + 1, 1)))[:, 1:]\n",
    "operations_sparse.toarray()"
   ]
  },
  {
   "cell_type": "code",
   "execution_count": 9,
   "metadata": {},
   "outputs": [],
   "source": [
    "# С помощью train_test_split разбивать не получается, \n",
    "# тк разряженный категориальный стобец требует индекса\n",
    "# и не хочется преобразовывать csr_matrix к pd.DataFrame\n",
    "\n",
    "# X_train, X_holdout, y_train, y_holdout = train_test_split(\n",
    "#     http.drop('target', axis=1), http['target'], test_size=0.3, random_state=17)\n",
    "\n",
    "# operations_sparse -> X_train/X_test; http.target -> y_train/y_test\n",
    "idx_split = int(http.shape[0] * 0.7)\n",
    "X_train = operations_sparse[:idx_split]\n",
    "X_holdout = operations_sparse[idx_split:] #X_test = operations_sparse[idx_split:, :] для df\n",
    "y_train = http['target'][:idx_split]\n",
    "y_holdout = http['target'][idx_split:]"
   ]
  },
  {
   "cell_type": "markdown",
   "metadata": {},
   "source": [
    "### Обучим модель"
   ]
  },
  {
   "cell_type": "code",
   "execution_count": 10,
   "metadata": {},
   "outputs": [
    {
     "name": "stderr",
     "output_type": "stream",
     "text": [
      "/usr/local/lib/python3.5/dist-packages/sklearn/linear_model/logistic.py:1228: UserWarning: 'n_jobs' > 1 does not have any effect when 'solver' is set to 'liblinear'. Got 'n_jobs' = -1.\n",
      "  \" = {}.\".format(self.n_jobs))\n"
     ]
    },
    {
     "name": "stdout",
     "output_type": "stream",
     "text": [
      "CPU times: user 1.59 s, sys: 174 ms, total: 1.77 s\n",
      "Wall time: 2.56 s\n"
     ]
    }
   ],
   "source": [
    "%%time\n",
    "# Посмотрим вообще как долго обучаться\n",
    "\n",
    "logit = LogisticRegression(C=0.1, n_jobs=-1, random_state=17)\n",
    "logit.fit(X_train, y_train)"
   ]
  },
  {
   "cell_type": "code",
   "execution_count": 11,
   "metadata": {},
   "outputs": [],
   "source": [
    "test_pred = logit.predict_proba(X_holdout)"
   ]
  },
  {
   "cell_type": "code",
   "execution_count": 12,
   "metadata": {},
   "outputs": [
    {
     "data": {
      "text/plain": [
       "(303114, 2)"
      ]
     },
     "execution_count": 12,
     "metadata": {},
     "output_type": "execute_result"
    }
   ],
   "source": [
    "test_pred.shape"
   ]
  },
  {
   "cell_type": "code",
   "execution_count": 13,
   "metadata": {},
   "outputs": [
    {
     "data": {
      "text/plain": [
       "array([[0.99199861, 0.00800139],\n",
       "       [0.99553046, 0.00446954],\n",
       "       [0.99809981, 0.00190019],\n",
       "       ...,\n",
       "       [0.96002298, 0.03997702],\n",
       "       [0.99891919, 0.00108081],\n",
       "       [0.9577354 , 0.0422646 ]])"
      ]
     },
     "execution_count": 13,
     "metadata": {},
     "output_type": "execute_result"
    }
   ],
   "source": [
    "test_pred"
   ]
  },
  {
   "cell_type": "code",
   "execution_count": 17,
   "metadata": {},
   "outputs": [
    {
     "name": "stdout",
     "output_type": "stream",
     "text": [
      "Грубая оценка кол-ва ботов: 246 из 1010377\n"
     ]
    }
   ],
   "source": [
    "n_bots = 0\n",
    "for i in test_pred:\n",
    "    if i[0] < i[1]:\n",
    "        n_bots += 1\n",
    "print('Грубая оценка кол-ва ботов: {} из {}'.format(n_bots, http.shape[0]))"
   ]
  },
  {
   "cell_type": "code",
   "execution_count": null,
   "metadata": {},
   "outputs": [],
   "source": []
  },
  {
   "cell_type": "code",
   "execution_count": null,
   "metadata": {},
   "outputs": [],
   "source": []
  },
  {
   "cell_type": "code",
   "execution_count": null,
   "metadata": {},
   "outputs": [],
   "source": []
  },
  {
   "cell_type": "code",
   "execution_count": null,
   "metadata": {},
   "outputs": [],
   "source": []
  },
  {
   "cell_type": "code",
   "execution_count": null,
   "metadata": {},
   "outputs": [],
   "source": []
  }
 ],
 "metadata": {
  "kernelspec": {
   "display_name": "Python 3",
   "language": "python",
   "name": "python3"
  },
  "language_info": {
   "codemirror_mode": {
    "name": "ipython",
    "version": 3
   },
   "file_extension": ".py",
   "mimetype": "text/x-python",
   "name": "python",
   "nbconvert_exporter": "python",
   "pygments_lexer": "ipython3",
   "version": "3.5.2"
  }
 },
 "nbformat": 4,
 "nbformat_minor": 2
}
