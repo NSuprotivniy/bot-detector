{
 "cells": [
  {
   "cell_type": "code",
   "execution_count": null,
   "metadata": {},
   "outputs": [],
   "source": [
    "DATA_DIR = '/home/nsuprotivniy/Documents/Работа/OKru/Antispam/data/'\n",
    "SAMPLE_SIZE = -1 # -1 если использовать все даннные"
   ]
  },
  {
   "cell_type": "code",
   "execution_count": null,
   "metadata": {},
   "outputs": [],
   "source": [
    "!pip install pyarrow\n",
    "import numpy as np\n",
    "import pandas as pd\n",
    "import pyarrow.parquet as pq\n",
    "import pyarrow as pa\n",
    "import seaborn as sns\n",
    "import user_agents\n",
    "%matplotlib inline\n",
    "from matplotlib import pyplot as plt\n",
    "pd.set_option(\"display.precision\", 2)\n",
    "\n",
    "from sklearn.model_selection import train_test_split, StratifiedKFold\n",
    "from sklearn.model_selection import GridSearchCV, cross_val_score\n",
    "from sklearn.tree import DecisionTreeClassifier\n",
    "from sklearn.neighbors import KNeighborsClassifier\n",
    "from sklearn.feature_extraction.text import CountVectorizer\n",
    "from sklearn.preprocessing import LabelEncoder\n",
    "from sklearn.pipeline import Pipeline\n",
    "from sklearn.preprocessing import StandardScaler\n",
    "from sklearn.ensemble import RandomForestClassifier\n",
    "from sklearn.metrics import f1_score\n",
    "from sklearn.tree import export_graphviz"
   ]
  },
  {
   "cell_type": "code",
   "execution_count": null,
   "metadata": {},
   "outputs": [],
   "source": [
    "botsHTTPRequests = pq.read_table(DATA_DIR + 'botsHTTPRequests-20180217_1718.parquet').to_pandas().head(SAMPLE_SIZE >> 1)\n",
    "usersHTTPRequests = pq.read_table(DATA_DIR + 'usersHTTPRequests-20180217_1718.parquet').to_pandas().head(SAMPLE_SIZE >> 1)\n",
    "botsHTTPRequests['isBot'] = 1\n",
    "usersHTTPRequests['isBot'] = 0\n",
    "http = botsHTTPRequests.append(usersHTTPRequests)"
   ]
  },
  {
   "cell_type": "code",
   "execution_count": null,
   "metadata": {},
   "outputs": [],
   "source": [
    "def parse_user_agent(x):\n",
    "    x = user_agents.parse(x)\n",
    "    return pd.Series({\n",
    "        'userAgentIsBot': x.is_bot, \n",
    "        'userAgentIsMobile': x.is_mobile,\n",
    "        'userAgentIsTablet': x.is_tablet,\n",
    "        'userAgentIsTouchCapable': x.is_touch_capable,\n",
    "        'userAgentIsPC': x.is_pc,\n",
    "        'userAgentOSFamily': x.os.family,\n",
    "        'userAgentOSVersion': x.os.version,\n",
    "        'userAgentBrowserFamily': x.browser.family,\n",
    "        'userAgentBrowserVersion': x.browser.version,\n",
    "        'userAgentDeviceFamily': x.device.family,\n",
    "        'userAgentDeviceBrand': x.device.brand,\n",
    "        'userAgentDeviceModel': x.device.model    \n",
    "    })\n",
    "\n",
    "http = http.merge(http[~http['userAgent'].isnull()]['userAgent'].apply(parse_user_agent), left_index=True, right_index=True)"
   ]
  },
  {
   "cell_type": "code",
   "execution_count": null,
   "metadata": {},
   "outputs": [],
   "source": [
    "http['url'] = http['url'].astype('str').fillna('None')\n",
    "http['from'] = http['from'].astype('str').fillna('None')\n",
    "http['to'] = http['to'].astype('str').fillna('None')\n",
    "http['requestType'] = http['requestType'].astype('str').fillna('None')\n",
    "http['operation'] = http['operation'].astype('str').fillna('None')\n",
    "\n",
    "http['userAgentBrowserVersion'] = http['userAgentBrowserVersion'].fillna(pd.Series(['0', '0', '0']))\n",
    "http[['userAgentBrowserVersion0', \n",
    "      'userAgentBrowserVersion1', \n",
    "      'userAgentBrowserVersion2']] = http['userAgentBrowserVersion'].apply(pd.Series)\n",
    "http['userAgentBrowserVersion'] = http.drop('userAgentBrowserVersion')\n",
    "http['userAgentBrowserVersion0'] = http['userAgentBrowserVersion0'].astype('str').fillna('0')\n",
    "http['userAgentBrowserVersion1'] = http['userAgentBrowserVersion1'].astype('str').fillna('0')\n",
    "http['userAgentBrowserVersion2'] = http['userAgentBrowserVersion2'].astype('str').fillna('0')\n",
    "\n",
    "http['userAgentDeviceBrand'] = http['userAgentDeviceBrand'].astype('str').fillna('None')\n",
    "http['userAgentDeviceFamily'] = http['userAgentDeviceFamily'].astype('str').fillna('None')\n",
    "http['userAgentDeviceModel'] = http['userAgentDeviceModel'].astype('str').fillna('None')\n",
    "http['userAgentOSFamily'] = http['userAgentOSFamily'].astype('str').fillna('None')\n",
    "\n",
    "http['userAgentOSVersion'] = http['userAgentOSVersion'].fillna(pd.Series(['0', '0', '0']))\n",
    "http[['userAgentOSVersion0', \n",
    "      'userAgentOSVersion1', \n",
    "      'userAgentOSVersion2']] = http['userAgentOSVersion'].apply(pd.Series)\n",
    "http['userAgentOSVersion'] = http.drop('userAgentOSVersion')\n",
    "http['userAgentOSVersion0'] = http['userAgentOSVersion0'].astype('str').fillna('0')\n",
    "http['userAgentOSVersion1'] = http['userAgentOSVersion1'].astype('str').fillna('0')\n",
    "http['userAgentOSVersion2'] = http['userAgentOSVersion2'].astype('str').fillna('0')\n",
    "\n",
    "http['userAgentIsBot'] = http['userAgentIsBot'].astype('bool').fillna(False)\n",
    "http['userAgentIsMobile'] = http['userAgentIsMobile'].astype('bool').fillna(False)\n",
    "http['userAgentIsPC'] = http['userAgentIsPC'].astype('bool').fillna(False)\n",
    "http['userAgentIsTablet'] = http['userAgentIsTablet'].astype('bool').fillna(False)\n",
    "http['userAgentIsTouchCapable'] = http['userAgentIsTouchCapable'].astype('bool').fillna(False)\n"
   ]
  },
  {
   "cell_type": "code",
   "execution_count": null,
   "metadata": {},
   "outputs": [],
   "source": [
    "pq.write_table(pa.Table.from_pandas(http), DATA_DIR + 'botsHTTPRequests-20180217_1718_parsedUA.parquet')"
   ]
  },
  {
   "cell_type": "code",
   "execution_count": null,
   "metadata": {},
   "outputs": [],
   "source": [
    "def encode(col):\n",
    "    le = LabelEncoder()\n",
    "    le.fit(col)\n",
    "    return le.transform(col)\n",
    "    \n",
    "X = http[[\n",
    "    'userAgentIsBot',\n",
    "    'userAgentIsMobile',\n",
    "    'userAgentIsTablet',\n",
    "    'userAgentIsTouchCapable',\n",
    "    'userAgentIsPC',\n",
    "    'userAgentOSFamily',\n",
    "    'userAgentOSVersion',\n",
    "    'userAgentBrowserFamily',\n",
    "    'userAgentBrowserVersion',\n",
    "    'userAgentDeviceFamily',\n",
    "    'userAgentDeviceBrand',\n",
    "    'userAgentDeviceModel',\n",
    "    'from',\n",
    "    'to',\n",
    "    'url',\n",
    "    'requestType',\n",
    "    'operation'\n",
    "]].apply(encode, axis=0)\n",
    "\n",
    "y = http['isBot']"
   ]
  },
  {
   "cell_type": "code",
   "execution_count": null,
   "metadata": {},
   "outputs": [],
   "source": []
  },
  {
   "cell_type": "code",
   "execution_count": null,
   "metadata": {},
   "outputs": [],
   "source": [
    "X_train, X_holdout, y_train, y_holdout = train_test_split(X, y, test_size=0.3, random_state=17)\n",
    "\n",
    "tree = DecisionTreeClassifier(random_state=17)\n",
    "knn_pipe = Pipeline([('scaler', StandardScaler()), ('knn', KNeighborsClassifier(n_jobs=-1))])\n",
    "forest = RandomForestClassifier(n_estimators=100, n_jobs=-1, random_state=17)"
   ]
  },
  {
   "cell_type": "code",
   "execution_count": null,
   "metadata": {},
   "outputs": [],
   "source": [
    "tree_params = {'max_depth': range(1, 50),'max_features': range(1, 17)}\n",
    "tree_grid = GridSearchCV(tree, tree_params, cv=5, n_jobs=-1, verbose=True, scoring='f1')\n",
    "tree_grid.fit(X_train, y_train)\n",
    "tree_grid.best_params_, tree_grid.best_score_"
   ]
  },
  {
   "cell_type": "code",
   "execution_count": null,
   "metadata": {},
   "outputs": [],
   "source": [
    "f1_score(y_holdout, tree_grid.predict(X_holdout))"
   ]
  },
  {
   "cell_type": "code",
   "execution_count": null,
   "metadata": {},
   "outputs": [],
   "source": [
    "cv_scores, holdout_scores = [], []\n",
    "max_depth = range(1, 50)\n",
    "\n",
    "for k in max_depth:\n",
    "\n",
    "    tree = DecisionTreeClassifier(random_state=17, max_depth=k)\n",
    "    cv_scores.append(np.mean(cross_val_score(tree, X_train, y_train, cv=5, scoring='f1')))\n",
    "    tree.fit(X_train, y_train)\n",
    "    holdout_scores.append(f1_score(y_holdout, tree.predict(X_holdout)))\n",
    "\n",
    "plt.plot(max_depth, cv_scores, label='CV')\n",
    "plt.plot(max_depth, holdout_scores, label='holdout')\n",
    "plt.title('Easy task. Tree fails')\n",
    "plt.legend();"
   ]
  },
  {
   "cell_type": "code",
   "execution_count": null,
   "metadata": {},
   "outputs": [],
   "source": [
    "knn_params = {'knn__n_neighbors': range(1, 20, 2)}\n",
    "knn_grid = GridSearchCV(knn_pipe, knn_params, cv=5, n_jobs=-1, verbose=True, scoring='f1')\n",
    "knn_grid.fit(X_train, y_train)\n",
    "knn_grid.best_params_, knn_grid.best_score_"
   ]
  },
  {
   "cell_type": "code",
   "execution_count": null,
   "metadata": {},
   "outputs": [],
   "source": [
    "f1_score(y_holdout, knn_grid.predict(X_holdout))"
   ]
  },
  {
   "cell_type": "code",
   "execution_count": null,
   "metadata": {},
   "outputs": [],
   "source": [
    "cv_scores, holdout_scores = [], []\n",
    "n_neighb = range(1, 20, 2)\n",
    "\n",
    "for k in n_neighb:\n",
    "\n",
    "    knn = KNeighborsClassifier(n_neighbors=k)\n",
    "    cv_scores.append(np.mean(cross_val_score(knn, X_train, y_train, cv=5, scoring='f1')))\n",
    "    knn.fit(X_train, y_train)\n",
    "    holdout_scores.append(f1_score(y_holdout, knn.predict(X_holdout)))\n",
    "\n",
    "plt.plot(n_neighb, cv_scores, label='CV')\n",
    "plt.plot(n_neighb, holdout_scores, label='holdout')\n",
    "plt.title('Easy task. kNN fails')\n",
    "plt.legend();"
   ]
  },
  {
   "cell_type": "code",
   "execution_count": null,
   "metadata": {
    "scrolled": true
   },
   "outputs": [],
   "source": [
    "forest_params = {'max_depth': range(1,50),'max_features': range(1,18)}\n",
    "forest_grid = GridSearchCV(forest, forest_params, cv=5, n_jobs=-1, verbose=True, scoring='f1')\n",
    "forest_grid.fit(X_train, y_train)\n",
    "forest_grid.best_params_, forest_grid.best_score_ "
   ]
  },
  {
   "cell_type": "code",
   "execution_count": null,
   "metadata": {},
   "outputs": [],
   "source": [
    "f1_score(y_holdout, forest_grid.predict(X_holdout))"
   ]
  },
  {
   "cell_type": "code",
   "execution_count": null,
   "metadata": {},
   "outputs": [],
   "source": [
    "cv_scores, holdout_scores = [], []\n",
    "max_depth = range(1, 50)\n",
    "\n",
    "for k  in max_depth:\n",
    "    forest = RandomForestClassifier(n_estimators=100, \n",
    "                                max_depth = k,\n",
    "                                max_features = forest_grid.best_params_['max_features'],\n",
    "                                n_jobs=-1, \n",
    "                                random_state=17)\n",
    "    cv_scores.append(np.mean(cross_val_score(forest, X_train, y_train, cv=5, scoring='f1')))\n",
    "    forest.fit(X_train, y_train)\n",
    "    holdout_scores.append(f1_score(y_holdout, forest.predict(X_holdout)))\n",
    "\n",
    "plt.plot(max_depth, cv_scores, label='CV')\n",
    "plt.plot(max_depth, holdout_scores, label='holdout')\n",
    "plt.title('Easy task. Forest fails')\n",
    "plt.legend();"
   ]
  },
  {
   "cell_type": "code",
   "execution_count": null,
   "metadata": {},
   "outputs": [],
   "source": [
    "cv_scores, holdout_scores = [], []\n",
    "max_features = range(1, 18)\n",
    "\n",
    "for k  in max_features:\n",
    "    forest = RandomForestClassifier(n_estimators=100, \n",
    "                                    max_depth = forest_grid.best_params_['max_depth'],  \n",
    "                                    max_features = k,\n",
    "                                    n_jobs=-1, \n",
    "                                    random_state=17)\n",
    "    cv_scores.append(np.mean(cross_val_score(forest, X_train, y_train, cv=5, scoring='f1')))\n",
    "    forest.fit(X_train, y_train)\n",
    "    holdout_scores.append(f1_score(y_holdout, forest.predict(X_holdout)))\n",
    "\n",
    "plt.plot(max_features, cv_scores, label='CV')\n",
    "plt.plot(max_features, holdout_scores, label='holdout')\n",
    "plt.title('Easy task. Forest fails')\n",
    "plt.legend();"
   ]
  },
  {
   "cell_type": "code",
   "execution_count": null,
   "metadata": {},
   "outputs": [],
   "source": []
  }
 ],
 "metadata": {
  "kernelspec": {
   "display_name": "Python 3",
   "language": "python",
   "name": "python3"
  },
  "language_info": {
   "codemirror_mode": {
    "name": "ipython",
    "version": 3
   },
   "file_extension": ".py",
   "mimetype": "text/x-python",
   "name": "python",
   "nbconvert_exporter": "python",
   "pygments_lexer": "ipython3",
   "version": "3.6.4"
  }
 },
 "nbformat": 4,
 "nbformat_minor": 2
}
