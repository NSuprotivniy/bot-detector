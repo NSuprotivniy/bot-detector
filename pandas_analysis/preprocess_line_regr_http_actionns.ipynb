{
 "cells": [
  {
   "cell_type": "code",
   "execution_count": 2,
   "metadata": {},
   "outputs": [],
   "source": [
    "import pandas as pd\n",
    "import pyarrow.parquet as pq"
   ]
  },
  {
   "cell_type": "code",
   "execution_count": 70,
   "metadata": {},
   "outputs": [],
   "source": [
    "DATA_DIR = '../data/'\n",
    "\n",
    "\n",
    "\n",
    "bots = pq.read_table(DATA_DIR + 'botsUidBidTable.parquet').to_pandas()"
   ]
  },
  {
   "cell_type": "code",
   "execution_count": 74,
   "metadata": {},
   "outputs": [
    {
     "data": {
      "text/html": [
       "<div>\n",
       "<style scoped>\n",
       "    .dataframe tbody tr th:only-of-type {\n",
       "        vertical-align: middle;\n",
       "    }\n",
       "\n",
       "    .dataframe tbody tr th {\n",
       "        vertical-align: top;\n",
       "    }\n",
       "\n",
       "    .dataframe thead th {\n",
       "        text-align: right;\n",
       "    }\n",
       "</style>\n",
       "<table border=\"1\" class=\"dataframe\">\n",
       "  <thead>\n",
       "    <tr style=\"text-align: right;\">\n",
       "      <th></th>\n",
       "      <th>userId</th>\n",
       "      <th>browserId</th>\n",
       "    </tr>\n",
       "  </thead>\n",
       "  <tbody>\n",
       "    <tr>\n",
       "      <th>0</th>\n",
       "      <td>od4m7uqZyqfJeN+v7rROBA==</td>\n",
       "      <td>NaN</td>\n",
       "    </tr>\n",
       "    <tr>\n",
       "      <th>1</th>\n",
       "      <td>nN4JcxYuP3nDDfDWGcukqA==</td>\n",
       "      <td>1.508915e+18</td>\n",
       "    </tr>\n",
       "    <tr>\n",
       "      <th>2</th>\n",
       "      <td>SZm5+LJURyeVH6vX4zCjrg==</td>\n",
       "      <td>7.924778e+18</td>\n",
       "    </tr>\n",
       "    <tr>\n",
       "      <th>3</th>\n",
       "      <td>2Lx8SI+UCLZkn2LQ+GoX4w==</td>\n",
       "      <td>-4.198161e+18</td>\n",
       "    </tr>\n",
       "    <tr>\n",
       "      <th>4</th>\n",
       "      <td>qtwo5W6FloFheFvJUhljmA==</td>\n",
       "      <td>1.097961e+18</td>\n",
       "    </tr>\n",
       "  </tbody>\n",
       "</table>\n",
       "</div>"
      ],
      "text/plain": [
       "                     userId     browserId\n",
       "0  od4m7uqZyqfJeN+v7rROBA==           NaN\n",
       "1  nN4JcxYuP3nDDfDWGcukqA==  1.508915e+18\n",
       "2  SZm5+LJURyeVH6vX4zCjrg==  7.924778e+18\n",
       "3  2Lx8SI+UCLZkn2LQ+GoX4w== -4.198161e+18\n",
       "4  qtwo5W6FloFheFvJUhljmA==  1.097961e+18"
      ]
     },
     "execution_count": 74,
     "metadata": {},
     "output_type": "execute_result"
    }
   ],
   "source": [
    "bots.head()"
   ]
  },
  {
   "cell_type": "code",
   "execution_count": 76,
   "metadata": {},
   "outputs": [
    {
     "data": {
      "text/html": [
       "<div>\n",
       "<style scoped>\n",
       "    .dataframe tbody tr th:only-of-type {\n",
       "        vertical-align: middle;\n",
       "    }\n",
       "\n",
       "    .dataframe tbody tr th {\n",
       "        vertical-align: top;\n",
       "    }\n",
       "\n",
       "    .dataframe thead th {\n",
       "        text-align: right;\n",
       "    }\n",
       "</style>\n",
       "<table border=\"1\" class=\"dataframe\">\n",
       "  <thead>\n",
       "    <tr style=\"text-align: right;\">\n",
       "      <th></th>\n",
       "      <th>browserId</th>\n",
       "      <th>from</th>\n",
       "      <th>ip</th>\n",
       "      <th>method</th>\n",
       "      <th>operation</th>\n",
       "      <th>referrer</th>\n",
       "      <th>requestType</th>\n",
       "      <th>timestamp</th>\n",
       "      <th>to</th>\n",
       "      <th>url</th>\n",
       "      <th>userAgent</th>\n",
       "      <th>userId</th>\n",
       "      <th>hour</th>\n",
       "    </tr>\n",
       "  </thead>\n",
       "  <tbody>\n",
       "    <tr>\n",
       "      <th>0</th>\n",
       "      <td>8.293748e+18</td>\n",
       "      <td>None</td>\n",
       "      <td>3rRnET9ABG3feVMANINXpg==</td>\n",
       "      <td>GET</td>\n",
       "      <td>spring-mvc</td>\n",
       "      <td>https://www.ok.ru/</td>\n",
       "      <td>REQ</td>\n",
       "      <td>1518791752182</td>\n",
       "      <td>None</td>\n",
       "      <td>https://ok.ru/web-api/pts/postingFormJs</td>\n",
       "      <td>Mozilla/5.0 (Windows NT 6.3; Win64; x64) Apple...</td>\n",
       "      <td>0hs35/dB/t+uT7u/c71+Vw==</td>\n",
       "      <td>17</td>\n",
       "    </tr>\n",
       "    <tr>\n",
       "      <th>1</th>\n",
       "      <td>8.293748e+18</td>\n",
       "      <td>friendMain</td>\n",
       "      <td>3rRnET9ABG3feVMANINXpg==</td>\n",
       "      <td>POST</td>\n",
       "      <td>friendAltGroup</td>\n",
       "      <td>https://www.ok.ru/</td>\n",
       "      <td>NAV</td>\n",
       "      <td>1518793194690</td>\n",
       "      <td>friendAltGroup</td>\n",
       "      <td>https://www.ok.ru/profile/561514539517/groups</td>\n",
       "      <td>Mozilla/5.0 (Windows NT 6.3; Win64; x64) Apple...</td>\n",
       "      <td>HW3KxEEODcSX6gJg1YZQtQ==</td>\n",
       "      <td>17</td>\n",
       "    </tr>\n",
       "    <tr>\n",
       "      <th>2</th>\n",
       "      <td>7.895490e+17</td>\n",
       "      <td>None</td>\n",
       "      <td>Qsv9DECmtHgfUZ0GAVUoLQ==</td>\n",
       "      <td>POST</td>\n",
       "      <td>PinsEditAjaxRB</td>\n",
       "      <td>https://ok.ru/</td>\n",
       "      <td>REQ</td>\n",
       "      <td>1518791913138</td>\n",
       "      <td>None</td>\n",
       "      <td>https://ok.ru/profile/589603942951/statuses</td>\n",
       "      <td>Mozilla/5.0 (Windows NT 10.0) AppleWebKit/537....</td>\n",
       "      <td>e9iJCewg5Ww1ijKmYKdAyg==</td>\n",
       "      <td>17</td>\n",
       "    </tr>\n",
       "    <tr>\n",
       "      <th>3</th>\n",
       "      <td>8.293748e+18</td>\n",
       "      <td>None</td>\n",
       "      <td>3rRnET9ABG3feVMANINXpg==</td>\n",
       "      <td>GET</td>\n",
       "      <td>spring-mvc</td>\n",
       "      <td>https://www.ok.ru/</td>\n",
       "      <td>REQ</td>\n",
       "      <td>1518792629926</td>\n",
       "      <td>None</td>\n",
       "      <td>https://ok.ru/web-api/pts/webpush</td>\n",
       "      <td>Mozilla/5.0 (Windows NT 6.3; Win64; x64) Apple...</td>\n",
       "      <td>HW3KxEEODcSX6gJg1YZQtQ==</td>\n",
       "      <td>17</td>\n",
       "    </tr>\n",
       "    <tr>\n",
       "      <th>4</th>\n",
       "      <td>-8.322615e+18</td>\n",
       "      <td>None</td>\n",
       "      <td>XK5THOHUVJHpqGojQAKrMQ==</td>\n",
       "      <td>GET</td>\n",
       "      <td>userMain</td>\n",
       "      <td>None</td>\n",
       "      <td>NAV</td>\n",
       "      <td>1518795472623</td>\n",
       "      <td>userMain</td>\n",
       "      <td>https://ok.ru/</td>\n",
       "      <td>Mozilla/5.0 (Windows NT 5.1) AppleWebKit/537.3...</td>\n",
       "      <td>f3Z8Sr501bB3SvEgCo+9Rg==</td>\n",
       "      <td>18</td>\n",
       "    </tr>\n",
       "  </tbody>\n",
       "</table>\n",
       "</div>"
      ],
      "text/plain": [
       "      browserId        from                        ip method       operation  \\\n",
       "0  8.293748e+18        None  3rRnET9ABG3feVMANINXpg==    GET      spring-mvc   \n",
       "1  8.293748e+18  friendMain  3rRnET9ABG3feVMANINXpg==   POST  friendAltGroup   \n",
       "2  7.895490e+17        None  Qsv9DECmtHgfUZ0GAVUoLQ==   POST  PinsEditAjaxRB   \n",
       "3  8.293748e+18        None  3rRnET9ABG3feVMANINXpg==    GET      spring-mvc   \n",
       "4 -8.322615e+18        None  XK5THOHUVJHpqGojQAKrMQ==    GET        userMain   \n",
       "\n",
       "             referrer requestType      timestamp              to  \\\n",
       "0  https://www.ok.ru/         REQ  1518791752182            None   \n",
       "1  https://www.ok.ru/         NAV  1518793194690  friendAltGroup   \n",
       "2      https://ok.ru/         REQ  1518791913138            None   \n",
       "3  https://www.ok.ru/         REQ  1518792629926            None   \n",
       "4                None         NAV  1518795472623        userMain   \n",
       "\n",
       "                                             url  \\\n",
       "0        https://ok.ru/web-api/pts/postingFormJs   \n",
       "1  https://www.ok.ru/profile/561514539517/groups   \n",
       "2    https://ok.ru/profile/589603942951/statuses   \n",
       "3              https://ok.ru/web-api/pts/webpush   \n",
       "4                                 https://ok.ru/   \n",
       "\n",
       "                                           userAgent  \\\n",
       "0  Mozilla/5.0 (Windows NT 6.3; Win64; x64) Apple...   \n",
       "1  Mozilla/5.0 (Windows NT 6.3; Win64; x64) Apple...   \n",
       "2  Mozilla/5.0 (Windows NT 10.0) AppleWebKit/537....   \n",
       "3  Mozilla/5.0 (Windows NT 6.3; Win64; x64) Apple...   \n",
       "4  Mozilla/5.0 (Windows NT 5.1) AppleWebKit/537.3...   \n",
       "\n",
       "                     userId  hour  \n",
       "0  0hs35/dB/t+uT7u/c71+Vw==    17  \n",
       "1  HW3KxEEODcSX6gJg1YZQtQ==    17  \n",
       "2  e9iJCewg5Ww1ijKmYKdAyg==    17  \n",
       "3  HW3KxEEODcSX6gJg1YZQtQ==    17  \n",
       "4  f3Z8Sr501bB3SvEgCo+9Rg==    18  "
      ]
     },
     "execution_count": 76,
     "metadata": {},
     "output_type": "execute_result"
    }
   ],
   "source": [
    "http.head()"
   ]
  },
  {
   "cell_type": "code",
   "execution_count": 65,
   "metadata": {},
   "outputs": [],
   "source": [
    "http_bots_sample = http_bots.sample(frac=0.1)\n",
    "http_users_sample = http_users.sample(frac=0.1)\n",
    "http_sample = pd.concat([http_bots_sample, http_users_sample])"
   ]
  },
  {
   "cell_type": "code",
   "execution_count": null,
   "metadata": {},
   "outputs": [],
   "source": []
  },
  {
   "cell_type": "code",
   "execution_count": 77,
   "metadata": {},
   "outputs": [
    {
     "ename": "TypeError",
     "evalue": "'numpy.ndarray' object is not callable",
     "output_type": "error",
     "traceback": [
      "\u001b[0;31m---------------------------------------------------------------------------\u001b[0m",
      "\u001b[0;31mTypeError\u001b[0m                                 Traceback (most recent call last)",
      "\u001b[0;32m<ipython-input-77-0c596d42f3ff>\u001b[0m in \u001b[0;36m<module>\u001b[0;34m()\u001b[0m\n\u001b[0;32m----> 1\u001b[0;31m \u001b[0mhttp_sample\u001b[0m\u001b[0;34m[\u001b[0m\u001b[0;34m'bot_or_user'\u001b[0m\u001b[0;34m]\u001b[0m \u001b[0;34m=\u001b[0m \u001b[0mhttp_sample\u001b[0m\u001b[0;34m[\u001b[0m\u001b[0;34m'browserId'\u001b[0m\u001b[0;34m]\u001b[0m\u001b[0;34m.\u001b[0m\u001b[0mapply\u001b[0m\u001b[0;34m(\u001b[0m\u001b[0;32mlambda\u001b[0m \u001b[0mx\u001b[0m\u001b[0;34m:\u001b[0m \u001b[0;36m1\u001b[0m \u001b[0;32mif\u001b[0m \u001b[0mx\u001b[0m \u001b[0;32min\u001b[0m \u001b[0mbots\u001b[0m\u001b[0;34m[\u001b[0m\u001b[0;34m'browserId'\u001b[0m\u001b[0;34m]\u001b[0m\u001b[0;34m.\u001b[0m\u001b[0mvalues\u001b[0m\u001b[0;34m(\u001b[0m\u001b[0;34m)\u001b[0m \u001b[0;32melse\u001b[0m \u001b[0;36m0\u001b[0m\u001b[0;34m)\u001b[0m\u001b[0;34m\u001b[0m\u001b[0m\n\u001b[0m",
      "\u001b[0;32m/usr/local/lib/python3.5/dist-packages/pandas/core/series.py\u001b[0m in \u001b[0;36mapply\u001b[0;34m(self, func, convert_dtype, args, **kwds)\u001b[0m\n\u001b[1;32m   2549\u001b[0m             \u001b[0;32melse\u001b[0m\u001b[0;34m:\u001b[0m\u001b[0;34m\u001b[0m\u001b[0m\n\u001b[1;32m   2550\u001b[0m                 \u001b[0mvalues\u001b[0m \u001b[0;34m=\u001b[0m \u001b[0mself\u001b[0m\u001b[0;34m.\u001b[0m\u001b[0masobject\u001b[0m\u001b[0;34m\u001b[0m\u001b[0m\n\u001b[0;32m-> 2551\u001b[0;31m                 \u001b[0mmapped\u001b[0m \u001b[0;34m=\u001b[0m \u001b[0mlib\u001b[0m\u001b[0;34m.\u001b[0m\u001b[0mmap_infer\u001b[0m\u001b[0;34m(\u001b[0m\u001b[0mvalues\u001b[0m\u001b[0;34m,\u001b[0m \u001b[0mf\u001b[0m\u001b[0;34m,\u001b[0m \u001b[0mconvert\u001b[0m\u001b[0;34m=\u001b[0m\u001b[0mconvert_dtype\u001b[0m\u001b[0;34m)\u001b[0m\u001b[0;34m\u001b[0m\u001b[0m\n\u001b[0m\u001b[1;32m   2552\u001b[0m \u001b[0;34m\u001b[0m\u001b[0m\n\u001b[1;32m   2553\u001b[0m         \u001b[0;32mif\u001b[0m \u001b[0mlen\u001b[0m\u001b[0;34m(\u001b[0m\u001b[0mmapped\u001b[0m\u001b[0;34m)\u001b[0m \u001b[0;32mand\u001b[0m \u001b[0misinstance\u001b[0m\u001b[0;34m(\u001b[0m\u001b[0mmapped\u001b[0m\u001b[0;34m[\u001b[0m\u001b[0;36m0\u001b[0m\u001b[0;34m]\u001b[0m\u001b[0;34m,\u001b[0m \u001b[0mSeries\u001b[0m\u001b[0;34m)\u001b[0m\u001b[0;34m:\u001b[0m\u001b[0;34m\u001b[0m\u001b[0m\n",
      "\u001b[0;32mpandas/_libs/src/inference.pyx\u001b[0m in \u001b[0;36mpandas._libs.lib.map_infer\u001b[0;34m()\u001b[0m\n",
      "\u001b[0;32m<ipython-input-77-0c596d42f3ff>\u001b[0m in \u001b[0;36m<lambda>\u001b[0;34m(x)\u001b[0m\n\u001b[0;32m----> 1\u001b[0;31m \u001b[0mhttp_sample\u001b[0m\u001b[0;34m[\u001b[0m\u001b[0;34m'bot_or_user'\u001b[0m\u001b[0;34m]\u001b[0m \u001b[0;34m=\u001b[0m \u001b[0mhttp_sample\u001b[0m\u001b[0;34m[\u001b[0m\u001b[0;34m'browserId'\u001b[0m\u001b[0;34m]\u001b[0m\u001b[0;34m.\u001b[0m\u001b[0mapply\u001b[0m\u001b[0;34m(\u001b[0m\u001b[0;32mlambda\u001b[0m \u001b[0mx\u001b[0m\u001b[0;34m:\u001b[0m \u001b[0;36m1\u001b[0m \u001b[0;32mif\u001b[0m \u001b[0mx\u001b[0m \u001b[0;32min\u001b[0m \u001b[0mbots\u001b[0m\u001b[0;34m[\u001b[0m\u001b[0;34m'browserId'\u001b[0m\u001b[0;34m]\u001b[0m\u001b[0;34m.\u001b[0m\u001b[0mvalues\u001b[0m\u001b[0;34m(\u001b[0m\u001b[0;34m)\u001b[0m \u001b[0;32melse\u001b[0m \u001b[0;36m0\u001b[0m\u001b[0;34m)\u001b[0m\u001b[0;34m\u001b[0m\u001b[0m\n\u001b[0m",
      "\u001b[0;31mTypeError\u001b[0m: 'numpy.ndarray' object is not callable"
     ]
    }
   ],
   "source": [
    "http_sample['bot_or_user'] = http_sample['browserId'].apply(lambda x: 1 if x in bots['browserId'].values() else 0)"
   ]
  },
  {
   "cell_type": "code",
   "execution_count": null,
   "metadata": {},
   "outputs": [],
   "source": [
    "len(http_sample[http_sample['bot_or_user'] == 0])"
   ]
  },
  {
   "cell_type": "code",
   "execution_count": null,
   "metadata": {},
   "outputs": [],
   "source": []
  },
  {
   "cell_type": "code",
   "execution_count": 66,
   "metadata": {},
   "outputs": [],
   "source": [
    "bots_bids = http_sample[http_sample['userId'].isin(bots_ids['userId'].unique())].browserId\n",
    "bots_bids = pd.Series(bots_bids.unique())"
   ]
  },
  {
   "cell_type": "code",
   "execution_count": 67,
   "metadata": {},
   "outputs": [
    {
     "name": "stdout",
     "output_type": "stream",
     "text": [
      "http_sample has 101038 rows\n",
      "bots_bids has 206 rows\n"
     ]
    }
   ],
   "source": [
    "print (\"http_sample has {} rows\\nbots_bids has {} rows\".format(len(http_sample), len(bots_bids)))"
   ]
  },
  {
   "cell_type": "code",
   "execution_count": null,
   "metadata": {},
   "outputs": [],
   "source": []
  },
  {
   "cell_type": "code",
   "execution_count": null,
   "metadata": {},
   "outputs": [],
   "source": [
    "bots_bid = http_sample[http_sample['userId'].isin(bots_ids['id'].unique())].browserId"
   ]
  },
  {
   "cell_type": "code",
   "execution_count": null,
   "metadata": {},
   "outputs": [],
   "source": []
  },
  {
   "cell_type": "code",
   "execution_count": 68,
   "metadata": {},
   "outputs": [],
   "source": [
    "http_sample['bot_or_user'] = http_sample['browserId'].apply(lambda x: 1 if x in bots_bids else 0)"
   ]
  },
  {
   "cell_type": "code",
   "execution_count": 69,
   "metadata": {},
   "outputs": [
    {
     "data": {
      "text/plain": [
       "101038"
      ]
     },
     "execution_count": 69,
     "metadata": {},
     "output_type": "execute_result"
    }
   ],
   "source": [
    "len(http_sample[http_sample['bot_or_user'] == 0])"
   ]
  },
  {
   "cell_type": "code",
   "execution_count": null,
   "metadata": {},
   "outputs": [],
   "source": []
  }
 ],
 "metadata": {
  "kernelspec": {
   "display_name": "Python 3",
   "language": "python",
   "name": "python3"
  },
  "language_info": {
   "codemirror_mode": {
    "name": "ipython",
    "version": 3
   },
   "file_extension": ".py",
   "mimetype": "text/x-python",
   "name": "python",
   "nbconvert_exporter": "python",
   "pygments_lexer": "ipython3",
   "version": "3.5.2"
  }
 },
 "nbformat": 4,
 "nbformat_minor": 2
}
