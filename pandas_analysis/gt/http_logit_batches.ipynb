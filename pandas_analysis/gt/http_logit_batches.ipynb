{
 "cells": [
  {
   "cell_type": "code",
   "execution_count": 1,
   "metadata": {},
   "outputs": [],
   "source": [
    "import pandas as pd\n",
    "import pyarrow.parquet as pq\n",
    "import pyarrow as pa\n",
    "import numpy as np\n",
    "\n",
    "from sklearn.model_selection import train_test_split, StratifiedKFold\n",
    "from sklearn.tree import DecisionTreeClassifier, export_graphviz\n",
    "from sklearn.model_selection import GridSearchCV\n",
    "from sklearn.metrics import roc_auc_score, accuracy_score, confusion_matrix, f1_score, classification_report\n",
    "%matplotlib inline\n",
    "# from matplotlib import pyplot as plt\n",
    "# import seaborn as sns\n",
    "\n",
    "from sklearn.linear_model import SGDClassifier\n",
    "from sklearn.externals import joblib\n",
    "\n",
    "from sklearn.preprocessing import OneHotEncoder\n",
    "import os\n",
    "\n",
    "import warnings\n",
    "warnings.filterwarnings('ignore')\n",
    "\n",
    "from sklearn.base import TransformerMixin\n",
    "from sklearn.pipeline import Pipeline\n",
    "from sklearn.model_selection import RandomizedSearchCV"
   ]
  },
  {
   "cell_type": "code",
   "execution_count": 2,
   "metadata": {},
   "outputs": [],
   "source": [
    "FEATURES = [\n",
    "    #'browserId', \n",
    "    #'ip',\n",
    "    #from\n",
    "    'method',\n",
    "    'operation',\n",
    "    #'referrer',\n",
    "    'requestType',\n",
    "    #'timestamp',\n",
    "    #to\n",
    "    #url\n",
    "    #userAgent\n",
    "    #userId\n",
    "    #hour\n",
    "    #'target',\n",
    "    'DeviceClass',\n",
    "    'DeviceName',\n",
    "    'DeviceBrand',\n",
    "    'DeviceCpu',\n",
    "    'DeviceCpuBits',\n",
    "    'OperatingSystemClass',\n",
    "    'OperatingSystemName',\n",
    "    'OperatingSystemVersion',\n",
    "    'OperatingSystemNameVersion',\n",
    "    'OperatingSystemVersionBuild',\n",
    "    'LayoutEngineClass',\n",
    "    'LayoutEngineName',\n",
    "    'LayoutEngineVersion',\n",
    "    'LayoutEngineVersionMajor',\n",
    "    'LayoutEngineNameVersion',\n",
    "    'LayoutEngineNameVersionMajor',\n",
    "    'AgentClass',\n",
    "    'AgentName',\n",
    "    'AgentVersion',\n",
    "    'AgentVersionMajor',\n",
    "    'AgentNameVersion',\n",
    "    'AgentNameVersionMajor'\n",
    "]"
   ]
  },
  {
   "cell_type": "markdown",
   "metadata": {},
   "source": [
    "### Подготовим данные"
   ]
  },
  {
   "cell_type": "code",
   "execution_count": 3,
   "metadata": {},
   "outputs": [
    {
     "data": {
      "text/plain": [
       "(228428, 26)"
      ]
     },
     "execution_count": 3,
     "metadata": {},
     "output_type": "execute_result"
    }
   ],
   "source": [
    "SAMPLE_FRAC = 1\n",
    "\n",
    "DATA_DIR = '../../data/batches/'\n",
    "MODEL_DIR = '../../model/'\n",
    "GRAPH_DIR = '../../graph/'\n",
    "\n",
    "http = pq.read_table(os.path.join(DATA_DIR, 'http-20180217_1718_parsedUAA_target.parquet'),\n",
    "                     columns=FEATURES + ['target']).to_pandas()\n",
    "http = http.sample(frac=SAMPLE_FRAC)\n",
    "http.shape"
   ]
  },
  {
   "cell_type": "code",
   "execution_count": 4,
   "metadata": {},
   "outputs": [],
   "source": [
    "y = http['target']\n",
    "X = http.drop('target', axis=1)"
   ]
  },
  {
   "cell_type": "code",
   "execution_count": 5,
   "metadata": {},
   "outputs": [],
   "source": [
    "X_train, X_holdout, y_train, y_holdout = train_test_split(http, y, test_size=0.3, random_state=17)"
   ]
  },
  {
   "cell_type": "code",
   "execution_count": 26,
   "metadata": {},
   "outputs": [
    {
     "data": {
      "text/html": [
       "<div>\n",
       "<style scoped>\n",
       "    .dataframe tbody tr th:only-of-type {\n",
       "        vertical-align: middle;\n",
       "    }\n",
       "\n",
       "    .dataframe tbody tr th {\n",
       "        vertical-align: top;\n",
       "    }\n",
       "\n",
       "    .dataframe thead th {\n",
       "        text-align: right;\n",
       "    }\n",
       "</style>\n",
       "<table border=\"1\" class=\"dataframe\">\n",
       "  <thead>\n",
       "    <tr style=\"text-align: right;\">\n",
       "      <th></th>\n",
       "      <th>method</th>\n",
       "      <th>operation</th>\n",
       "      <th>requestType</th>\n",
       "      <th>DeviceClass</th>\n",
       "      <th>DeviceName</th>\n",
       "      <th>DeviceBrand</th>\n",
       "      <th>DeviceCpu</th>\n",
       "      <th>DeviceCpuBits</th>\n",
       "      <th>OperatingSystemClass</th>\n",
       "      <th>OperatingSystemName</th>\n",
       "      <th>...</th>\n",
       "      <th>LayoutEngineVersionMajor</th>\n",
       "      <th>LayoutEngineNameVersion</th>\n",
       "      <th>LayoutEngineNameVersionMajor</th>\n",
       "      <th>AgentClass</th>\n",
       "      <th>AgentName</th>\n",
       "      <th>AgentVersion</th>\n",
       "      <th>AgentVersionMajor</th>\n",
       "      <th>AgentNameVersion</th>\n",
       "      <th>AgentNameVersionMajor</th>\n",
       "      <th>target</th>\n",
       "    </tr>\n",
       "  </thead>\n",
       "  <tbody>\n",
       "    <tr>\n",
       "      <th>0</th>\n",
       "      <td>POST</td>\n",
       "      <td>AnonymFeed</td>\n",
       "      <td>REQ</td>\n",
       "      <td>Desktop</td>\n",
       "      <td>Desktop</td>\n",
       "      <td>Unknown</td>\n",
       "      <td>32</td>\n",
       "      <td>Desktop</td>\n",
       "      <td>Windows NT</td>\n",
       "      <td>Windows 7</td>\n",
       "      <td>...</td>\n",
       "      <td>Blink 63</td>\n",
       "      <td>Browser</td>\n",
       "      <td>Opera</td>\n",
       "      <td>50.0.2762.67</td>\n",
       "      <td>50</td>\n",
       "      <td>Opera 50.0.2762.67</td>\n",
       "      <td>Opera 50</td>\n",
       "      <td>None</td>\n",
       "      <td>None</td>\n",
       "      <td>0</td>\n",
       "    </tr>\n",
       "    <tr>\n",
       "      <th>1</th>\n",
       "      <td>POST</td>\n",
       "      <td>videoStatNew</td>\n",
       "      <td>REQ</td>\n",
       "      <td>Desktop</td>\n",
       "      <td>Desktop</td>\n",
       "      <td>Unknown</td>\n",
       "      <td>Intel x86_64</td>\n",
       "      <td>64</td>\n",
       "      <td>Desktop</td>\n",
       "      <td>Windows NT</td>\n",
       "      <td>...</td>\n",
       "      <td>Trident 7.0</td>\n",
       "      <td>Trident 7</td>\n",
       "      <td>Browser</td>\n",
       "      <td>Internet Explorer</td>\n",
       "      <td>11.0</td>\n",
       "      <td>11</td>\n",
       "      <td>Internet Explorer 11.0</td>\n",
       "      <td>Internet Explorer 11</td>\n",
       "      <td>None</td>\n",
       "      <td>0</td>\n",
       "    </tr>\n",
       "    <tr>\n",
       "      <th>2</th>\n",
       "      <td>POST</td>\n",
       "      <td>AnonymLogin</td>\n",
       "      <td>REQ</td>\n",
       "      <td>Desktop</td>\n",
       "      <td>Linux Desktop</td>\n",
       "      <td>Unknown</td>\n",
       "      <td>Intel x86_64</td>\n",
       "      <td>64</td>\n",
       "      <td>Desktop</td>\n",
       "      <td>Linux</td>\n",
       "      <td>...</td>\n",
       "      <td>Blink 58.0</td>\n",
       "      <td>Blink 58</td>\n",
       "      <td>Browser</td>\n",
       "      <td>Chrome</td>\n",
       "      <td>58.0.3029.81</td>\n",
       "      <td>58</td>\n",
       "      <td>Chrome 58.0.3029.81</td>\n",
       "      <td>Chrome 58</td>\n",
       "      <td>None</td>\n",
       "      <td>0</td>\n",
       "    </tr>\n",
       "    <tr>\n",
       "      <th>3</th>\n",
       "      <td>None</td>\n",
       "      <td>CSP</td>\n",
       "      <td>CSP</td>\n",
       "      <td>Desktop</td>\n",
       "      <td>Desktop</td>\n",
       "      <td>Unknown</td>\n",
       "      <td>Intel x86_64</td>\n",
       "      <td>64</td>\n",
       "      <td>Desktop</td>\n",
       "      <td>Windows NT</td>\n",
       "      <td>...</td>\n",
       "      <td>Blink 64.0</td>\n",
       "      <td>Blink 64</td>\n",
       "      <td>Browser</td>\n",
       "      <td>Chrome</td>\n",
       "      <td>64.0.3282.167</td>\n",
       "      <td>64</td>\n",
       "      <td>Chrome 64.0.3282.167</td>\n",
       "      <td>Chrome 64</td>\n",
       "      <td>None</td>\n",
       "      <td>0</td>\n",
       "    </tr>\n",
       "    <tr>\n",
       "      <th>4</th>\n",
       "      <td>POST</td>\n",
       "      <td>videoStatNew</td>\n",
       "      <td>REQ</td>\n",
       "      <td>Desktop</td>\n",
       "      <td>Desktop</td>\n",
       "      <td>Unknown</td>\n",
       "      <td>Intel x86_64</td>\n",
       "      <td>64</td>\n",
       "      <td>Desktop</td>\n",
       "      <td>Windows NT</td>\n",
       "      <td>...</td>\n",
       "      <td>Blink 64.0</td>\n",
       "      <td>Blink 64</td>\n",
       "      <td>Browser</td>\n",
       "      <td>Chrome</td>\n",
       "      <td>64.0.3282.167</td>\n",
       "      <td>64</td>\n",
       "      <td>Chrome 64.0.3282.167</td>\n",
       "      <td>Chrome 64</td>\n",
       "      <td>None</td>\n",
       "      <td>0</td>\n",
       "    </tr>\n",
       "  </tbody>\n",
       "</table>\n",
       "<p>5 rows × 26 columns</p>\n",
       "</div>"
      ],
      "text/plain": [
       "  method     operation requestType DeviceClass     DeviceName DeviceBrand  \\\n",
       "0   POST    AnonymFeed         REQ     Desktop        Desktop     Unknown   \n",
       "1   POST  videoStatNew         REQ     Desktop        Desktop     Unknown   \n",
       "2   POST   AnonymLogin         REQ     Desktop  Linux Desktop     Unknown   \n",
       "3   None           CSP         CSP     Desktop        Desktop     Unknown   \n",
       "4   POST  videoStatNew         REQ     Desktop        Desktop     Unknown   \n",
       "\n",
       "      DeviceCpu DeviceCpuBits OperatingSystemClass OperatingSystemName  ...    \\\n",
       "0            32       Desktop           Windows NT           Windows 7  ...     \n",
       "1  Intel x86_64            64              Desktop          Windows NT  ...     \n",
       "2  Intel x86_64            64              Desktop               Linux  ...     \n",
       "3  Intel x86_64            64              Desktop          Windows NT  ...     \n",
       "4  Intel x86_64            64              Desktop          Windows NT  ...     \n",
       "\n",
       "  LayoutEngineVersionMajor LayoutEngineNameVersion  \\\n",
       "0                 Blink 63                 Browser   \n",
       "1              Trident 7.0               Trident 7   \n",
       "2               Blink 58.0                Blink 58   \n",
       "3               Blink 64.0                Blink 64   \n",
       "4               Blink 64.0                Blink 64   \n",
       "\n",
       "  LayoutEngineNameVersionMajor         AgentClass      AgentName  \\\n",
       "0                        Opera       50.0.2762.67             50   \n",
       "1                      Browser  Internet Explorer           11.0   \n",
       "2                      Browser             Chrome   58.0.3029.81   \n",
       "3                      Browser             Chrome  64.0.3282.167   \n",
       "4                      Browser             Chrome  64.0.3282.167   \n",
       "\n",
       "         AgentVersion       AgentVersionMajor      AgentNameVersion  \\\n",
       "0  Opera 50.0.2762.67                Opera 50                  None   \n",
       "1                  11  Internet Explorer 11.0  Internet Explorer 11   \n",
       "2                  58     Chrome 58.0.3029.81             Chrome 58   \n",
       "3                  64    Chrome 64.0.3282.167             Chrome 64   \n",
       "4                  64    Chrome 64.0.3282.167             Chrome 64   \n",
       "\n",
       "  AgentNameVersionMajor target  \n",
       "0                  None      0  \n",
       "1                  None      0  \n",
       "2                  None      0  \n",
       "3                  None      0  \n",
       "4                  None      0  \n",
       "\n",
       "[5 rows x 26 columns]"
      ]
     },
     "execution_count": 26,
     "metadata": {},
     "output_type": "execute_result"
    }
   ],
   "source": [
    "http.head()"
   ]
  },
  {
   "cell_type": "markdown",
   "metadata": {},
   "source": [
    "### Основные transformers и estimators"
   ]
  },
  {
   "cell_type": "code",
   "execution_count": 6,
   "metadata": {},
   "outputs": [],
   "source": [
    "# class HashingTrick(TransformerMixin):\n",
    "    \n",
    "#     def __init__(self, hashing_trick_mods = default_dict):   \n",
    "#         self.hashing_trick_mods = hashing_trick_mods\n",
    "#         #self._HASH_SPARSE = 1000\n",
    "#         #self._hash_trick_mod = {}\n",
    "# #         for col in X.columns:\n",
    "# #             self._hash_trick_mod[col] = len(X[col].unique()) * self._HASH_SPARSE # для полностью уникальных значений(browserId) получается слишком много\n",
    "            \n",
    "# #     def _hashing_trick(self, X):\n",
    "# #         for col in features:\n",
    "# #             lX[col] = X[col].apply(lambda x: hash(col + '=' + str(x)) % self._hash_trick_mod[col])\n",
    "# #         return lX\n",
    "\n",
    "# #     def fit(self, X):\n",
    "# #         pass\n",
    "\n",
    "#     def fit(self, *_):\n",
    "#         return self\n",
    "        \n",
    "#     def transform(self, X, *_):\n",
    "#         #return self._hashing_trick(self, X)\n",
    "#         pass\n",
    "    \n",
    "#     def fit_transform(self, X):\n",
    "#         #return self.transform(X)\n",
    "        \n",
    "#         lX = pd.DataFrame()\n",
    "#         for col in features:\n",
    "#             lX[col] = X[col].apply(lambda x: hash(col + '=' + str(x)) % self._hash_trick_mod[col])\n",
    "#         return lX\n",
    "    \n",
    "# #     def get_params(self, **kwargs):\n",
    "# #         return {\"hash_trick_mod\": self._hash_trick_mod}\n",
    "    \n",
    "# #     def set_params(self, **kwargs):\n",
    "# #         \"\"\"Set the parameters of this estimator.\"\"\""
   ]
  },
  {
   "cell_type": "code",
   "execution_count": 7,
   "metadata": {},
   "outputs": [],
   "source": [
    "class HashingTrick(TransformerMixin):\n",
    "    \n",
    "    _default_hashing_trick_modulars = {\n",
    "        'DeviceClass': 10000,\n",
    "        'DeviceName': 10000,\n",
    "        'DeviceBrand': 10000,\n",
    "        'DeviceCpu': 10000,\n",
    "        'DeviceCpuBits': 10000,\n",
    "        'OperatingSystemClass': 10000,\n",
    "        'OperatingSystemName': 10000,\n",
    "        'OperatingSystemVersion': 10000,\n",
    "        'OperatingSystemNameVersion': 10000,\n",
    "        'OperatingSystemVersionBuild': 10000,\n",
    "        'LayoutEngineClass': 10000,\n",
    "        'LayoutEngineName': 10000,\n",
    "        'LayoutEngineVersion': 10000,\n",
    "        'LayoutEngineVersionMajor': 10000,\n",
    "        'LayoutEngineNameVersion': 10000,\n",
    "        'LayoutEngineNameVersionMajor': 10000,\n",
    "        'AgentClass': 10000,\n",
    "        'AgentName': 10000,\n",
    "        'AgentVersion': 10000,\n",
    "        'AgentVersionMajor': 10000,\n",
    "        'AgentNameVersion': 10000,\n",
    "        'AgentNameVersionMajor': 10000,\n",
    "        'requestType': 10000,\n",
    "        'operation': 10000,\n",
    "        'method': 1000\n",
    "    }\n",
    "    \n",
    "    def __init__(self, hashing_trick_modulars = _default_hashing_trick_modulars):\n",
    "        self.hashing_trick_modulars = hashing_trick_modulars\n",
    "    \n",
    "    def set_params(self, **kwargs):\n",
    "        \"\"\"Set the parameters of this estimator.\"\"\"\n",
    "    \n",
    "    def get_params(self, **kwargs):\n",
    "        return {\"hashing_trick_modulars\": self.hashing_trick_modulars}\n",
    "        \n",
    "    def _hashing_trick(self, x, n):\n",
    "        return hash(x) % n\n",
    "\n",
    "    def _column_hashing_trick(self, col_name):\n",
    "        self.http[col_name] = self.http[col_name].apply(self._hashing_trick, args=(self.hashing_trick_modulars[col_name],))\n",
    "  \n",
    "    def fit_transform(self, X, *_):\n",
    "        return self.transform(X)\n",
    "        \n",
    "    def transform(self, X, *_):\n",
    "        self.http = X\n",
    "        for feature in FEATURES:\n",
    "            self._column_hashing_trick(feature)\n",
    "\n",
    "        return self.http\n",
    "    \n",
    "    def fit(self, *_):\n",
    "        return self"
   ]
  },
  {
   "cell_type": "code",
   "execution_count": 8,
   "metadata": {},
   "outputs": [],
   "source": [
    "ht = HashingTrick()\n",
    "ohe = OneHotEncoder(sparse=True, handle_unknown='ignore')\n",
    "clf = SGDClassifier(random_state=17, loss='log')\n",
    "\n",
    "pipeline = Pipeline(steps=[('hashing_trick', ht),\n",
    "                          ('one_hot_encoder', ohe),\n",
    "                          ('model', clf)])"
   ]
  },
  {
   "cell_type": "markdown",
   "metadata": {},
   "source": [
    "### Подберем гиперпараметры для классификатора"
   ]
  },
  {
   "cell_type": "code",
   "execution_count": 9,
   "metadata": {},
   "outputs": [
    {
     "data": {
      "text/plain": [
       "dict_keys(['alpha', 'average', 'class_weight', 'epsilon', 'eta0', 'fit_intercept', 'l1_ratio', 'learning_rate', 'loss', 'max_iter', 'n_iter', 'n_jobs', 'penalty', 'power_t', 'random_state', 'shuffle', 'tol', 'verbose', 'warm_start'])"
      ]
     },
     "execution_count": 9,
     "metadata": {},
     "output_type": "execute_result"
    }
   ],
   "source": [
    "clf.get_params().keys()"
   ]
  },
  {
   "cell_type": "code",
   "execution_count": 11,
   "metadata": {},
   "outputs": [
    {
     "name": "stdout",
     "output_type": "stream",
     "text": [
      "Fitting 5 folds for each of 10 candidates, totalling 50 fits\n"
     ]
    },
    {
     "name": "stderr",
     "output_type": "stream",
     "text": [
      "[Parallel(n_jobs=1)]: Done  50 out of  50 | elapsed: 11.9min finished\n"
     ]
    },
    {
     "name": "stdout",
     "output_type": "stream",
     "text": [
      "{'model__max_iter': 130.0, 'model__alpha': 1e-09} 1.0\n",
      "             precision    recall  f1-score   support\n",
      "\n",
      "      users       1.00      1.00      1.00     67498\n",
      "       bots       1.00      1.00      1.00      1031\n",
      "\n",
      "avg / total       1.00      1.00      1.00     68529\n",
      "\n",
      "CPU times: user 12min 10s, sys: 17.2 s, total: 12min 27s\n",
      "Wall time: 12min 9s\n"
     ]
    }
   ],
   "source": [
    "%%time\n",
    "ALPHA_RANGE = np.fromfunction(lambda i: 1e-15 * pow(10, i), (15,), dtype=float)\n",
    "MAX_ITER_RANGE = np.fromfunction(lambda i: 10 * (i + 1), (20,), dtype=float)\n",
    "\n",
    "\n",
    "params = {'model__alpha': ALPHA_RANGE, 'model__max_iter': MAX_ITER_RANGE}\n",
    "\n",
    "search = RandomizedSearchCV(pipeline, params, cv=5, n_jobs=1, verbose=True, scoring='f1', n_iter=10)\n",
    "\n",
    "search.fit(X_train, y_train)\n",
    "print(search.best_params_, search.best_score_)\n",
    "print(classification_report(y_holdout, search.predict(X_holdout), target_names = ['users', 'bots']))"
   ]
  },
  {
   "cell_type": "markdown",
   "metadata": {},
   "source": [
    "#### Нужно отдельно создать пацанов"
   ]
  },
  {
   "cell_type": "code",
   "execution_count": 12,
   "metadata": {},
   "outputs": [],
   "source": [
    "ht = HashingTrick().fit(X)\n",
    "ohe = OneHotEncoder(sparse=True, handle_unknown='ignore').fit(ht.transform(X))\n",
    "clf = SGDClassifier(random_state = 17, \n",
    "                    max_iter = search.best_params_['model__max_iter'], \n",
    "                    alpha = search.best_params_['model__alpha'],\n",
    "                    loss = 'log')"
   ]
  },
  {
   "cell_type": "markdown",
   "metadata": {},
   "source": [
    "### Сохраним модель"
   ]
  },
  {
   "cell_type": "code",
   "execution_count": 13,
   "metadata": {},
   "outputs": [
    {
     "data": {
      "text/plain": [
       "['../../model/http_ua_clf.pkl']"
      ]
     },
     "execution_count": 13,
     "metadata": {},
     "output_type": "execute_result"
    }
   ],
   "source": [
    "joblib.dump(ht, os.path.join(MODEL_DIR, 'http_ua_ht.pkl'))\n",
    "joblib.dump(ohe, os.path.join(MODEL_DIR, 'http_ua_ohe.pkl'))\n",
    "joblib.dump(clf, os.path.join(MODEL_DIR, 'http_ua_clf.pkl'))"
   ]
  },
  {
   "cell_type": "markdown",
   "metadata": {},
   "source": [
    "## Обучим по кусочкам"
   ]
  },
  {
   "cell_type": "code",
   "execution_count": 14,
   "metadata": {},
   "outputs": [],
   "source": [
    "ht = joblib.load(os.path.join(MODEL_DIR, 'http_ua_ht.pkl'))\n",
    "ohe = joblib.load(os.path.join(MODEL_DIR, 'http_ua_ohe.pkl'))\n",
    "clf = joblib.load(os.path.join(MODEL_DIR, 'http_ua_clf.pkl'))"
   ]
  },
  {
   "cell_type": "code",
   "execution_count": 15,
   "metadata": {},
   "outputs": [],
   "source": [
    "train_batches = pq.read_table(DATA_DIR + 'http-20180217_1718_parsedUAA_batches_train.parquet', \n",
    "                        columns=FEATURES + ['target']).to_batches(50_000)"
   ]
  },
  {
   "cell_type": "code",
   "execution_count": 16,
   "metadata": {},
   "outputs": [
    {
     "name": "stdout",
     "output_type": "stream",
     "text": [
      "iteration # 0\n",
      "iteration # 1\n",
      "iteration # 2\n",
      "iteration # 3\n"
     ]
    }
   ],
   "source": [
    "first = True\n",
    "i = 0\n",
    "for batch in train_batches:\n",
    "    print('iteration #',i)\n",
    "    i += 1\n",
    "    http = batch.to_pandas()\n",
    "    X = http[FEATURES]\n",
    "    y = http['target']\n",
    "    X = ht.transform(X)\n",
    "    X = ohe.transform(X)\n",
    "    if (first):\n",
    "        clf.fit(X, y) # Проблема, когда 'y' состоит только из пользователей\n",
    "        first = False\n",
    "    else:\n",
    "        clf.partial_fit(X, y)"
   ]
  },
  {
   "cell_type": "code",
   "execution_count": 17,
   "metadata": {},
   "outputs": [
    {
     "data": {
      "text/plain": [
       "['../../model/http_ua_clf_fitted_on_batches.pkl']"
      ]
     },
     "execution_count": 17,
     "metadata": {},
     "output_type": "execute_result"
    }
   ],
   "source": [
    "joblib.dump(clf, MODEL_DIR + 'http_ua_clf_fitted_on_batches.pkl')"
   ]
  },
  {
   "cell_type": "markdown",
   "metadata": {},
   "source": [
    "### Прогнозы для большой выборки"
   ]
  },
  {
   "cell_type": "code",
   "execution_count": 18,
   "metadata": {},
   "outputs": [],
   "source": [
    "ht = joblib.load(os.path.join(MODEL_DIR, 'http_ua_ht.pkl'))\n",
    "ohe = joblib.load(os.path.join(MODEL_DIR, 'http_ua_ohe.pkl'))\n",
    "clf = joblib.load(os.path.join(MODEL_DIR, 'http_ua_clf_fitted_on_batches.pkl'))"
   ]
  },
  {
   "cell_type": "code",
   "execution_count": 19,
   "metadata": {},
   "outputs": [],
   "source": [
    "# todo: поменять на другой df\n",
    "predict_batches = pq.read_table(DATA_DIR + 'http-20180217_1718_parsedUAA_batches_test.parquet', \n",
    "                        columns=FEATURES + ['target']).to_batches(100_000)"
   ]
  },
  {
   "cell_type": "code",
   "execution_count": 20,
   "metadata": {},
   "outputs": [],
   "source": [
    "predicted_writer = pq.ParquetWriter(DATA_DIR + 'http-20180217_1718_parsedUA_predicted.parquet', \n",
    "                                    pa.Table.from_pandas(pd.DataFrame({'predict_proba': []}, dtype=np.float64)).schema)"
   ]
  },
  {
   "cell_type": "code",
   "execution_count": 21,
   "metadata": {},
   "outputs": [],
   "source": [
    "for batch in predict_batches:\n",
    "    http = batch.to_pandas()\n",
    "    X = http[FEATURES]\n",
    "    X = ht.transform(X)\n",
    "    X = ohe.transform(X)\n",
    "    predicted = clf.predict_proba(X)\n",
    "    table = pa.Table.from_pandas(pd.DataFrame({'predict_proba': predicted[:,1]}, dtype=np.float64))\n",
    "    predicted_writer.write_table(table)"
   ]
  },
  {
   "cell_type": "code",
   "execution_count": 22,
   "metadata": {},
   "outputs": [],
   "source": [
    "predicted_writer.close()"
   ]
  },
  {
   "cell_type": "markdown",
   "metadata": {},
   "source": [
    "#### Теперь сравним с тем что должно было получиться"
   ]
  },
  {
   "cell_type": "code",
   "execution_count": 23,
   "metadata": {},
   "outputs": [],
   "source": [
    "predicted_proba = pq.read_table(os.path.join(DATA_DIR, 'http-20180217_1718_parsedUA_predicted.parquet'),\n",
    "                                columns=['predict_proba']).to_pandas()\n",
    "\n",
    "real = pq.read_table(os.path.join(DATA_DIR, 'http-20180217_1718_parsedUAA_batches_test.parquet'),\n",
    "                                columns=['target']).to_pandas()"
   ]
  },
  {
   "cell_type": "code",
   "execution_count": 24,
   "metadata": {},
   "outputs": [],
   "source": [
    "bound = 0.5\n",
    "predicted = (predicted_proba.values.ravel() > bound).astype(np.int32)"
   ]
  },
  {
   "cell_type": "code",
   "execution_count": 25,
   "metadata": {},
   "outputs": [
    {
     "name": "stdout",
     "output_type": "stream",
     "text": [
      "             precision    recall  f1-score   support\n",
      "\n",
      "      users       0.99      1.00      1.00     67470\n",
      "       bots       0.72      0.65      0.68      1059\n",
      "\n",
      "avg / total       0.99      0.99      0.99     68529\n",
      "\n"
     ]
    }
   ],
   "source": [
    "print(classification_report(real, predicted, target_names = ['users', 'bots']))"
   ]
  },
  {
   "cell_type": "code",
   "execution_count": null,
   "metadata": {},
   "outputs": [],
   "source": []
  }
 ],
 "metadata": {
  "kernelspec": {
   "display_name": "Python 3",
   "language": "python",
   "name": "python3"
  },
  "language_info": {
   "codemirror_mode": {
    "name": "ipython",
    "version": 3
   },
   "file_extension": ".py",
   "mimetype": "text/x-python",
   "name": "python",
   "nbconvert_exporter": "python",
   "pygments_lexer": "ipython3",
   "version": "3.6.4"
  }
 },
 "nbformat": 4,
 "nbformat_minor": 2
}
