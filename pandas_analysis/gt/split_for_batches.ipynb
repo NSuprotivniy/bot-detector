{
 "cells": [
  {
   "cell_type": "code",
   "execution_count": 10,
   "metadata": {},
   "outputs": [],
   "source": [
    "import pyarrow.parquet as pq\n",
    "import pyarrow as pa\n",
    "import os\n",
    "import pandas as pd\n",
    "from sklearn.model_selection import train_test_split"
   ]
  },
  {
   "cell_type": "code",
   "execution_count": 11,
   "metadata": {},
   "outputs": [],
   "source": [
    "DATA_DIR = '../../data/batches'"
   ]
  },
  {
   "cell_type": "code",
   "execution_count": 12,
   "metadata": {},
   "outputs": [
    {
     "name": "stdout",
     "output_type": "stream",
     "text": [
      "23M\t../../data/batches/encAnonymusHTTPRequests-20180217_parsedUAA_parquet.parquet\r\n"
     ]
    }
   ],
   "source": [
    "!du $DATA_DIR/encAnonymusHTTPRequests-20180217_parsedUAA_parquet.parquet -h"
   ]
  },
  {
   "cell_type": "code",
   "execution_count": 13,
   "metadata": {},
   "outputs": [],
   "source": [
    "http = pq.read_table(os.path.join(DATA_DIR, 'encAnonymusHTTPRequests-20180217_parsedUAA_parquet.parquet')).to_pandas()\n",
    "http = http.sample(frac=1).reset_index()"
   ]
  },
  {
   "cell_type": "code",
   "execution_count": 14,
   "metadata": {},
   "outputs": [
    {
     "data": {
      "text/plain": [
       "(228428, 35)"
      ]
     },
     "execution_count": 14,
     "metadata": {},
     "output_type": "execute_result"
    }
   ],
   "source": [
    "http.shape"
   ]
  },
  {
   "cell_type": "code",
   "execution_count": 15,
   "metadata": {},
   "outputs": [
    {
     "data": {
      "text/html": [
       "<div>\n",
       "<style scoped>\n",
       "    .dataframe tbody tr th:only-of-type {\n",
       "        vertical-align: middle;\n",
       "    }\n",
       "\n",
       "    .dataframe tbody tr th {\n",
       "        vertical-align: top;\n",
       "    }\n",
       "\n",
       "    .dataframe thead th {\n",
       "        text-align: right;\n",
       "    }\n",
       "</style>\n",
       "<table border=\"1\" class=\"dataframe\">\n",
       "  <thead>\n",
       "    <tr style=\"text-align: right;\">\n",
       "      <th></th>\n",
       "      <th>index</th>\n",
       "      <th>browserId</th>\n",
       "      <th>from</th>\n",
       "      <th>ip</th>\n",
       "      <th>method</th>\n",
       "      <th>operation</th>\n",
       "      <th>referrer</th>\n",
       "      <th>requestType</th>\n",
       "      <th>timestamp</th>\n",
       "      <th>to</th>\n",
       "      <th>...</th>\n",
       "      <th>LayoutEngineVersionMajor</th>\n",
       "      <th>LayoutEngineNameVersion</th>\n",
       "      <th>LayoutEngineNameVersionMajor</th>\n",
       "      <th>AgentClass</th>\n",
       "      <th>AgentName</th>\n",
       "      <th>AgentVersion</th>\n",
       "      <th>AgentVersionMajor</th>\n",
       "      <th>AgentNameVersion</th>\n",
       "      <th>AgentNameVersionMajor</th>\n",
       "      <th>isBot</th>\n",
       "    </tr>\n",
       "  </thead>\n",
       "  <tbody>\n",
       "    <tr>\n",
       "      <th>0</th>\n",
       "      <td>127901</td>\n",
       "      <td>-3825840030379057683</td>\n",
       "      <td>None</td>\n",
       "      <td>aEnhiIdxNIhT0kYGGn6H1w==</td>\n",
       "      <td>GET</td>\n",
       "      <td>PopLayerPhoto</td>\n",
       "      <td>https://ok.ru/</td>\n",
       "      <td>REQ</td>\n",
       "      <td>1518757128205</td>\n",
       "      <td>None</td>\n",
       "      <td>...</td>\n",
       "      <td>Blink 64.0</td>\n",
       "      <td>Blink 64</td>\n",
       "      <td>Browser</td>\n",
       "      <td>Chrome</td>\n",
       "      <td>64.0.3282.168</td>\n",
       "      <td>64</td>\n",
       "      <td>Chrome 64.0.3282.168</td>\n",
       "      <td>Chrome 64</td>\n",
       "      <td>None</td>\n",
       "      <td>0</td>\n",
       "    </tr>\n",
       "    <tr>\n",
       "      <th>1</th>\n",
       "      <td>123737</td>\n",
       "      <td>7693801844659994129</td>\n",
       "      <td>None</td>\n",
       "      <td>BdcBv+ehNVLOgetPIJcI8A==</td>\n",
       "      <td>POST</td>\n",
       "      <td>FriendsPageMRB</td>\n",
       "      <td>https://ok.ru/</td>\n",
       "      <td>REQ</td>\n",
       "      <td>1518808162317</td>\n",
       "      <td>None</td>\n",
       "      <td>...</td>\n",
       "      <td>Blink 63.0</td>\n",
       "      <td>Blink 63</td>\n",
       "      <td>Browser</td>\n",
       "      <td>Opera</td>\n",
       "      <td>50.0.2762.67</td>\n",
       "      <td>50</td>\n",
       "      <td>Opera 50.0.2762.67</td>\n",
       "      <td>Opera 50</td>\n",
       "      <td>None</td>\n",
       "      <td>0</td>\n",
       "    </tr>\n",
       "    <tr>\n",
       "      <th>2</th>\n",
       "      <td>184208</td>\n",
       "      <td>6131714660239713839</td>\n",
       "      <td>None</td>\n",
       "      <td>+lBKCQAwVi/6MELjJJq2xA==</td>\n",
       "      <td>POST</td>\n",
       "      <td>videoStatNew</td>\n",
       "      <td>https://ok.ru/videoembed/37705026294</td>\n",
       "      <td>REQ</td>\n",
       "      <td>1518743373837</td>\n",
       "      <td>None</td>\n",
       "      <td>...</td>\n",
       "      <td>Gecko 58.0</td>\n",
       "      <td>Gecko 58</td>\n",
       "      <td>20100101</td>\n",
       "      <td>Browser</td>\n",
       "      <td>Firefox</td>\n",
       "      <td>58.0</td>\n",
       "      <td>58</td>\n",
       "      <td>Firefox 58.0</td>\n",
       "      <td>Firefox 58</td>\n",
       "      <td>0</td>\n",
       "    </tr>\n",
       "    <tr>\n",
       "      <th>3</th>\n",
       "      <td>192719</td>\n",
       "      <td>6256074590087211199</td>\n",
       "      <td>None</td>\n",
       "      <td>RYM4/U2orLfldmSqcmXL7Q==</td>\n",
       "      <td>None</td>\n",
       "      <td>CSP</td>\n",
       "      <td>None</td>\n",
       "      <td>CSP</td>\n",
       "      <td>1518733889549</td>\n",
       "      <td>None</td>\n",
       "      <td>...</td>\n",
       "      <td>Blink 64.0</td>\n",
       "      <td>Blink 64</td>\n",
       "      <td>Browser</td>\n",
       "      <td>Opera</td>\n",
       "      <td>51.0.2830.34</td>\n",
       "      <td>51</td>\n",
       "      <td>Opera 51.0.2830.34</td>\n",
       "      <td>Opera 51</td>\n",
       "      <td>None</td>\n",
       "      <td>0</td>\n",
       "    </tr>\n",
       "    <tr>\n",
       "      <th>4</th>\n",
       "      <td>124540</td>\n",
       "      <td>-4550623916966314647</td>\n",
       "      <td>None</td>\n",
       "      <td>NavoT98A3kmM90UAEzMGHA==</td>\n",
       "      <td>POST</td>\n",
       "      <td>videoPlayerMetadata</td>\n",
       "      <td>https://www.ok.ru/</td>\n",
       "      <td>REQ</td>\n",
       "      <td>1518779246605</td>\n",
       "      <td>None</td>\n",
       "      <td>...</td>\n",
       "      <td>Blink 63.0</td>\n",
       "      <td>Blink 63</td>\n",
       "      <td>Browser</td>\n",
       "      <td>Opera</td>\n",
       "      <td>50.0.2762.67</td>\n",
       "      <td>50</td>\n",
       "      <td>Opera 50.0.2762.67</td>\n",
       "      <td>Opera 50</td>\n",
       "      <td>None</td>\n",
       "      <td>0</td>\n",
       "    </tr>\n",
       "  </tbody>\n",
       "</table>\n",
       "<p>5 rows × 35 columns</p>\n",
       "</div>"
      ],
      "text/plain": [
       "    index            browserId  from                        ip method  \\\n",
       "0  127901 -3825840030379057683  None  aEnhiIdxNIhT0kYGGn6H1w==    GET   \n",
       "1  123737  7693801844659994129  None  BdcBv+ehNVLOgetPIJcI8A==   POST   \n",
       "2  184208  6131714660239713839  None  +lBKCQAwVi/6MELjJJq2xA==   POST   \n",
       "3  192719  6256074590087211199  None  RYM4/U2orLfldmSqcmXL7Q==   None   \n",
       "4  124540 -4550623916966314647  None  NavoT98A3kmM90UAEzMGHA==   POST   \n",
       "\n",
       "             operation                              referrer requestType  \\\n",
       "0        PopLayerPhoto                        https://ok.ru/         REQ   \n",
       "1       FriendsPageMRB                        https://ok.ru/         REQ   \n",
       "2         videoStatNew  https://ok.ru/videoembed/37705026294         REQ   \n",
       "3                  CSP                                  None         CSP   \n",
       "4  videoPlayerMetadata                    https://www.ok.ru/         REQ   \n",
       "\n",
       "       timestamp    to  ...  LayoutEngineVersionMajor LayoutEngineNameVersion  \\\n",
       "0  1518757128205  None  ...                Blink 64.0                Blink 64   \n",
       "1  1518808162317  None  ...                Blink 63.0                Blink 63   \n",
       "2  1518743373837  None  ...                Gecko 58.0                Gecko 58   \n",
       "3  1518733889549  None  ...                Blink 64.0                Blink 64   \n",
       "4  1518779246605  None  ...                Blink 63.0                Blink 63   \n",
       "\n",
       "  LayoutEngineNameVersionMajor AgentClass      AgentName AgentVersion  \\\n",
       "0                      Browser     Chrome  64.0.3282.168           64   \n",
       "1                      Browser      Opera   50.0.2762.67           50   \n",
       "2                     20100101    Browser        Firefox         58.0   \n",
       "3                      Browser      Opera   51.0.2830.34           51   \n",
       "4                      Browser      Opera   50.0.2762.67           50   \n",
       "\n",
       "      AgentVersionMajor AgentNameVersion AgentNameVersionMajor isBot  \n",
       "0  Chrome 64.0.3282.168        Chrome 64                  None     0  \n",
       "1    Opera 50.0.2762.67         Opera 50                  None     0  \n",
       "2                    58     Firefox 58.0            Firefox 58     0  \n",
       "3    Opera 51.0.2830.34         Opera 51                  None     0  \n",
       "4    Opera 50.0.2762.67         Opera 50                  None     0  \n",
       "\n",
       "[5 rows x 35 columns]"
      ]
     },
     "execution_count": 15,
     "metadata": {},
     "output_type": "execute_result"
    }
   ],
   "source": [
    "http.head()"
   ]
  },
  {
   "cell_type": "code",
   "execution_count": 5,
   "metadata": {},
   "outputs": [],
   "source": [
    "http['target'] = http['isBot']\n",
    "http.drop('isBot', axis=1, inplace=True)"
   ]
  },
  {
   "cell_type": "code",
   "execution_count": null,
   "metadata": {},
   "outputs": [],
   "source": []
  },
  {
   "cell_type": "code",
   "execution_count": 6,
   "metadata": {},
   "outputs": [],
   "source": [
    "pq.write_table(pa.Table.from_pandas(http), os.path.join(DATA_DIR, 'http-20180217_1718_parsedUAA_target.parquet'))"
   ]
  },
  {
   "cell_type": "code",
   "execution_count": null,
   "metadata": {},
   "outputs": [],
   "source": []
  },
  {
   "cell_type": "code",
   "execution_count": 7,
   "metadata": {},
   "outputs": [],
   "source": [
    "http_batches_train = http[http.index < int(http.shape[0]*0.7)]\n",
    "http_batches_test = http[http.index >= int(http.shape[0]*0.7)]"
   ]
  },
  {
   "cell_type": "markdown",
   "metadata": {},
   "source": [
    "### Запишем на диск"
   ]
  },
  {
   "cell_type": "code",
   "execution_count": 8,
   "metadata": {},
   "outputs": [],
   "source": [
    "pq.write_table(pa.Table.from_pandas(http_batches_train), \n",
    "               os.path.join(DATA_DIR, 'http-20180217_1718_parsedUAA_batches_train.parquet'))\n",
    "pq.write_table(pa.Table.from_pandas(http_batches_test), \n",
    "               os.path.join(DATA_DIR, 'http-20180217_1718_parsedUAA_batches_test.parquet'))"
   ]
  },
  {
   "cell_type": "code",
   "execution_count": null,
   "metadata": {},
   "outputs": [],
   "source": []
  }
 ],
 "metadata": {
  "kernelspec": {
   "display_name": "Python 3",
   "language": "python",
   "name": "python3"
  },
  "language_info": {
   "codemirror_mode": {
    "name": "ipython",
    "version": 3
   },
   "file_extension": ".py",
   "mimetype": "text/x-python",
   "name": "python",
   "nbconvert_exporter": "python",
   "pygments_lexer": "ipython3",
   "version": "3.6.4"
  }
 },
 "nbformat": 4,
 "nbformat_minor": 2
}
