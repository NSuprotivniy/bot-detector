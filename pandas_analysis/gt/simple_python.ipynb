{
 "cells": [
  {
   "cell_type": "code",
   "execution_count": 3,
   "metadata": {},
   "outputs": [
    {
     "name": "stdout",
     "output_type": "stream",
     "text": [
      "После локального присваивания: спам\n",
      "После нелокального присваивания: нелокальный спам\n",
      "После глобального присваивания: нелокальный спам\n",
      "В глобальной области видимости: глобальный спам\n"
     ]
    }
   ],
   "source": [
    "def test_scope():\n",
    "    def do_local():\n",
    "        spam = 'локальный спам'\n",
    "    def do_nonlocal():\n",
    "        nonlocal spam\n",
    "        spam = 'нелокальный спам'\n",
    "    def do_global():\n",
    "        global spam\n",
    "        spam = 'глобальный спам'\n",
    "        \n",
    "    spam = 'спам'\n",
    "    do_local()\n",
    "    print('После локального присваивания:', spam)\n",
    "    do_nonlocal()\n",
    "    print('После нелокального присваивания:', spam)\n",
    "    do_global()\n",
    "    print('После глобального присваивания:', spam)\n",
    "    \n",
    "test_scope()    \n",
    "print('В глобальной области видимости:', spam)"
   ]
  },
  {
   "cell_type": "code",
   "execution_count": 5,
   "metadata": {},
   "outputs": [],
   "source": [
    "class MyClass:\n",
    "    '''doc string'''\n",
    "    _my_str = 'str'\n",
    "    def f(self):\n",
    "        return ('hi' + self._my_str)\n",
    "\n",
    "x = MyClass()"
   ]
  },
  {
   "cell_type": "code",
   "execution_count": 6,
   "metadata": {},
   "outputs": [
    {
     "data": {
      "text/plain": [
       "'histr'"
      ]
     },
     "execution_count": 6,
     "metadata": {},
     "output_type": "execute_result"
    }
   ],
   "source": [
    "x.f()"
   ]
  },
  {
   "cell_type": "code",
   "execution_count": 7,
   "metadata": {},
   "outputs": [
    {
     "data": {
      "text/plain": [
       "'str'"
      ]
     },
     "execution_count": 7,
     "metadata": {},
     "output_type": "execute_result"
    }
   ],
   "source": [
    "x._my_str"
   ]
  },
  {
   "cell_type": "code",
   "execution_count": 4,
   "metadata": {},
   "outputs": [
    {
     "data": {
      "text/plain": [
       "'str'"
      ]
     },
     "execution_count": 4,
     "metadata": {},
     "output_type": "execute_result"
    }
   ],
   "source": [
    "MyClass.my_str"
   ]
  },
  {
   "cell_type": "code",
   "execution_count": 13,
   "metadata": {},
   "outputs": [
    {
     "name": "stdout",
     "output_type": "stream",
     "text": [
      "16\n"
     ]
    }
   ],
   "source": [
    "x.count = 1\n",
    "while x.count < 10:\n",
    "    x.count = x.count * 2\n",
    "print(x.count)    "
   ]
  },
  {
   "cell_type": "code",
   "execution_count": null,
   "metadata": {},
   "outputs": [],
   "source": []
  }
 ],
 "metadata": {
  "kernelspec": {
   "display_name": "Python 3",
   "language": "python",
   "name": "python3"
  },
  "language_info": {
   "codemirror_mode": {
    "name": "ipython",
    "version": 3
   },
   "file_extension": ".py",
   "mimetype": "text/x-python",
   "name": "python",
   "nbconvert_exporter": "python",
   "pygments_lexer": "ipython3",
   "version": "3.6.4"
  }
 },
 "nbformat": 4,
 "nbformat_minor": 2
}
