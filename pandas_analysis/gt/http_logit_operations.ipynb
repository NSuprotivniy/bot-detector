{
 "cells": [
  {
   "cell_type": "code",
   "execution_count": 1,
   "metadata": {},
   "outputs": [],
   "source": [
    "# !pip install pyarrow\n",
    "import pandas as pd\n",
    "import pyarrow.parquet as pq\n",
    "from scipy.sparse import csr_matrix\n",
    "from sklearn.model_selection import train_test_split\n",
    "from sklearn.linear_model import LogisticRegression\n",
    "from sklearn.metrics import roc_auc_score"
   ]
  },
  {
   "cell_type": "code",
   "execution_count": 2,
   "metadata": {},
   "outputs": [
    {
     "data": {
      "text/html": [
       "<div>\n",
       "<style scoped>\n",
       "    .dataframe tbody tr th:only-of-type {\n",
       "        vertical-align: middle;\n",
       "    }\n",
       "\n",
       "    .dataframe tbody tr th {\n",
       "        vertical-align: top;\n",
       "    }\n",
       "\n",
       "    .dataframe thead th {\n",
       "        text-align: right;\n",
       "    }\n",
       "</style>\n",
       "<table border=\"1\" class=\"dataframe\">\n",
       "  <thead>\n",
       "    <tr style=\"text-align: right;\">\n",
       "      <th></th>\n",
       "      <th>browserId</th>\n",
       "      <th>from</th>\n",
       "      <th>ip</th>\n",
       "      <th>method</th>\n",
       "      <th>operation</th>\n",
       "      <th>referrer</th>\n",
       "      <th>requestType</th>\n",
       "      <th>timestamp</th>\n",
       "      <th>to</th>\n",
       "      <th>url</th>\n",
       "      <th>userAgent</th>\n",
       "      <th>userId</th>\n",
       "      <th>hour</th>\n",
       "      <th>target</th>\n",
       "    </tr>\n",
       "  </thead>\n",
       "  <tbody>\n",
       "    <tr>\n",
       "      <th>0</th>\n",
       "      <td>8.293748e+18</td>\n",
       "      <td>None</td>\n",
       "      <td>3rRnET9ABG3feVMANINXpg==</td>\n",
       "      <td>GET</td>\n",
       "      <td>spring-mvc</td>\n",
       "      <td>https://www.ok.ru/</td>\n",
       "      <td>REQ</td>\n",
       "      <td>1518791752182</td>\n",
       "      <td>None</td>\n",
       "      <td>https://ok.ru/web-api/pts/postingFormJs</td>\n",
       "      <td>Mozilla/5.0 (Windows NT 6.3; Win64; x64) Apple...</td>\n",
       "      <td>0hs35/dB/t+uT7u/c71+Vw==</td>\n",
       "      <td>17</td>\n",
       "      <td>1</td>\n",
       "    </tr>\n",
       "    <tr>\n",
       "      <th>1</th>\n",
       "      <td>8.293748e+18</td>\n",
       "      <td>friendMain</td>\n",
       "      <td>3rRnET9ABG3feVMANINXpg==</td>\n",
       "      <td>POST</td>\n",
       "      <td>friendAltGroup</td>\n",
       "      <td>https://www.ok.ru/</td>\n",
       "      <td>NAV</td>\n",
       "      <td>1518793194690</td>\n",
       "      <td>friendAltGroup</td>\n",
       "      <td>https://www.ok.ru/profile/561514539517/groups</td>\n",
       "      <td>Mozilla/5.0 (Windows NT 6.3; Win64; x64) Apple...</td>\n",
       "      <td>HW3KxEEODcSX6gJg1YZQtQ==</td>\n",
       "      <td>17</td>\n",
       "      <td>1</td>\n",
       "    </tr>\n",
       "    <tr>\n",
       "      <th>2</th>\n",
       "      <td>7.895490e+17</td>\n",
       "      <td>None</td>\n",
       "      <td>Qsv9DECmtHgfUZ0GAVUoLQ==</td>\n",
       "      <td>POST</td>\n",
       "      <td>PinsEditAjaxRB</td>\n",
       "      <td>https://ok.ru/</td>\n",
       "      <td>REQ</td>\n",
       "      <td>1518791913138</td>\n",
       "      <td>None</td>\n",
       "      <td>https://ok.ru/profile/589603942951/statuses</td>\n",
       "      <td>Mozilla/5.0 (Windows NT 10.0) AppleWebKit/537....</td>\n",
       "      <td>e9iJCewg5Ww1ijKmYKdAyg==</td>\n",
       "      <td>17</td>\n",
       "      <td>1</td>\n",
       "    </tr>\n",
       "    <tr>\n",
       "      <th>3</th>\n",
       "      <td>8.293748e+18</td>\n",
       "      <td>None</td>\n",
       "      <td>3rRnET9ABG3feVMANINXpg==</td>\n",
       "      <td>GET</td>\n",
       "      <td>spring-mvc</td>\n",
       "      <td>https://www.ok.ru/</td>\n",
       "      <td>REQ</td>\n",
       "      <td>1518792629926</td>\n",
       "      <td>None</td>\n",
       "      <td>https://ok.ru/web-api/pts/webpush</td>\n",
       "      <td>Mozilla/5.0 (Windows NT 6.3; Win64; x64) Apple...</td>\n",
       "      <td>HW3KxEEODcSX6gJg1YZQtQ==</td>\n",
       "      <td>17</td>\n",
       "      <td>1</td>\n",
       "    </tr>\n",
       "    <tr>\n",
       "      <th>4</th>\n",
       "      <td>-8.322615e+18</td>\n",
       "      <td>None</td>\n",
       "      <td>XK5THOHUVJHpqGojQAKrMQ==</td>\n",
       "      <td>GET</td>\n",
       "      <td>userMain</td>\n",
       "      <td>None</td>\n",
       "      <td>NAV</td>\n",
       "      <td>1518795472623</td>\n",
       "      <td>userMain</td>\n",
       "      <td>https://ok.ru/</td>\n",
       "      <td>Mozilla/5.0 (Windows NT 5.1) AppleWebKit/537.3...</td>\n",
       "      <td>f3Z8Sr501bB3SvEgCo+9Rg==</td>\n",
       "      <td>18</td>\n",
       "      <td>1</td>\n",
       "    </tr>\n",
       "  </tbody>\n",
       "</table>\n",
       "</div>"
      ],
      "text/plain": [
       "      browserId        from                        ip method       operation  \\\n",
       "0  8.293748e+18        None  3rRnET9ABG3feVMANINXpg==    GET      spring-mvc   \n",
       "1  8.293748e+18  friendMain  3rRnET9ABG3feVMANINXpg==   POST  friendAltGroup   \n",
       "2  7.895490e+17        None  Qsv9DECmtHgfUZ0GAVUoLQ==   POST  PinsEditAjaxRB   \n",
       "3  8.293748e+18        None  3rRnET9ABG3feVMANINXpg==    GET      spring-mvc   \n",
       "4 -8.322615e+18        None  XK5THOHUVJHpqGojQAKrMQ==    GET        userMain   \n",
       "\n",
       "             referrer requestType      timestamp              to  \\\n",
       "0  https://www.ok.ru/         REQ  1518791752182            None   \n",
       "1  https://www.ok.ru/         NAV  1518793194690  friendAltGroup   \n",
       "2      https://ok.ru/         REQ  1518791913138            None   \n",
       "3  https://www.ok.ru/         REQ  1518792629926            None   \n",
       "4                None         NAV  1518795472623        userMain   \n",
       "\n",
       "                                             url  \\\n",
       "0        https://ok.ru/web-api/pts/postingFormJs   \n",
       "1  https://www.ok.ru/profile/561514539517/groups   \n",
       "2    https://ok.ru/profile/589603942951/statuses   \n",
       "3              https://ok.ru/web-api/pts/webpush   \n",
       "4                                 https://ok.ru/   \n",
       "\n",
       "                                           userAgent  \\\n",
       "0  Mozilla/5.0 (Windows NT 6.3; Win64; x64) Apple...   \n",
       "1  Mozilla/5.0 (Windows NT 6.3; Win64; x64) Apple...   \n",
       "2  Mozilla/5.0 (Windows NT 10.0) AppleWebKit/537....   \n",
       "3  Mozilla/5.0 (Windows NT 6.3; Win64; x64) Apple...   \n",
       "4  Mozilla/5.0 (Windows NT 5.1) AppleWebKit/537.3...   \n",
       "\n",
       "                     userId  hour  target  \n",
       "0  0hs35/dB/t+uT7u/c71+Vw==    17       1  \n",
       "1  HW3KxEEODcSX6gJg1YZQtQ==    17       1  \n",
       "2  e9iJCewg5Ww1ijKmYKdAyg==    17       1  \n",
       "3  HW3KxEEODcSX6gJg1YZQtQ==    17       1  \n",
       "4  f3Z8Sr501bB3SvEgCo+9Rg==    18       1  "
      ]
     },
     "execution_count": 2,
     "metadata": {},
     "output_type": "execute_result"
    }
   ],
   "source": [
    "DATA_DIR = '../data/'\n",
    "http_bots = pq.read_table(DATA_DIR + 'botsHTTPRequests-20180216_1416GMT.parquet').to_pandas()\n",
    "http_users = pq.read_table(DATA_DIR + 'usersHTTPRequests-20180216_1416GMT.parquet').to_pandas()\n",
    "#http_bots = http_bots.sample(frac = 0.03)\n",
    "#http_users = http_users.sample(frac=0.03)\n",
    "http_users['target'] = 0\n",
    "http_bots['target'] = 1\n",
    "\n",
    "http = pd.concat([http_bots, http_users])\n",
    "\n",
    "http.head()"
   ]
  },
  {
   "cell_type": "code",
   "execution_count": 3,
   "metadata": {},
   "outputs": [],
   "source": [
    "http = http.sample(frac=1).reset_index(drop=True)"
   ]
  },
  {
   "cell_type": "code",
   "execution_count": 4,
   "metadata": {},
   "outputs": [
    {
     "data": {
      "text/html": [
       "<div>\n",
       "<style scoped>\n",
       "    .dataframe tbody tr th:only-of-type {\n",
       "        vertical-align: middle;\n",
       "    }\n",
       "\n",
       "    .dataframe tbody tr th {\n",
       "        vertical-align: top;\n",
       "    }\n",
       "\n",
       "    .dataframe thead th {\n",
       "        text-align: right;\n",
       "    }\n",
       "</style>\n",
       "<table border=\"1\" class=\"dataframe\">\n",
       "  <thead>\n",
       "    <tr style=\"text-align: right;\">\n",
       "      <th></th>\n",
       "      <th>browserId</th>\n",
       "      <th>from</th>\n",
       "      <th>ip</th>\n",
       "      <th>method</th>\n",
       "      <th>operation</th>\n",
       "      <th>referrer</th>\n",
       "      <th>requestType</th>\n",
       "      <th>timestamp</th>\n",
       "      <th>to</th>\n",
       "      <th>url</th>\n",
       "      <th>userAgent</th>\n",
       "      <th>userId</th>\n",
       "      <th>hour</th>\n",
       "      <th>target</th>\n",
       "    </tr>\n",
       "  </thead>\n",
       "  <tbody>\n",
       "    <tr>\n",
       "      <th>0</th>\n",
       "      <td>-2.085537e+18</td>\n",
       "      <td>None</td>\n",
       "      <td>07NtqPyZzxTvxexa/uOnmA==</td>\n",
       "      <td>POST</td>\n",
       "      <td>SuggestStickers</td>\n",
       "      <td>https://ok.ru/</td>\n",
       "      <td>REQ</td>\n",
       "      <td>1518793107257</td>\n",
       "      <td>None</td>\n",
       "      <td>https://ok.ru/dk</td>\n",
       "      <td>Mozilla/5.0 (Windows NT 10.0; Win64; x64) Appl...</td>\n",
       "      <td>ehCYYCNR5p5CadOkzr4WIA==</td>\n",
       "      <td>17</td>\n",
       "      <td>0</td>\n",
       "    </tr>\n",
       "    <tr>\n",
       "      <th>1</th>\n",
       "      <td>7.693487e+18</td>\n",
       "      <td>None</td>\n",
       "      <td>7bMFBcnTgBAhMUwabngpKQ==</td>\n",
       "      <td>POST</td>\n",
       "      <td>FourthCol</td>\n",
       "      <td>https://ok.ru/</td>\n",
       "      <td>REQ</td>\n",
       "      <td>1518791867438</td>\n",
       "      <td>None</td>\n",
       "      <td>https://ok.ru/</td>\n",
       "      <td>Mozilla/5.0 (Windows NT 10.0; Win64; x64) Appl...</td>\n",
       "      <td>QgCLyEWWtx6lHKXaxNsS/g==</td>\n",
       "      <td>17</td>\n",
       "      <td>0</td>\n",
       "    </tr>\n",
       "    <tr>\n",
       "      <th>2</th>\n",
       "      <td>-5.216583e+18</td>\n",
       "      <td>None</td>\n",
       "      <td>WCQhM0EGeDY2DROuhFwHlw==</td>\n",
       "      <td>POST</td>\n",
       "      <td>spring-mvc</td>\n",
       "      <td>https://ok.ru/</td>\n",
       "      <td>REQ</td>\n",
       "      <td>1518794957468</td>\n",
       "      <td>None</td>\n",
       "      <td>https://ok.ru/web-api/messages/conversation/ma...</td>\n",
       "      <td>Mozilla/5.0 (Windows NT 6.1; WOW64) AppleWebKi...</td>\n",
       "      <td>2mtvC8JfdJW49iLdtHKztg==</td>\n",
       "      <td>18</td>\n",
       "      <td>0</td>\n",
       "    </tr>\n",
       "    <tr>\n",
       "      <th>3</th>\n",
       "      <td>6.958212e+16</td>\n",
       "      <td>None</td>\n",
       "      <td>/9A9JZ+Ao84mVOnpX/3vMQ==</td>\n",
       "      <td>POST</td>\n",
       "      <td>PopLayerPhoto</td>\n",
       "      <td>https://ok.ru/</td>\n",
       "      <td>REQ</td>\n",
       "      <td>1518795265214</td>\n",
       "      <td>None</td>\n",
       "      <td>https://ok.ru/feed</td>\n",
       "      <td>Mozilla/5.0 (Windows NT 10.0; Win64; x64) Appl...</td>\n",
       "      <td>JMd86zyKJRqEIUMufDfXmA==</td>\n",
       "      <td>18</td>\n",
       "      <td>0</td>\n",
       "    </tr>\n",
       "    <tr>\n",
       "      <th>4</th>\n",
       "      <td>-6.347539e+17</td>\n",
       "      <td>None</td>\n",
       "      <td>i8uvTGkZHM5kxsYYDcZRhg==</td>\n",
       "      <td>POST</td>\n",
       "      <td>videoStatNew</td>\n",
       "      <td>https://ok.ru/</td>\n",
       "      <td>REQ</td>\n",
       "      <td>1518794482457</td>\n",
       "      <td>None</td>\n",
       "      <td>https://ok.ru/dk</td>\n",
       "      <td>Mozilla/5.0 (Windows NT 6.1) AppleWebKit/537.3...</td>\n",
       "      <td>Dz1Q3qr++0M1UqUbLp0r8g==</td>\n",
       "      <td>18</td>\n",
       "      <td>0</td>\n",
       "    </tr>\n",
       "  </tbody>\n",
       "</table>\n",
       "</div>"
      ],
      "text/plain": [
       "      browserId  from                        ip method        operation  \\\n",
       "0 -2.085537e+18  None  07NtqPyZzxTvxexa/uOnmA==   POST  SuggestStickers   \n",
       "1  7.693487e+18  None  7bMFBcnTgBAhMUwabngpKQ==   POST        FourthCol   \n",
       "2 -5.216583e+18  None  WCQhM0EGeDY2DROuhFwHlw==   POST       spring-mvc   \n",
       "3  6.958212e+16  None  /9A9JZ+Ao84mVOnpX/3vMQ==   POST    PopLayerPhoto   \n",
       "4 -6.347539e+17  None  i8uvTGkZHM5kxsYYDcZRhg==   POST     videoStatNew   \n",
       "\n",
       "         referrer requestType      timestamp    to  \\\n",
       "0  https://ok.ru/         REQ  1518793107257  None   \n",
       "1  https://ok.ru/         REQ  1518791867438  None   \n",
       "2  https://ok.ru/         REQ  1518794957468  None   \n",
       "3  https://ok.ru/         REQ  1518795265214  None   \n",
       "4  https://ok.ru/         REQ  1518794482457  None   \n",
       "\n",
       "                                                 url  \\\n",
       "0                                   https://ok.ru/dk   \n",
       "1                                     https://ok.ru/   \n",
       "2  https://ok.ru/web-api/messages/conversation/ma...   \n",
       "3                                 https://ok.ru/feed   \n",
       "4                                   https://ok.ru/dk   \n",
       "\n",
       "                                           userAgent  \\\n",
       "0  Mozilla/5.0 (Windows NT 10.0; Win64; x64) Appl...   \n",
       "1  Mozilla/5.0 (Windows NT 10.0; Win64; x64) Appl...   \n",
       "2  Mozilla/5.0 (Windows NT 6.1; WOW64) AppleWebKi...   \n",
       "3  Mozilla/5.0 (Windows NT 10.0; Win64; x64) Appl...   \n",
       "4  Mozilla/5.0 (Windows NT 6.1) AppleWebKit/537.3...   \n",
       "\n",
       "                     userId  hour  target  \n",
       "0  ehCYYCNR5p5CadOkzr4WIA==    17       0  \n",
       "1  QgCLyEWWtx6lHKXaxNsS/g==    17       0  \n",
       "2  2mtvC8JfdJW49iLdtHKztg==    18       0  \n",
       "3  JMd86zyKJRqEIUMufDfXmA==    18       0  \n",
       "4  Dz1Q3qr++0M1UqUbLp0r8g==    18       0  "
      ]
     },
     "execution_count": 4,
     "metadata": {},
     "output_type": "execute_result"
    }
   ],
   "source": [
    "http.head()"
   ]
  },
  {
   "cell_type": "code",
   "execution_count": 5,
   "metadata": {},
   "outputs": [
    {
     "name": "stdout",
     "output_type": "stream",
     "text": [
      "Кол-во уникальных операций: 480\n"
     ]
    }
   ],
   "source": [
    "print('Кол-во уникальных операций: {}'.format(len(http['operation'].unique())))"
   ]
  },
  {
   "cell_type": "markdown",
   "metadata": {},
   "source": [
    "### Приведем категориальный столбей общей выборки к разряженному виду и разделим выборку на train и test"
   ]
  },
  {
   "cell_type": "markdown",
   "metadata": {},
   "source": [
    "Сначала закодируем названия операция чиселками"
   ]
  },
  {
   "cell_type": "code",
   "execution_count": 6,
   "metadata": {},
   "outputs": [],
   "source": [
    "operations = http['operation']\n",
    "\n",
    "dict_code_op = {}\n",
    "\n",
    "c = 0\n",
    "for op in operations.unique():\n",
    "    dict_code_op[op] = c\n",
    "    c += 1\n",
    "    \n",
    "operations = operations.apply(lambda x: dict_code_op[x])    \n",
    "#operations = pd.DataFrame()"
   ]
  },
  {
   "cell_type": "code",
   "execution_count": 7,
   "metadata": {},
   "outputs": [],
   "source": [
    "operations_sparse = csr_matrix(([1] * operations.shape[0],\n",
    "                                operations,\n",
    "                                range(0, operations.shape[0] + 1, 1)))[:, 1:]\n",
    "#operations_sparse.toarray()"
   ]
  },
  {
   "cell_type": "code",
   "execution_count": 8,
   "metadata": {},
   "outputs": [],
   "source": [
    "# С помощью train_test_split разбивать не получается, \n",
    "# тк разряженный категориальный стобец требует индекса\n",
    "# и не хочется преобразовывать csr_matrix к pd.DataFrame\n",
    "\n",
    "# X_train, X_holdout, y_train, y_holdout = train_test_split(\n",
    "#     http.drop('target', axis=1), http['target'], test_size=0.3, random_state=17)\n",
    "\n",
    "# operations_sparse -> X_train/X_test; http.target -> y_train/y_test\n",
    "idx_split = int(http.shape[0] * 0.7)\n",
    "X_train = operations_sparse[:idx_split]\n",
    "X_holdout = operations_sparse[idx_split:] #X_test = operations_sparse[idx_split:, :] для df\n",
    "y_train = http['target'][:idx_split]\n",
    "y_holdout = http['target'][idx_split:]"
   ]
  },
  {
   "cell_type": "markdown",
   "metadata": {},
   "source": [
    "### Обучим модель"
   ]
  },
  {
   "cell_type": "code",
   "execution_count": 9,
   "metadata": {},
   "outputs": [
    {
     "name": "stderr",
     "output_type": "stream",
     "text": [
      "/usr/local/lib/python3.5/dist-packages/sklearn/linear_model/logistic.py:1228: UserWarning: 'n_jobs' > 1 does not have any effect when 'solver' is set to 'liblinear'. Got 'n_jobs' = -1.\n",
      "  \" = {}.\".format(self.n_jobs))\n"
     ]
    },
    {
     "name": "stdout",
     "output_type": "stream",
     "text": [
      "CPU times: user 1.82 s, sys: 15.1 ms, total: 1.83 s\n",
      "Wall time: 1.83 s\n"
     ]
    }
   ],
   "source": [
    "%%time\n",
    "# Посмотрим вообще как долго обучаться\n",
    "\n",
    "logit = LogisticRegression(C=0.1, n_jobs=-1, random_state=17)\n",
    "logit.fit(X_train, y_train)"
   ]
  },
  {
   "cell_type": "code",
   "execution_count": 17,
   "metadata": {},
   "outputs": [],
   "source": [
    "holdout_pred = logit.predict_proba(X_holdout)"
   ]
  },
  {
   "cell_type": "code",
   "execution_count": 18,
   "metadata": {},
   "outputs": [
    {
     "data": {
      "text/plain": [
       "(303114, 2)"
      ]
     },
     "execution_count": 18,
     "metadata": {},
     "output_type": "execute_result"
    }
   ],
   "source": [
    "holdout_pred.shape"
   ]
  },
  {
   "cell_type": "code",
   "execution_count": 19,
   "metadata": {},
   "outputs": [
    {
     "data": {
      "text/plain": [
       "array([[0.99386551, 0.00613449],\n",
       "       [0.99764369, 0.00235631],\n",
       "       [0.99230277, 0.00769723],\n",
       "       ...,\n",
       "       [0.9984107 , 0.0015893 ],\n",
       "       [0.9984107 , 0.0015893 ],\n",
       "       [0.9981742 , 0.0018258 ]])"
      ]
     },
     "execution_count": 19,
     "metadata": {},
     "output_type": "execute_result"
    }
   ],
   "source": [
    "holdout_pred"
   ]
  },
  {
   "cell_type": "code",
   "execution_count": 20,
   "metadata": {
    "scrolled": true
   },
   "outputs": [
    {
     "name": "stdout",
     "output_type": "stream",
     "text": [
      "Грубая оценка кол-ва ботов: 215 из 1010377\n"
     ]
    }
   ],
   "source": [
    "n_bots = 0\n",
    "for i in holdout_pred:\n",
    "    if i[0] < i[1]:\n",
    "        n_bots += 1\n",
    "print('Грубая оценка кол-ва ботов: {} из {}'.format(n_bots, http.shape[0]))"
   ]
  },
  {
   "cell_type": "code",
   "execution_count": 23,
   "metadata": {},
   "outputs": [
    {
     "data": {
      "text/plain": [
       "0.9091452918277505"
      ]
     },
     "execution_count": 23,
     "metadata": {},
     "output_type": "execute_result"
    }
   ],
   "source": [
    "roc_auc_score(y_holdout, holdout_pred[:, 1])"
   ]
  },
  {
   "cell_type": "code",
   "execution_count": null,
   "metadata": {},
   "outputs": [],
   "source": []
  },
  {
   "cell_type": "code",
   "execution_count": null,
   "metadata": {},
   "outputs": [],
   "source": []
  },
  {
   "cell_type": "code",
   "execution_count": null,
   "metadata": {},
   "outputs": [],
   "source": []
  },
  {
   "cell_type": "code",
   "execution_count": null,
   "metadata": {},
   "outputs": [],
   "source": []
  }
 ],
 "metadata": {
  "kernelspec": {
   "display_name": "Python 3",
   "language": "python",
   "name": "python3"
  }
 },
 "nbformat": 4,
 "nbformat_minor": 2
}
