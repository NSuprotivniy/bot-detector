{
 "cells": [
  {
   "cell_type": "code",
   "execution_count": 3,
   "metadata": {},
   "outputs": [],
   "source": [
    "import pandas as pd"
   ]
  },
  {
   "cell_type": "code",
   "execution_count": 4,
   "metadata": {},
   "outputs": [],
   "source": [
    "def rm_users_with_same_bid(df, uid, bid):\n",
    "    s_uniq = df[bid].unique()\n",
    "    \n",
    "    for i in s_uniq:\n",
    "        row_idx_tb_rm = []\n",
    "        flag = True\n",
    "        for index, row in df.iterrows():\n",
    "            if (row[bid] == i) & flag:\n",
    "                cur_bid = row[bid]\n",
    "                cur_uid = row[uid]\n",
    "                flag = False            \n",
    "            if (row[bid] == cur_bid) & (row[uid] != cur_uid):\n",
    "                row_idx_tb_rm.append(index)\n",
    "                \n",
    "        # print('iteration#{}: {}'.format(i, row_idx_tb_rm))\n",
    "\n",
    "        df.drop(row_idx_tb_rm, inplace = True)\n",
    "        \n",
    "    df.reset_index(inplace=True, drop=True)\n",
    "    \n",
    "    return df"
   ]
  },
  {
   "cell_type": "code",
   "execution_count": 5,
   "metadata": {},
   "outputs": [],
   "source": [
    "def test_no_diff_users_with_same_bid():\n",
    "    col_names = ['f', 's']\n",
    "    # тест на сохранность\n",
    "    df = pd.DataFrame([['a', 1], \n",
    "                       ['b', 2], \n",
    "                       ['c', 3]], columns=col_names)\n",
    "    \n",
    "    # тест на удаление и на индексы\n",
    "    df2 = pd.DataFrame([['a', 1], \n",
    "                       ['c', 1],\n",
    "                       ['b', 2], \n",
    "                       ['d', 2]], columns=col_names)\n",
    "    \n",
    "    df2_after = pd.DataFrame([['a', 1], ['b', 2]], columns=col_names)\n",
    "    \n",
    "    assert rm_users_with_same_bid(df, 'f', 's').equals(df)\n",
    "    assert rm_users_with_same_bid(df2, 'f', 's').equals(df2_after)\n",
    "        \n",
    "    \n",
    "test_no_diff_users_with_same_bid() "
   ]
  },
  {
   "cell_type": "code",
   "execution_count": 6,
   "metadata": {},
   "outputs": [],
   "source": [
    "def rm_users_with_multiple_bid(df, uid, bid):\n",
    "    f_uniq = df[uid].unique()\n",
    "    \n",
    "    for i in f_uniq:        \n",
    "        row_idx_tb_rm = []\n",
    "        flag = True\n",
    "        for idx, row in df.iterrows():    \n",
    "            if (row[uid] == i) & flag:\n",
    "                cur_bid = row[bid]\n",
    "                cur_uid = row[uid]\n",
    "                flag = False\n",
    "            if (row[uid] == cur_uid) & (row[bid] != cur_bid):\n",
    "                row_idx_tb_rm.append(idx)\n",
    "                \n",
    "        df.drop(row_idx_tb_rm, inplace = True)\n",
    "    \n",
    "    # обновим индексы\n",
    "    df.reset_index(inplace=True, drop=True)\n",
    "    \n",
    "    return df  "
   ]
  },
  {
   "cell_type": "code",
   "execution_count": 7,
   "metadata": {},
   "outputs": [],
   "source": [
    "def test_no_user_with_multiple_bid():\n",
    "    col_names = ['f', 's']\n",
    "    # тест на сохранность\n",
    "    df = pd.DataFrame([['a', 1], ['b', 2], ['c', 3]], columns=col_names)\n",
    "    \n",
    "    df2 = pd.DataFrame([['a', 1],\n",
    "                       ['a', 2],\n",
    "                       ['a', 1],\n",
    "                       ['a', 1]], columns=col_names)\n",
    "    \n",
    "    # тест на удаление и на индексы\n",
    "    df2_after = pd.DataFrame([['a',1], ['a',1], ['a',1]], columns=col_names)\n",
    "    \n",
    "    assert rm_users_with_multiple_bid(df, 'f', 's').equals(df)\n",
    "    assert rm_users_with_multiple_bid(df2, 'f', 's').equals(df2_after)\n",
    "    \n",
    "    \n",
    "test_no_user_with_multiple_bid() "
   ]
  },
  {
   "cell_type": "code",
   "execution_count": null,
   "metadata": {},
   "outputs": [],
   "source": []
  }
 ],
 "metadata": {
  "kernelspec": {
   "display_name": "Python 3",
   "language": "python",
   "name": "python3"
  },
  "language_info": {
   "codemirror_mode": {
    "name": "ipython",
    "version": 3
   },
   "file_extension": ".py",
   "mimetype": "text/x-python",
   "name": "python",
   "nbconvert_exporter": "python",
   "pygments_lexer": "ipython3",
   "version": "3.5.2"
  }
 },
 "nbformat": 4,
 "nbformat_minor": 2
}
