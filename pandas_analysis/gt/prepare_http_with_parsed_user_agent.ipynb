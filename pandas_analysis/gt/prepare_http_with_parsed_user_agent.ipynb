{
 "cells": [
  {
   "cell_type": "code",
   "execution_count": 1,
   "metadata": {},
   "outputs": [],
   "source": [
    "import pyarrow.parquet as pq\n",
    "import pyarrow as pa\n",
    "import os\n",
    "import pandas as pd"
   ]
  },
  {
   "cell_type": "code",
   "execution_count": 2,
   "metadata": {},
   "outputs": [],
   "source": [
    "DATA_DIR = '../../data/'"
   ]
  },
  {
   "cell_type": "code",
   "execution_count": 3,
   "metadata": {},
   "outputs": [
    {
     "name": "stdout",
     "output_type": "stream",
     "text": [
      "80M\t../../data//usersHTTPRequests-20180217_1718_parsedUAA.parquet\r\n"
     ]
    }
   ],
   "source": [
    "!du $DATA_DIR/usersHTTPRequests-20180217_1718_parsedUAA.parquet -h"
   ]
  },
  {
   "cell_type": "code",
   "execution_count": 4,
   "metadata": {},
   "outputs": [
    {
     "name": "stdout",
     "output_type": "stream",
     "text": [
      "564K\t../../data//botsHTTPRequests-20180217_1718_parsedUAA.parquet\r\n"
     ]
    }
   ],
   "source": [
    "!du -h $DATA_DIR/botsHTTPRequests-20180217_1718_parsedUAA.parquet"
   ]
  },
  {
   "cell_type": "code",
   "execution_count": 5,
   "metadata": {},
   "outputs": [],
   "source": [
    "http_users = pq.read_table(os.path.join(DATA_DIR, 'usersHTTPRequests-20180217_1718_parsedUAA.parquet')).to_pandas()\n",
    "http_bots = pq.read_table(os.path.join(DATA_DIR, 'botsHTTPRequests-20180217_1718_parsedUAA.parquet')).to_pandas()\n",
    "http_users['target'] = 0\n",
    "http_bots['target'] = 1\n",
    "http = pd.concat([http_users, http_bots])\n",
    "http = http.sample(frac=1).reset_index(drop=True)"
   ]
  },
  {
   "cell_type": "code",
   "execution_count": 6,
   "metadata": {},
   "outputs": [
    {
     "data": {
      "text/plain": [
       "(10377, 36)"
      ]
     },
     "execution_count": 6,
     "metadata": {},
     "output_type": "execute_result"
    }
   ],
   "source": [
    "http_bots.shape"
   ]
  },
  {
   "cell_type": "code",
   "execution_count": 7,
   "metadata": {},
   "outputs": [
    {
     "data": {
      "text/plain": [
       "(1000000, 36)"
      ]
     },
     "execution_count": 7,
     "metadata": {},
     "output_type": "execute_result"
    }
   ],
   "source": [
    "http_users.shape"
   ]
  },
  {
   "cell_type": "markdown",
   "metadata": {},
   "source": [
    "### Выгрузим данные"
   ]
  },
  {
   "cell_type": "code",
   "execution_count": 10,
   "metadata": {},
   "outputs": [],
   "source": [
    "pq.write_table(pa.Table.from_pandas(http_batch_train), os.path.join(DATA_DIR, 'HTTPRequests-20180217_1718_parsedUAA.parquet'))"
   ]
  },
  {
   "cell_type": "code",
   "execution_count": null,
   "metadata": {},
   "outputs": [],
   "source": []
  },
  {
   "cell_type": "code",
   "execution_count": null,
   "metadata": {},
   "outputs": [],
   "source": []
  },
  {
   "cell_type": "code",
   "execution_count": null,
   "metadata": {},
   "outputs": [],
   "source": []
  },
  {
   "cell_type": "markdown",
   "metadata": {},
   "source": [
    "### Проверим что все ок записалось"
   ]
  },
  {
   "cell_type": "code",
   "execution_count": 9,
   "metadata": {},
   "outputs": [
    {
     "data": {
      "text/html": [
       "<div>\n",
       "<style scoped>\n",
       "    .dataframe tbody tr th:only-of-type {\n",
       "        vertical-align: middle;\n",
       "    }\n",
       "\n",
       "    .dataframe tbody tr th {\n",
       "        vertical-align: top;\n",
       "    }\n",
       "\n",
       "    .dataframe thead th {\n",
       "        text-align: right;\n",
       "    }\n",
       "</style>\n",
       "<table border=\"1\" class=\"dataframe\">\n",
       "  <thead>\n",
       "    <tr style=\"text-align: right;\">\n",
       "      <th></th>\n",
       "      <th>browserId</th>\n",
       "      <th>from</th>\n",
       "      <th>ip</th>\n",
       "      <th>method</th>\n",
       "      <th>operation</th>\n",
       "      <th>referrer</th>\n",
       "      <th>requestType</th>\n",
       "      <th>timestamp</th>\n",
       "      <th>to</th>\n",
       "      <th>url</th>\n",
       "      <th>...</th>\n",
       "      <th>LayoutEngineVersionMajor</th>\n",
       "      <th>LayoutEngineNameVersion</th>\n",
       "      <th>LayoutEngineNameVersionMajor</th>\n",
       "      <th>AgentClass</th>\n",
       "      <th>AgentName</th>\n",
       "      <th>AgentVersion</th>\n",
       "      <th>AgentVersionMajor</th>\n",
       "      <th>AgentNameVersion</th>\n",
       "      <th>AgentNameVersionMajor</th>\n",
       "      <th>target</th>\n",
       "    </tr>\n",
       "  </thead>\n",
       "  <tbody>\n",
       "    <tr>\n",
       "      <th>0</th>\n",
       "      <td>8.279288e+18</td>\n",
       "      <td>None</td>\n",
       "      <td>ENCS5Hew5nSr6gx+fk7Mrg==</td>\n",
       "      <td>POST</td>\n",
       "      <td>PopLayerPhoto</td>\n",
       "      <td>https://ok.ru/</td>\n",
       "      <td>REQ</td>\n",
       "      <td>1518792396833</td>\n",
       "      <td>None</td>\n",
       "      <td>https://ok.ru/dk</td>\n",
       "      <td>...</td>\n",
       "      <td>Blink 63</td>\n",
       "      <td>Browser</td>\n",
       "      <td>Chrome</td>\n",
       "      <td>63.0.3239.132</td>\n",
       "      <td>63</td>\n",
       "      <td>Chrome 63.0.3239.132</td>\n",
       "      <td>Chrome 63</td>\n",
       "      <td>None</td>\n",
       "      <td>None</td>\n",
       "      <td>0</td>\n",
       "    </tr>\n",
       "    <tr>\n",
       "      <th>1</th>\n",
       "      <td>-2.952908e+18</td>\n",
       "      <td>None</td>\n",
       "      <td>kFUS7tje0JyQ/FACwWYF+Q==</td>\n",
       "      <td>GET</td>\n",
       "      <td>spring-mvc</td>\n",
       "      <td>https://www.ok.ru/</td>\n",
       "      <td>REQ</td>\n",
       "      <td>1518793729631</td>\n",
       "      <td>None</td>\n",
       "      <td>https://ok.ru/web-api/pts/webpush</td>\n",
       "      <td>...</td>\n",
       "      <td>Blink 63.0</td>\n",
       "      <td>Blink 63</td>\n",
       "      <td>Browser</td>\n",
       "      <td>Opera</td>\n",
       "      <td>50.0.2762.67</td>\n",
       "      <td>50</td>\n",
       "      <td>Opera 50.0.2762.67</td>\n",
       "      <td>Opera 50</td>\n",
       "      <td>None</td>\n",
       "      <td>0</td>\n",
       "    </tr>\n",
       "    <tr>\n",
       "      <th>2</th>\n",
       "      <td>-9.004095e+18</td>\n",
       "      <td>None</td>\n",
       "      <td>XsCnP/ad+m9QnqPvRkje5Q==</td>\n",
       "      <td>POST</td>\n",
       "      <td>PopLayer</td>\n",
       "      <td>https://ok.ru/</td>\n",
       "      <td>REQ</td>\n",
       "      <td>1518792275856</td>\n",
       "      <td>None</td>\n",
       "      <td>https://ok.ru/feed</td>\n",
       "      <td>...</td>\n",
       "      <td>Blink 56.0</td>\n",
       "      <td>Blink 56</td>\n",
       "      <td>Browser</td>\n",
       "      <td>Chrome</td>\n",
       "      <td>56.0.2924.92</td>\n",
       "      <td>56</td>\n",
       "      <td>Chrome 56.0.2924.92</td>\n",
       "      <td>Chrome 56</td>\n",
       "      <td>None</td>\n",
       "      <td>0</td>\n",
       "    </tr>\n",
       "    <tr>\n",
       "      <th>3</th>\n",
       "      <td>9.114327e+18</td>\n",
       "      <td>None</td>\n",
       "      <td>QMi+W68e+W825dymychhTw==</td>\n",
       "      <td>POST</td>\n",
       "      <td>MediaTopicLayerBody</td>\n",
       "      <td>https://ok.ru/</td>\n",
       "      <td>REQ</td>\n",
       "      <td>1518792178300</td>\n",
       "      <td>None</td>\n",
       "      <td>https://ok.ru/group/56821153792061</td>\n",
       "      <td>...</td>\n",
       "      <td>Gecko 58.0</td>\n",
       "      <td>Gecko 58</td>\n",
       "      <td>20100101</td>\n",
       "      <td>Browser</td>\n",
       "      <td>Firefox</td>\n",
       "      <td>58.0</td>\n",
       "      <td>58</td>\n",
       "      <td>Firefox 58.0</td>\n",
       "      <td>Firefox 58</td>\n",
       "      <td>0</td>\n",
       "    </tr>\n",
       "    <tr>\n",
       "      <th>4</th>\n",
       "      <td>3.273209e+18</td>\n",
       "      <td>None</td>\n",
       "      <td>/1CZS7JB0E03X0HSIfVPSQ==</td>\n",
       "      <td>POST</td>\n",
       "      <td>MessagesTypingStatus</td>\n",
       "      <td>https://ok.ru/</td>\n",
       "      <td>REQ</td>\n",
       "      <td>1518793724067</td>\n",
       "      <td>None</td>\n",
       "      <td>https://ok.ru/dk</td>\n",
       "      <td>...</td>\n",
       "      <td>Blink 64</td>\n",
       "      <td>Browser</td>\n",
       "      <td>Chrome</td>\n",
       "      <td>64.0.3282.119</td>\n",
       "      <td>64</td>\n",
       "      <td>Chrome 64.0.3282.119</td>\n",
       "      <td>Chrome 64</td>\n",
       "      <td>None</td>\n",
       "      <td>None</td>\n",
       "      <td>0</td>\n",
       "    </tr>\n",
       "  </tbody>\n",
       "</table>\n",
       "<p>5 rows × 36 columns</p>\n",
       "</div>"
      ],
      "text/plain": [
       "      browserId  from                        ip method             operation  \\\n",
       "0  8.279288e+18  None  ENCS5Hew5nSr6gx+fk7Mrg==   POST         PopLayerPhoto   \n",
       "1 -2.952908e+18  None  kFUS7tje0JyQ/FACwWYF+Q==    GET            spring-mvc   \n",
       "2 -9.004095e+18  None  XsCnP/ad+m9QnqPvRkje5Q==   POST              PopLayer   \n",
       "3  9.114327e+18  None  QMi+W68e+W825dymychhTw==   POST   MediaTopicLayerBody   \n",
       "4  3.273209e+18  None  /1CZS7JB0E03X0HSIfVPSQ==   POST  MessagesTypingStatus   \n",
       "\n",
       "             referrer requestType      timestamp    to  \\\n",
       "0      https://ok.ru/         REQ  1518792396833  None   \n",
       "1  https://www.ok.ru/         REQ  1518793729631  None   \n",
       "2      https://ok.ru/         REQ  1518792275856  None   \n",
       "3      https://ok.ru/         REQ  1518792178300  None   \n",
       "4      https://ok.ru/         REQ  1518793724067  None   \n",
       "\n",
       "                                  url  ...   LayoutEngineVersionMajor  \\\n",
       "0                    https://ok.ru/dk  ...                   Blink 63   \n",
       "1   https://ok.ru/web-api/pts/webpush  ...                 Blink 63.0   \n",
       "2                  https://ok.ru/feed  ...                 Blink 56.0   \n",
       "3  https://ok.ru/group/56821153792061  ...                 Gecko 58.0   \n",
       "4                    https://ok.ru/dk  ...                   Blink 64   \n",
       "\n",
       "  LayoutEngineNameVersion  LayoutEngineNameVersionMajor     AgentClass  \\\n",
       "0                 Browser                        Chrome  63.0.3239.132   \n",
       "1                Blink 63                       Browser          Opera   \n",
       "2                Blink 56                       Browser         Chrome   \n",
       "3                Gecko 58                      20100101        Browser   \n",
       "4                 Browser                        Chrome  64.0.3282.119   \n",
       "\n",
       "      AgentName          AgentVersion    AgentVersionMajor AgentNameVersion  \\\n",
       "0            63  Chrome 63.0.3239.132            Chrome 63             None   \n",
       "1  50.0.2762.67                    50   Opera 50.0.2762.67         Opera 50   \n",
       "2  56.0.2924.92                    56  Chrome 56.0.2924.92        Chrome 56   \n",
       "3       Firefox                  58.0                   58     Firefox 58.0   \n",
       "4            64  Chrome 64.0.3282.119            Chrome 64             None   \n",
       "\n",
       "  AgentNameVersionMajor target  \n",
       "0                  None      0  \n",
       "1                  None      0  \n",
       "2                  None      0  \n",
       "3            Firefox 58      0  \n",
       "4                  None      0  \n",
       "\n",
       "[5 rows x 36 columns]"
      ]
     },
     "execution_count": 9,
     "metadata": {},
     "output_type": "execute_result"
    }
   ],
   "source": [
    "res = pq.read_table(os.path.join(DATA_DIR, 'test_parquet_write.parquet')).to_pandas()\n",
    "res.head()"
   ]
  },
  {
   "cell_type": "markdown",
   "metadata": {},
   "source": [
    "'DeviceClass',\n",
    "'DeviceName',\n",
    "'DeviceBrand',\n",
    "'DeviceCpu',\n",
    "'DeviceCpuBits',\n",
    "'OperatingSystemClass',\n",
    "'OperatingSystemName',\n",
    "'OperatingSystemVersion',\n",
    "'OperatingSystemNameVersion',\n",
    "'OperatingSystemVersionBuild',\n",
    "'LayoutEngineClass',\n",
    "'LayoutEngineName',\n",
    "'LayoutEngineVersion',\n",
    "'LayoutEngineVersionMajor',\n",
    "'LayoutEngineNameVersion',\n",
    "'LayoutEngineNameVersionMajor',\n",
    "'AgentClass',\n",
    "'AgentName',\n",
    "'AgentVersion',\n",
    "'AgentVersionMajor',\n",
    "'AgentNameVersion',\n",
    "'AgentNameVersionMajor',"
   ]
  },
  {
   "cell_type": "code",
   "execution_count": null,
   "metadata": {},
   "outputs": [],
   "source": []
  }
 ],
 "metadata": {
  "kernelspec": {
   "display_name": "Python 3",
   "language": "python",
   "name": "python3"
  },
  "language_info": {
   "codemirror_mode": {
    "name": "ipython",
    "version": 3
   },
   "file_extension": ".py",
   "mimetype": "text/x-python",
   "name": "python",
   "nbconvert_exporter": "python",
   "pygments_lexer": "ipython3",
   "version": "3.6.4"
  }
 },
 "nbformat": 4,
 "nbformat_minor": 2
}
