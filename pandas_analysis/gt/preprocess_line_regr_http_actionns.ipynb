{
 "cells": [
  {
   "cell_type": "code",
   "execution_count": 26,
   "metadata": {},
   "outputs": [],
   "source": [
    "import pandas as pd\n",
    "import pyarrow.parquet as pq"
   ]
  },
  {
   "cell_type": "code",
   "execution_count": 27,
   "metadata": {},
   "outputs": [],
   "source": [
    "DATA_DIR = '../data/'\n",
    "anonym_http = pq.read_table(DATA_DIR + 'anonymousHTTPRequests-20180217.parquet').to_pandas()\n",
    "bots = pq.read_table(DATA_DIR + 'botsUidBidTable.parquet').to_pandas()"
   ]
  },
  {
   "cell_type": "code",
   "execution_count": 28,
   "metadata": {},
   "outputs": [],
   "source": [
    "anonym_http = anonym_http.sample(frac=0.003)"
   ]
  },
  {
   "cell_type": "code",
   "execution_count": 29,
   "metadata": {
    "scrolled": true
   },
   "outputs": [
    {
     "data": {
      "text/html": [
       "<div>\n",
       "<style scoped>\n",
       "    .dataframe tbody tr th:only-of-type {\n",
       "        vertical-align: middle;\n",
       "    }\n",
       "\n",
       "    .dataframe tbody tr th {\n",
       "        vertical-align: top;\n",
       "    }\n",
       "\n",
       "    .dataframe thead th {\n",
       "        text-align: right;\n",
       "    }\n",
       "</style>\n",
       "<table border=\"1\" class=\"dataframe\">\n",
       "  <thead>\n",
       "    <tr style=\"text-align: right;\">\n",
       "      <th></th>\n",
       "      <th>browserId</th>\n",
       "      <th>from</th>\n",
       "      <th>ip</th>\n",
       "      <th>method</th>\n",
       "      <th>operation</th>\n",
       "      <th>referrer</th>\n",
       "      <th>requestType</th>\n",
       "      <th>timestamp</th>\n",
       "      <th>to</th>\n",
       "      <th>url</th>\n",
       "      <th>userAgent</th>\n",
       "      <th>userId</th>\n",
       "    </tr>\n",
       "  </thead>\n",
       "  <tbody>\n",
       "    <tr>\n",
       "      <th>140962</th>\n",
       "      <td>1.847157e+18</td>\n",
       "      <td>None</td>\n",
       "      <td>UN4KSZub9Z/20BFMFx1z4g==</td>\n",
       "      <td>POST</td>\n",
       "      <td>videoStatNew</td>\n",
       "      <td>https://ok.ru/</td>\n",
       "      <td>REQ</td>\n",
       "      <td>1518768614925</td>\n",
       "      <td>None</td>\n",
       "      <td>https://ok.ru/dk</td>\n",
       "      <td>Mozilla/5.0 (Windows NT 5.1) AppleWebKit/537.3...</td>\n",
       "      <td>null</td>\n",
       "    </tr>\n",
       "    <tr>\n",
       "      <th>241412</th>\n",
       "      <td>NaN</td>\n",
       "      <td>None</td>\n",
       "      <td>aSOUjJ21zcb40ucUGKicwg==</td>\n",
       "      <td>None</td>\n",
       "      <td>None</td>\n",
       "      <td>None</td>\n",
       "      <td>UPGRADE</td>\n",
       "      <td>1518746018317</td>\n",
       "      <td>None</td>\n",
       "      <td>http://ok.ru/videoembed/199337183932</td>\n",
       "      <td>Mozilla/5.0 (compatible; YandexBot/3.0; +http:...</td>\n",
       "      <td>null</td>\n",
       "    </tr>\n",
       "    <tr>\n",
       "      <th>412214</th>\n",
       "      <td>-6.581258e+18</td>\n",
       "      <td>None</td>\n",
       "      <td>2ez+D2rc8XDri06DWD6zpQ==</td>\n",
       "      <td>GET</td>\n",
       "      <td>WidgetGroup</td>\n",
       "      <td>https://nsportal.ru/shkola/biologiya/library/2...</td>\n",
       "      <td>NAV</td>\n",
       "      <td>1518783120397</td>\n",
       "      <td>WidgetGroup</td>\n",
       "      <td>https://connect.ok.ru/dk</td>\n",
       "      <td>Mozilla/5.0 (iPhone; CPU iPhone OS 10_3_3 like...</td>\n",
       "      <td>null</td>\n",
       "    </tr>\n",
       "    <tr>\n",
       "      <th>875773</th>\n",
       "      <td>3.265704e+18</td>\n",
       "      <td>None</td>\n",
       "      <td>bLsUSGpXY7LnnndT8YvDGA==</td>\n",
       "      <td>GET</td>\n",
       "      <td>spring-mvc</td>\n",
       "      <td>https://ok.ru/</td>\n",
       "      <td>REQ</td>\n",
       "      <td>1518740726797</td>\n",
       "      <td>None</td>\n",
       "      <td>https://ok.ru/web-api/pts/video.player</td>\n",
       "      <td>Mozilla/5.0 (Windows NT 6.1; rv:51.0) Gecko/20...</td>\n",
       "      <td>null</td>\n",
       "    </tr>\n",
       "    <tr>\n",
       "      <th>338907</th>\n",
       "      <td>-1.480562e+18</td>\n",
       "      <td>None</td>\n",
       "      <td>oWZXIWJamReTA8pg2lV8eg==</td>\n",
       "      <td>GET</td>\n",
       "      <td>anonymFriendRestricted</td>\n",
       "      <td>https://ok.ru</td>\n",
       "      <td>NAV</td>\n",
       "      <td>1518799462925</td>\n",
       "      <td>anonymFriendRestricted</td>\n",
       "      <td>https://ok.ru/profile/515102403488</td>\n",
       "      <td>Mozilla/5.0 (Macintosh; Intel Mac OS X 10_12_2...</td>\n",
       "      <td>null</td>\n",
       "    </tr>\n",
       "  </tbody>\n",
       "</table>\n",
       "</div>"
      ],
      "text/plain": [
       "           browserId  from                        ip method  \\\n",
       "140962  1.847157e+18  None  UN4KSZub9Z/20BFMFx1z4g==   POST   \n",
       "241412           NaN  None  aSOUjJ21zcb40ucUGKicwg==   None   \n",
       "412214 -6.581258e+18  None  2ez+D2rc8XDri06DWD6zpQ==    GET   \n",
       "875773  3.265704e+18  None  bLsUSGpXY7LnnndT8YvDGA==    GET   \n",
       "338907 -1.480562e+18  None  oWZXIWJamReTA8pg2lV8eg==    GET   \n",
       "\n",
       "                     operation  \\\n",
       "140962            videoStatNew   \n",
       "241412                    None   \n",
       "412214             WidgetGroup   \n",
       "875773              spring-mvc   \n",
       "338907  anonymFriendRestricted   \n",
       "\n",
       "                                                 referrer requestType  \\\n",
       "140962                                     https://ok.ru/         REQ   \n",
       "241412                                               None     UPGRADE   \n",
       "412214  https://nsportal.ru/shkola/biologiya/library/2...         NAV   \n",
       "875773                                     https://ok.ru/         REQ   \n",
       "338907                                      https://ok.ru         NAV   \n",
       "\n",
       "            timestamp                      to  \\\n",
       "140962  1518768614925                    None   \n",
       "241412  1518746018317                    None   \n",
       "412214  1518783120397             WidgetGroup   \n",
       "875773  1518740726797                    None   \n",
       "338907  1518799462925  anonymFriendRestricted   \n",
       "\n",
       "                                           url  \\\n",
       "140962                        https://ok.ru/dk   \n",
       "241412    http://ok.ru/videoembed/199337183932   \n",
       "412214                https://connect.ok.ru/dk   \n",
       "875773  https://ok.ru/web-api/pts/video.player   \n",
       "338907      https://ok.ru/profile/515102403488   \n",
       "\n",
       "                                                userAgent userId  \n",
       "140962  Mozilla/5.0 (Windows NT 5.1) AppleWebKit/537.3...   null  \n",
       "241412  Mozilla/5.0 (compatible; YandexBot/3.0; +http:...   null  \n",
       "412214  Mozilla/5.0 (iPhone; CPU iPhone OS 10_3_3 like...   null  \n",
       "875773  Mozilla/5.0 (Windows NT 6.1; rv:51.0) Gecko/20...   null  \n",
       "338907  Mozilla/5.0 (Macintosh; Intel Mac OS X 10_12_2...   null  "
      ]
     },
     "execution_count": 29,
     "metadata": {},
     "output_type": "execute_result"
    }
   ],
   "source": [
    "anonym_http.head()"
   ]
  },
  {
   "cell_type": "code",
   "execution_count": 30,
   "metadata": {},
   "outputs": [
    {
     "data": {
      "text/plain": [
       "(1471, 2)"
      ]
     },
     "execution_count": 30,
     "metadata": {},
     "output_type": "execute_result"
    }
   ],
   "source": [
    "bots.head()\n",
    "bots.shape"
   ]
  },
  {
   "cell_type": "code",
   "execution_count": 31,
   "metadata": {},
   "outputs": [
    {
     "data": {
      "text/plain": [
       "(3478, 12)"
      ]
     },
     "execution_count": 31,
     "metadata": {},
     "output_type": "execute_result"
    }
   ],
   "source": [
    "anonym_http.shape"
   ]
  },
  {
   "cell_type": "code",
   "execution_count": 32,
   "metadata": {},
   "outputs": [],
   "source": [
    "# anonym_http = anonym_http.sample(frac=0.03)"
   ]
  },
  {
   "cell_type": "code",
   "execution_count": 33,
   "metadata": {},
   "outputs": [],
   "source": [
    "anonym_http['bot_or_user'] = anonym_http['browserId'].apply(lambda x: 1 if x in bots['browserId'].values else 0)"
   ]
  },
  {
   "cell_type": "code",
   "execution_count": 34,
   "metadata": {},
   "outputs": [
    {
     "data": {
      "text/plain": [
       "0"
      ]
     },
     "execution_count": 34,
     "metadata": {},
     "output_type": "execute_result"
    }
   ],
   "source": [
    "len(anonym_http[anonym_http['bot_or_user'] == 1])"
   ]
  },
  {
   "cell_type": "markdown",
   "metadata": {},
   "source": [
    "### Сделаем sparse matrix "
   ]
  },
  {
   "cell_type": "code",
   "execution_count": 35,
   "metadata": {},
   "outputs": [
    {
     "name": "stdout",
     "output_type": "stream",
     "text": [
      "имеем 68 уникальных операций\n"
     ]
    }
   ],
   "source": [
    "print('имеем {} уникальных операций'.format(anonym_http['operation'].unique().shape[0]))"
   ]
  },
  {
   "cell_type": "code",
   "execution_count": 36,
   "metadata": {},
   "outputs": [],
   "source": [
    "# закодируем операции интами\n",
    "dict_op = {}\n",
    "\n",
    "counter = 0\n",
    "for op in anonym_http['operation'].unique():\n",
    "    dict_op[op] = counter\n",
    "    counter += 1"
   ]
  },
  {
   "cell_type": "code",
   "execution_count": 37,
   "metadata": {},
   "outputs": [
    {
     "data": {
      "text/plain": [
       "array(['REQ', 'UPGRADE', 'NAV', 'CSP'], dtype=object)"
      ]
     },
     "execution_count": 37,
     "metadata": {},
     "output_type": "execute_result"
    }
   ],
   "source": [
    "anonym_http['requestType'].unique()"
   ]
  },
  {
   "cell_type": "code",
   "execution_count": 38,
   "metadata": {},
   "outputs": [
    {
     "data": {
      "text/plain": [
       "REQ        1830\n",
       "NAV        1193\n",
       "UPGRADE     421\n",
       "CSP          34\n",
       "Name: requestType, dtype: int64"
      ]
     },
     "execution_count": 38,
     "metadata": {},
     "output_type": "execute_result"
    }
   ],
   "source": [
    "anonym_http['requestType'].value_counts()"
   ]
  },
  {
   "cell_type": "code",
   "execution_count": 39,
   "metadata": {},
   "outputs": [],
   "source": [
    "# запилю сразу requestType\n",
    "# dict_req = {}\n",
    "\n",
    "# c = 0\n",
    "# for rt in anonym_http['requestType']:\n",
    "#     dict_req[rt] = c\n",
    "#     c += 1\n",
    "    \n",
    "# anonym_http['requestType'] = anonym_http['requestType'].apply(lambda x: dict_req[x])    "
   ]
  },
  {
   "cell_type": "code",
   "execution_count": 40,
   "metadata": {},
   "outputs": [],
   "source": [
    "anonym_http['operation'] = anonym_http['operation'].apply(lambda x: dict_op[x]);"
   ]
  },
  {
   "cell_type": "code",
   "execution_count": 41,
   "metadata": {},
   "outputs": [],
   "source": [
    "from sklearn.preprocessing import OneHotEncoder"
   ]
  },
  {
   "cell_type": "code",
   "execution_count": 42,
   "metadata": {},
   "outputs": [],
   "source": [
    "enc = OneHotEncoder(sparse=True)"
   ]
  },
  {
   "cell_type": "code",
   "execution_count": 43,
   "metadata": {},
   "outputs": [
    {
     "data": {
      "text/html": [
       "<div>\n",
       "<style scoped>\n",
       "    .dataframe tbody tr th:only-of-type {\n",
       "        vertical-align: middle;\n",
       "    }\n",
       "\n",
       "    .dataframe tbody tr th {\n",
       "        vertical-align: top;\n",
       "    }\n",
       "\n",
       "    .dataframe thead th {\n",
       "        text-align: right;\n",
       "    }\n",
       "</style>\n",
       "<table border=\"1\" class=\"dataframe\">\n",
       "  <thead>\n",
       "    <tr style=\"text-align: right;\">\n",
       "      <th></th>\n",
       "      <th>0</th>\n",
       "      <th>1</th>\n",
       "      <th>2</th>\n",
       "      <th>3</th>\n",
       "      <th>4</th>\n",
       "      <th>5</th>\n",
       "      <th>6</th>\n",
       "      <th>7</th>\n",
       "      <th>8</th>\n",
       "      <th>9</th>\n",
       "      <th>...</th>\n",
       "      <th>58</th>\n",
       "      <th>59</th>\n",
       "      <th>60</th>\n",
       "      <th>61</th>\n",
       "      <th>62</th>\n",
       "      <th>63</th>\n",
       "      <th>64</th>\n",
       "      <th>65</th>\n",
       "      <th>66</th>\n",
       "      <th>67</th>\n",
       "    </tr>\n",
       "  </thead>\n",
       "  <tbody>\n",
       "    <tr>\n",
       "      <th>0</th>\n",
       "      <td>1.0</td>\n",
       "      <td>0.0</td>\n",
       "      <td>0.0</td>\n",
       "      <td>0.0</td>\n",
       "      <td>0.0</td>\n",
       "      <td>0.0</td>\n",
       "      <td>0.0</td>\n",
       "      <td>0.0</td>\n",
       "      <td>0.0</td>\n",
       "      <td>0.0</td>\n",
       "      <td>...</td>\n",
       "      <td>0.0</td>\n",
       "      <td>0.0</td>\n",
       "      <td>0.0</td>\n",
       "      <td>0.0</td>\n",
       "      <td>0.0</td>\n",
       "      <td>0.0</td>\n",
       "      <td>0.0</td>\n",
       "      <td>0.0</td>\n",
       "      <td>0.0</td>\n",
       "      <td>0.0</td>\n",
       "    </tr>\n",
       "    <tr>\n",
       "      <th>1</th>\n",
       "      <td>0.0</td>\n",
       "      <td>1.0</td>\n",
       "      <td>0.0</td>\n",
       "      <td>0.0</td>\n",
       "      <td>0.0</td>\n",
       "      <td>0.0</td>\n",
       "      <td>0.0</td>\n",
       "      <td>0.0</td>\n",
       "      <td>0.0</td>\n",
       "      <td>0.0</td>\n",
       "      <td>...</td>\n",
       "      <td>0.0</td>\n",
       "      <td>0.0</td>\n",
       "      <td>0.0</td>\n",
       "      <td>0.0</td>\n",
       "      <td>0.0</td>\n",
       "      <td>0.0</td>\n",
       "      <td>0.0</td>\n",
       "      <td>0.0</td>\n",
       "      <td>0.0</td>\n",
       "      <td>0.0</td>\n",
       "    </tr>\n",
       "    <tr>\n",
       "      <th>2</th>\n",
       "      <td>0.0</td>\n",
       "      <td>0.0</td>\n",
       "      <td>1.0</td>\n",
       "      <td>0.0</td>\n",
       "      <td>0.0</td>\n",
       "      <td>0.0</td>\n",
       "      <td>0.0</td>\n",
       "      <td>0.0</td>\n",
       "      <td>0.0</td>\n",
       "      <td>0.0</td>\n",
       "      <td>...</td>\n",
       "      <td>0.0</td>\n",
       "      <td>0.0</td>\n",
       "      <td>0.0</td>\n",
       "      <td>0.0</td>\n",
       "      <td>0.0</td>\n",
       "      <td>0.0</td>\n",
       "      <td>0.0</td>\n",
       "      <td>0.0</td>\n",
       "      <td>0.0</td>\n",
       "      <td>0.0</td>\n",
       "    </tr>\n",
       "    <tr>\n",
       "      <th>3</th>\n",
       "      <td>0.0</td>\n",
       "      <td>0.0</td>\n",
       "      <td>0.0</td>\n",
       "      <td>1.0</td>\n",
       "      <td>0.0</td>\n",
       "      <td>0.0</td>\n",
       "      <td>0.0</td>\n",
       "      <td>0.0</td>\n",
       "      <td>0.0</td>\n",
       "      <td>0.0</td>\n",
       "      <td>...</td>\n",
       "      <td>0.0</td>\n",
       "      <td>0.0</td>\n",
       "      <td>0.0</td>\n",
       "      <td>0.0</td>\n",
       "      <td>0.0</td>\n",
       "      <td>0.0</td>\n",
       "      <td>0.0</td>\n",
       "      <td>0.0</td>\n",
       "      <td>0.0</td>\n",
       "      <td>0.0</td>\n",
       "    </tr>\n",
       "    <tr>\n",
       "      <th>4</th>\n",
       "      <td>0.0</td>\n",
       "      <td>0.0</td>\n",
       "      <td>0.0</td>\n",
       "      <td>0.0</td>\n",
       "      <td>1.0</td>\n",
       "      <td>0.0</td>\n",
       "      <td>0.0</td>\n",
       "      <td>0.0</td>\n",
       "      <td>0.0</td>\n",
       "      <td>0.0</td>\n",
       "      <td>...</td>\n",
       "      <td>0.0</td>\n",
       "      <td>0.0</td>\n",
       "      <td>0.0</td>\n",
       "      <td>0.0</td>\n",
       "      <td>0.0</td>\n",
       "      <td>0.0</td>\n",
       "      <td>0.0</td>\n",
       "      <td>0.0</td>\n",
       "      <td>0.0</td>\n",
       "      <td>0.0</td>\n",
       "    </tr>\n",
       "  </tbody>\n",
       "</table>\n",
       "<p>5 rows × 68 columns</p>\n",
       "</div>"
      ],
      "text/plain": [
       "    0    1    2    3    4    5    6    7    8    9  ...    58   59   60   61  \\\n",
       "0  1.0  0.0  0.0  0.0  0.0  0.0  0.0  0.0  0.0  0.0 ...   0.0  0.0  0.0  0.0   \n",
       "1  0.0  1.0  0.0  0.0  0.0  0.0  0.0  0.0  0.0  0.0 ...   0.0  0.0  0.0  0.0   \n",
       "2  0.0  0.0  1.0  0.0  0.0  0.0  0.0  0.0  0.0  0.0 ...   0.0  0.0  0.0  0.0   \n",
       "3  0.0  0.0  0.0  1.0  0.0  0.0  0.0  0.0  0.0  0.0 ...   0.0  0.0  0.0  0.0   \n",
       "4  0.0  0.0  0.0  0.0  1.0  0.0  0.0  0.0  0.0  0.0 ...   0.0  0.0  0.0  0.0   \n",
       "\n",
       "    62   63   64   65   66   67  \n",
       "0  0.0  0.0  0.0  0.0  0.0  0.0  \n",
       "1  0.0  0.0  0.0  0.0  0.0  0.0  \n",
       "2  0.0  0.0  0.0  0.0  0.0  0.0  \n",
       "3  0.0  0.0  0.0  0.0  0.0  0.0  \n",
       "4  0.0  0.0  0.0  0.0  0.0  0.0  \n",
       "\n",
       "[5 rows x 68 columns]"
      ]
     },
     "execution_count": 43,
     "metadata": {},
     "output_type": "execute_result"
    }
   ],
   "source": [
    "encoded_categorical_columns = pd.DataFrame(enc.fit_transform(anonym_http[['operation']]).toarray())\n",
    "encoded_categorical_columns.head()"
   ]
  },
  {
   "cell_type": "code",
   "execution_count": 44,
   "metadata": {},
   "outputs": [
    {
     "data": {
      "text/plain": [
       "pandas.core.frame.DataFrame"
      ]
     },
     "execution_count": 44,
     "metadata": {},
     "output_type": "execute_result"
    }
   ],
   "source": [
    "type(encoded_categorical_columns)"
   ]
  },
  {
   "cell_type": "code",
   "execution_count": 45,
   "metadata": {},
   "outputs": [
    {
     "ename": "TypeError",
     "evalue": "assign() keywords must be strings",
     "output_type": "error",
     "traceback": [
      "\u001b[0;31m---------------------------------------------------------------------------\u001b[0m",
      "\u001b[0;31mTypeError\u001b[0m                                 Traceback (most recent call last)",
      "\u001b[0;32m<ipython-input-45-f2ac0626dab2>\u001b[0m in \u001b[0;36m<module>\u001b[0;34m()\u001b[0m\n\u001b[0;32m----> 1\u001b[0;31m \u001b[0manonym_http\u001b[0m\u001b[0;34m.\u001b[0m\u001b[0massign\u001b[0m\u001b[0;34m(\u001b[0m\u001b[0;34m**\u001b[0m\u001b[0mencoded_categorical_columns\u001b[0m\u001b[0;34m)\u001b[0m\u001b[0;34m\u001b[0m\u001b[0m\n\u001b[0m",
      "\u001b[0;31mTypeError\u001b[0m: assign() keywords must be strings"
     ]
    }
   ],
   "source": [
    "anonym_http.assign(**encoded_categorical_columns)"
   ]
  },
  {
   "cell_type": "code",
   "execution_count": 22,
   "metadata": {
    "scrolled": true
   },
   "outputs": [
    {
     "data": {
      "text/html": [
       "<div>\n",
       "<style scoped>\n",
       "    .dataframe tbody tr th:only-of-type {\n",
       "        vertical-align: middle;\n",
       "    }\n",
       "\n",
       "    .dataframe tbody tr th {\n",
       "        vertical-align: top;\n",
       "    }\n",
       "\n",
       "    .dataframe thead th {\n",
       "        text-align: right;\n",
       "    }\n",
       "</style>\n",
       "<table border=\"1\" class=\"dataframe\">\n",
       "  <thead>\n",
       "    <tr style=\"text-align: right;\">\n",
       "      <th></th>\n",
       "      <th>browserId</th>\n",
       "      <th>from</th>\n",
       "      <th>ip</th>\n",
       "      <th>method</th>\n",
       "      <th>operation</th>\n",
       "      <th>referrer</th>\n",
       "      <th>requestType</th>\n",
       "      <th>timestamp</th>\n",
       "      <th>to</th>\n",
       "      <th>url</th>\n",
       "      <th>userAgent</th>\n",
       "      <th>userId</th>\n",
       "      <th>bot_or_user</th>\n",
       "    </tr>\n",
       "  </thead>\n",
       "  <tbody>\n",
       "    <tr>\n",
       "      <th>348248</th>\n",
       "      <td>9.202510e+18</td>\n",
       "      <td>None</td>\n",
       "      <td>gP1faoushrJQujT2iKlyyA==</td>\n",
       "      <td>GET</td>\n",
       "      <td>0.0</td>\n",
       "      <td>None</td>\n",
       "      <td>NAV</td>\n",
       "      <td>1.518797e+12</td>\n",
       "      <td>anonymFriendAltGroup</td>\n",
       "      <td>https://ok.ru/profile/584587738157/groups</td>\n",
       "      <td>Apache-HttpAsyncClient/4.0.2 (java 1.5)</td>\n",
       "      <td>null</td>\n",
       "      <td>0.0</td>\n",
       "    </tr>\n",
       "    <tr>\n",
       "      <th>74200</th>\n",
       "      <td>NaN</td>\n",
       "      <td>NaN</td>\n",
       "      <td>NaN</td>\n",
       "      <td>NaN</td>\n",
       "      <td>NaN</td>\n",
       "      <td>NaN</td>\n",
       "      <td>NaN</td>\n",
       "      <td>NaN</td>\n",
       "      <td>NaN</td>\n",
       "      <td>NaN</td>\n",
       "      <td>NaN</td>\n",
       "      <td>NaN</td>\n",
       "      <td>NaN</td>\n",
       "    </tr>\n",
       "    <tr>\n",
       "      <th>146307</th>\n",
       "      <td>NaN</td>\n",
       "      <td>NaN</td>\n",
       "      <td>NaN</td>\n",
       "      <td>NaN</td>\n",
       "      <td>NaN</td>\n",
       "      <td>NaN</td>\n",
       "      <td>NaN</td>\n",
       "      <td>NaN</td>\n",
       "      <td>NaN</td>\n",
       "      <td>NaN</td>\n",
       "      <td>NaN</td>\n",
       "      <td>NaN</td>\n",
       "      <td>NaN</td>\n",
       "    </tr>\n",
       "    <tr>\n",
       "      <th>990083</th>\n",
       "      <td>NaN</td>\n",
       "      <td>NaN</td>\n",
       "      <td>NaN</td>\n",
       "      <td>NaN</td>\n",
       "      <td>NaN</td>\n",
       "      <td>NaN</td>\n",
       "      <td>NaN</td>\n",
       "      <td>NaN</td>\n",
       "      <td>NaN</td>\n",
       "      <td>NaN</td>\n",
       "      <td>NaN</td>\n",
       "      <td>NaN</td>\n",
       "      <td>NaN</td>\n",
       "    </tr>\n",
       "    <tr>\n",
       "      <th>515700</th>\n",
       "      <td>NaN</td>\n",
       "      <td>NaN</td>\n",
       "      <td>NaN</td>\n",
       "      <td>NaN</td>\n",
       "      <td>NaN</td>\n",
       "      <td>NaN</td>\n",
       "      <td>NaN</td>\n",
       "      <td>NaN</td>\n",
       "      <td>NaN</td>\n",
       "      <td>NaN</td>\n",
       "      <td>NaN</td>\n",
       "      <td>NaN</td>\n",
       "      <td>NaN</td>\n",
       "    </tr>\n",
       "  </tbody>\n",
       "</table>\n",
       "</div>"
      ],
      "text/plain": [
       "           browserId  from                        ip method  operation  \\\n",
       "348248  9.202510e+18  None  gP1faoushrJQujT2iKlyyA==    GET        0.0   \n",
       "74200            NaN   NaN                       NaN    NaN        NaN   \n",
       "146307           NaN   NaN                       NaN    NaN        NaN   \n",
       "990083           NaN   NaN                       NaN    NaN        NaN   \n",
       "515700           NaN   NaN                       NaN    NaN        NaN   \n",
       "\n",
       "       referrer requestType     timestamp                    to  \\\n",
       "348248     None         NAV  1.518797e+12  anonymFriendAltGroup   \n",
       "74200       NaN         NaN           NaN                   NaN   \n",
       "146307      NaN         NaN           NaN                   NaN   \n",
       "990083      NaN         NaN           NaN                   NaN   \n",
       "515700      NaN         NaN           NaN                   NaN   \n",
       "\n",
       "                                              url  \\\n",
       "348248  https://ok.ru/profile/584587738157/groups   \n",
       "74200                                         NaN   \n",
       "146307                                        NaN   \n",
       "990083                                        NaN   \n",
       "515700                                        NaN   \n",
       "\n",
       "                                      userAgent userId  bot_or_user  \n",
       "348248  Apache-HttpAsyncClient/4.0.2 (java 1.5)   null          0.0  \n",
       "74200                                       NaN    NaN          NaN  \n",
       "146307                                      NaN    NaN          NaN  \n",
       "990083                                      NaN    NaN          NaN  \n",
       "515700                                      NaN    NaN          NaN  "
      ]
     },
     "execution_count": 22,
     "metadata": {},
     "output_type": "execute_result"
    }
   ],
   "source": [
    "anonym_http.head()"
   ]
  },
  {
   "cell_type": "code",
   "execution_count": null,
   "metadata": {},
   "outputs": [],
   "source": []
  },
  {
   "cell_type": "code",
   "execution_count": null,
   "metadata": {},
   "outputs": [],
   "source": []
  }
 ],
 "metadata": {
  "kernelspec": {
   "display_name": "Python 3",
   "language": "python",
   "name": "python3"
  },
  "language_info": {
   "codemirror_mode": {
    "name": "ipython",
    "version": 3
   },
   "file_extension": ".py",
   "mimetype": "text/x-python",
   "name": "python",
   "nbconvert_exporter": "python",
   "pygments_lexer": "ipython3",
   "version": "3.5.2"
  }
 },
 "nbformat": 4,
 "nbformat_minor": 2
}
